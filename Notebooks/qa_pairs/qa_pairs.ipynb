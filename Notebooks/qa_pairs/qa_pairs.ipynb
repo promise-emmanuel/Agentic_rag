{
 "cells": [
  {
   "cell_type": "code",
   "execution_count": null,
   "id": "c40f8b0c",
   "metadata": {},
   "outputs": [],
   "source": [
    "%load_ext autoreload\n",
    "%autoreload 2\n",
    "%load_ext dotenv\n",
    "%dotenv"
   ]
  },
  {
   "cell_type": "code",
   "execution_count": 2,
   "id": "2c34af58",
   "metadata": {},
   "outputs": [],
   "source": [
    "from dotenv import load_dotenv, find_dotenv\n",
    "from llama_index.core import SimpleDirectoryReader\n",
    "import pandas as pd\n",
    "\n",
    "#load environment variables from .env file\n",
    "_ = load_dotenv"
   ]
  },
  {
   "cell_type": "code",
   "execution_count": 5,
   "id": "defb06b3",
   "metadata": {},
   "outputs": [
    {
     "name": "stdout",
     "output_type": "stream",
     "text": [
      "81\n"
     ]
    }
   ],
   "source": [
    "from llama_index.core.node_parser import SentenceSplitter\n",
    "\n",
    "documents = SimpleDirectoryReader(input_files=[\"../../data/Pmg_lds.md\", \"../../data/handbook.md\"]).load_data()\n",
    "node_parser = SentenceSplitter(chunk_size=2048, chunk_overlap=100)\n",
    "nodes = node_parser.get_nodes_from_documents(documents)\n",
    "# print(nodes[38])\n",
    "print(len(nodes))"
   ]
  },
  {
   "cell_type": "code",
   "execution_count": 6,
   "id": "0fc51b10",
   "metadata": {},
   "outputs": [
    {
     "name": "stdout",
     "output_type": "stream",
     "text": [
      "CWD: /home/promise/projects/CSE499/Agentic_rag/Notebooks/qa_pairs\n",
      "Loaded 2 documents\n",
      "Document 0: ../../data/Pmg_lds.md → 550833 characters\n",
      "  start:  ## Preach My Gospel (D&C 50:14) (Page 5)  | Chapters | First Presidency Message | page no | | --- |\n",
      "  end:   and will strengthen their faith in the Savior. - Love the Lord and serve Him the very best you can. \n",
      "Document 1: ../../data/handbook.md → 64640 characters\n",
      "  start: # Message from the First Presidency and Quorum of the Twelve Apostles  Dear Fellow Missionary:  Afte\n",
      "  end:   on, and when they taught, they taught with power and authority of God” (Alma 17:1–3; italics added).\n"
     ]
    },
    {
     "name": "stderr",
     "output_type": "stream",
     "text": [
      "/tmp/ipykernel_175806/667638478.py:17: DeprecationWarning: Call to deprecated function (or staticmethod) extra_info. ('extra_info' is deprecated, use 'metadata' instead.) -- Deprecated since version 0.12.2.\n",
      "  path = doc.extra_info.get(\"file_path\", f\"doc#{i}\")\n"
     ]
    }
   ],
   "source": [
    "import os\n",
    "from llama_index.core import SimpleDirectoryReader\n",
    "\n",
    "# 1. Print your current working directory so you know where paths are relative to\n",
    "print(\"CWD:\", os.getcwd())\n",
    "\n",
    "# 2. Load your documents\n",
    "docs = SimpleDirectoryReader(\n",
    "    input_files=[\"../../data/Pmg_lds.md\", \"../../data/handbook.md\"]\n",
    ").load_data()\n",
    "\n",
    "# 3. Confirm how many Document objects you got\n",
    "print(f\"Loaded {len(docs)} documents\")\n",
    "\n",
    "# 4. For each one, print its file path (if available) and the length of its text\n",
    "for i, doc in enumerate(docs):\n",
    "    path = doc.extra_info.get(\"file_path\", f\"doc#{i}\")\n",
    "    text = doc.text or \"\"\n",
    "    print(f\"Document {i}: {path} → {len(text)} characters\")\n",
    "    # Optional: peek at the first/last 100 chars\n",
    "    print(\"  start:\", text[:100].replace(\"\\n\", \" \"))\n",
    "    print(\"  end:  \", text[-100:].replace(\"\\n\", \" \"))\n"
   ]
  },
  {
   "cell_type": "code",
   "execution_count": 7,
   "id": "bca0c7d2",
   "metadata": {},
   "outputs": [
    {
     "name": "stdout",
     "output_type": "stream",
     "text": [
      "CWD: /home/promise/projects/CSE499/Agentic_rag/Notebooks/qa_pairs\n",
      "Loaded 2 documents\n",
      "\n",
      "Document 0: 550,833 characters\n",
      "Document 1: 64,640 characters\n",
      "\n",
      "Doc 0 produced 73 nodes (chunk_size=2048, overlap=100)\n",
      "Doc 1 produced 8 nodes (chunk_size=2048, overlap=100)\n",
      "\n",
      "Combined total nodes: 81\n",
      "\n",
      "First 3 node snippets:\n",
      "— '## Preach My Gospel (D&C 50:14) (Page 5)\\n\\n| Chapters | First Presidency Message | page no |\\n| --- | --- | --- |\\n|  | Introduction: How Can I Best Use Preach My Gospel? | vii |\\n| 1 | What Is My Purpose as a Missionary? | 1 |\\n| 2 | How Do I Study Effectively and Prepare to Teach? | 17 |\\n| 3 | What Do I Study and Teach? | 29 |\\n|  | <li>Lesson 1: The Message of the Restoration of the Gospel of Jesus Christ</li> | 31 |\\n|  | <li>Lesson 2: The Plan of Salvation</li> | 47 |\\n|  | <li>Lesson 3: The Gospel of Jesus Christ</li> | 60 |\\n|  | <li>Lesson 4: The Commandments</l1? | 71 |\\n|  | Lesson 5: Laws and Ordinances | 82 |\\n| 4 | How Do I Recognize and Understand the Spirit? | 89 |\\n| 5 | What Is the Role of the Book of Mormon? | 103 |\\n| 6 | How Do I Develop Christlike Attributes? | 115 |\\n| 7 | How Can I Better Learn My Mission Language? | 127 |\\n| 8 | How Do I Use Time Wisely? | 137 |\\n| 9 | How Do I Find People to Teach? | 155 |\\n| 10 | How Can I Improve My Teaching Skills? | 175 |\\n| 11 | How Do I Help People Make and Keep Commitments? | 195 |\\n| 12 | How Do I Prepare People for Baptism and Confirmation? | 203 |\\n| 13 | How Do I Work with Stake and Ward Leaders? | 213 |\\n|  |Index | 225 |\\n\\n# First Presidency Message (Page 7)\\n\\nDear Fellow Missionary:\\n\\nWe compliment you on the great opportunity you have to be a missionary. There is no more compelling work than this, nor any which brings greater satisfaction.\\nPreach My Gospel is intended to help you be a better-prepared, more spiritually mature missionary and a more persuasive teacher. We urge you to use it daily in your personal and companion preparation, and in your district meetings and zone conferences. Study the referenced scriptures and learn the doctrines and principles.\\n\\nWe challenge you to rise to a new sense of commitment to assist our Father in Heaven in His glorious work. Every missionary has an important role in helping “to bring to pass the immortality and eternal life of man” (Moses 1:39).\\n\\nThe Lord will reward and richly bless you as you humbly and prayerfully serve Him. More happiness awaits you than you have ever experienced as you labor among His children.\\nThe First Presidency\\n\\n# Introduction: How Can I Best Use Preach My Gospel? (Page 9)\\n\\n## Preach My Gospel\\n\\nUse preach my gospel to meets your needs as a missionary. You can spend an entire study session on just a few paragraphs—or an entire chapter. You can study chapters in order or plan another sequence that better meets your needs. This flexibility allows you to study what you need when you need it and as directed by your mission president.\\n\\nAll of the chapters in Preach My Gospel will help prepare you to fulfill your purpose as a missionary. However, as you begin to study chapter 3, you may sense a difference in approach. Most of the chapters are addressed to you. Chapter 3 is addressed to a more general audience. You learn the doctrines in chapter 3 \\n- To strengthen your own gospel knowledge and testimony\\n- To teach others and prepare them to make and keep commitments and covenants.\\n\\nThe doctrines in some of the other chapters may also help you teach investigators and new members. For example, chapter 4, “How Do I Recognize and Understand the Spirit?” may help you teach some investigators about how to gain a testimony by the power of the Holy Ghost. Chapter 5, “What Is the Role of the Book of Mormon?” may help you resolve an investigator’s concerns about reading the Book of Mormon. Ideas from chapter 2, “How Do I Study Effectively and Prepare to Teach?” may help new converts gain more from their study of the Book of Mormon.\\n\\nPreach My Gospel focuses on the fundamentals of missionary work. It does not answer every question or situation you will encounter. You will be most effective as you follow the Spirit, search the scriptures, keep the commandments, and apply what you learn. \\nStudy the chapters throughout your mission. Apply what you learn. Evaluate your work. Missionaries who strive to prepare themselves daily and seek to improve regularly will receive direction from the Holy Ghost and see blessings in their lives.\\n\\n## The Missionary Lessons (Page 9)\\n\\nYou have the flexibility to teach the lessons in whatever way best helps people fully prepare for their baptism and confirmation. Your purpose is not only to cover the material; it is to help others come unto Christ through faith in Jesus Christ, repentance, baptism, receiving the gift of the Holy Ghost, and enduring to the end. Rarely should a lesson go over 45 minutes. You may find that time may only allow shorter teaching visits. In this case, you may need frequent, short teaching visits covering smaller portions of material.\\n\\nYou can teach the lessons in many ways. Which lesson you teach, when you teach it, and how much time you give to it are best determined by the needs of the investigator and the direction of the Spirit. Do not memorize the entire lesson.\\n\\n\\n## Personal Study, Companion Study, District Meetings, and Zone Conferences (Page 10)\\n\\nEffective study during your mission will help you fulfill your purpose as a missionary and strengthen your testimony of the gospel of Jesus Christ. Four of your most important study opportunities are personal study, companion study, district meetings, and zone conferences. Your daily schedule includes time for personal and companion study every day.\\n\\n### Missionary Daily Schedule\\n\\n- 6:30 a.m. Arise, pray, exercise (30 minutes), and prepare for the day.\\n\\n- 7:30 a.m. Breakfast.\\n\\n- 8:00 a.m. Personal study: the Book of Mormon, other scriptures, doctrines of the missionary lessons, other chapters from Preach My Gospel, the Missionary Handbook, and the Missionary Health Guide.\\n\\n- 9:00 a.m. Companion study: share what you have learned during personal study, prepare to teach, practice teaching, study chapters from Preach My Gospel, confirm plans for the day.\\n\\n- 10:00 a.m. Begin proselyting. Missionaries learning a language study that language for an additional 30 to 60 minutes, including planning language learning activities to use during the day.\\nMissionaries may take an hour for lunch and additional study, and an hour for dinner at times during the day that fit best with their proselyting. Normally dinner should be finished no later than 6:00 p.m.\\n\\n- 9:00 p.m. Return to living quarters (unless teaching a lesson; then return by 9:30) and plan the next day’s activities (30 minutes). Write in journal, prepare for bed, pray.\\n\\n- 10:30 p.m. Retire to bed.\\n\\n\\\\*In consultation with the Presidency of the Seventy or the Area Presidency, your mission president may modify this schedule to meet local circumstances.\\n\\n\\nWhat you learn in personal study will help you in companion study, district meeting, and zone conferences, where you can “teach one another the doctrine of the kingdom” (D&C 88:77). What you gain from your study sessions and district meetings will help you teach with spiritual power.\\n\\n### Personal Study (page 10)\\n\\nThe purpose of personal study is to strengthen your knowledge and testimony of the restored gospel and help you prepare to meet the needs of those you teach. In your personal study, focus on the standard works and the approved missionary library:\\n\\n- Jesus the Christ\\n- Our Heritage\\n- Our Search for Happiness\\n- True to the Faith\\n\\n\\nYou can make personal study effective as you:\\n- Read from the Book of Mormon and other scriptures.\\n- Study the doctrines of the missionary lessons.\\n- Study other chapters from Preach My Gospel.\\n\\n### Companion Study (Page 11)\\n\\nThe purpose of companion study is to (1) build unity in your companionship in order to teach by the Spirit and (2) focus on the progress of those you teach. You can make companion study effective as you:\\n\\n- Share insights with each other from personal study.\\n- Prepare for specific teaching appointments, member visits, finding opportunities, and other activities. Study material that helps you teach, find, and work more effectively. Discuss the people with whom you are working. Make plans to apply what you are learning.\\n- Throughout the day, continue to discuss the principles, goals, skills, and plans from companion study.\\n\\n### District Meetings (Page 11)\\n\\nThe purpose of district meeting is to “teach one another the doctrine of the kingdom” (D&C 88:77).\\n- District meetings are held each week for 60 to 90 minutes.\\n- The district leader plans and conducts the district meeting and may invite other missionaries to help teach.\\n- District meetings may include:\\n  – Sharing insights from personal and companion study.\\n  – Practicing the lessons in various settings.\\n  – Explaining, demonstrating, and practicing principles and skills described in Preach My Gospel.\\n  – Discussing the progress and needs of investigators.\\n  – Discussing and addressing challenges in the district.\\n  – Sharing experiences and testimonies of missionary work.\\n- District leaders may use district meeting to receive reports regarding the efforts of missionaries in the district. They should not set goals or quotas for other missionaries.'\n",
      "— '### Zone Conferences (Page 11)\\n\\nZone conferences are held under the direction of the mission president.\\n\\n\\n### Study Journal (Page 12)\\n\\nPreach My Gospel frequently asks that you use a study journal to help you understand, clarify, and remember what you are learning. Elder Richard G. Scott taught, “Knowledge carefully recorded is knowledge available in time of need. Spiritually sensitive information should be kept in a sacred place that communicates to the Lord how you treasure it. This practice enhances the likelihood of your receiving further light” (“Acquiring Spiritual Knowledge,” Ensign, Nov. 1993, 86). Review your study journal to recall spiritual experiences, see new insights, and recognize your growth.\\n\\nYour study journal may be a bound journal, a notebook, or a binder. Record and organize your thoughts and impressions in a way that fits how you learn. Develop your own system to easily access key information in the future. Use it often to review, access, and apply what you have learned. Use your study journal to take notes and record impressions during your personal and companion study, district meetings, zone conferences, and interviews with the mission president.\\n\\n### Ideas for Study and Application (Page 13)\\n\\nEach chapter concludes with additional ideas for personal study, companion study, district meetings, and zone conferences. This rich resource of learning activities provides examples of effective ways to learn the material. Be creative and seek inspiration to create additional activities each time you study or teach one of these sections. Complete these activities several times during your mission.\\n\\n## Missionaries Serving in Branches and Districts (Page 13)\\n\\nMany missionaries serve in branches and districts. Although this manual refers to wards and stakes, the same principles and approaches apply to branches and districts. The mission president will instruct you on any adjustments to make when working with branch and district leaders.\\n\\n\\n## Use by Ward Missionaries and Leaders (Page 13)\\n\\nPreach My Gospel is for the full-time missionaries of the Church. However, the principles and doctrines taught herein are also applicable to ward missionaries and leaders as they seek to build the Lord’s kingdom. Frequent study of this manual will enable them to fulfill their responsibilities as member missionaries and will foster unity with the full-time missionaries.\\n\\n> Beginning of Chapter 1 of 13 chapters in the preach my gospel manual\\n# What Is My Purpose as a Missionary? (Page 15)\\n\\n## Your Purpose (Page 15)\\n\\nInvite others to come unto Christ by helping them receive the restored gospel through faith in Jesus Christ and His Atonement, repentance, baptism, receiving the gift of the Holy Ghost, and enduring to the end.\\n\\n### Consider This (Page 15)\\n\\n- What is my purpose as a missionary?\\n- What is the gospel?\\n- Why do we preach the gospel?\\n- Why must I teach with power and authority?\\n- What is the message of the Restoration? Why is it so important?\\n- What is my responsibility in helping others become converted?\\n- How will I know whether I am a successful missionary?\\n  \\n> Questions to help study this chapter by looking for the answers\\n\\n\\n## Your Commission to Teach the Restored Gospel of Jesus Christ (Page 15)\\n\\nYou are surrounded by people. You pass them on the street, visit them in their homes, and travel among them. All of them are children of God, your brothers and sisters. God loves them just as He loves you. Many of these people are searching for purpose in life. They are concerned for their families. They need the sense of belonging that comes from the knowledge that they are children of God, members of His eternal family. They want to feel secure in a world of changing values. They want “peace in this world, and eternal life in the world to come” (D&C 59:23), but they are “kept from the truth because they know not where to find it” (D&C 123:12).\\nThe gospel of Jesus Christ as restored through the Prophet Joseph Smith will bless their families, meet their spiritual needs, and help them fulfill their deepest desires. Although they may not know why, they need relief from feelings of guilt that come from mistakes and sins. They need to experience the joy of redemption by receiving forgiveness of their sins and enjoying the gift of the Holy Ghost.\\n\\nAs an authorized representative of Jesus Christ, you can teach people with power and authority that “redemption cometh in and through the Holy Messiah,” and that no one “can dwell in the presence of God, save it be through the merits, and mercy, and grace of the Holy Messiah” (2 Nephi 2:6, 8). As people come to accept the restored gospel of Jesus Christ and receive the ordinances of baptism and confirmation by priesthood authority, they can be assured that they “are not cast off forever” (Book of Mormon, Title Page).\\n\\nAs your understanding of the Atonement of Jesus Christ grows, your desire to share the gospel will increase. You will feel, as Lehi did, the “great . . . importance to make these things known unto the inhabitants of the earth” (2 Nephi 2:8).\\n\\nPresident Ezra Taft Benson taught: “We are commanded by God to take this gospel to all the world. That is the cause that must unite us today. Only the gospel will save the world from the calamity of its own self-destruction. Only the gospel will unite men of all races and nationalities in peace. Only the gospel will bring joy, happiness, and salvation to the human family” (The Teachings of Ezra Taft Benson [1988], 167).\\n\\nYou are called to represent Jesus Christ in helping people become clean from their sins. You do this by inviting them to come unto Jesus Christ and become converted to His restored gospel. To come to the Savior they must have faith in Him unto repentance— making the necessary changes to bring their life into agreement with His teachings. You can help people develop such faith by teaching them the restored gospel by the Spirit and inviting them to commit to live according to its teachings. Keeping this commitment prepares them for the covenants of baptism and confirmation and the precious gift of the Holy Ghost. They are to put off the “natural man” and become a Saint “through the atonement of Christ the Lord” (Mosiah 3:19).'\n",
      "— '### Activity: Personal or Companion Study (Page 16)\\n\\nExamine the picture of the tree of life and as you study the vision of the tree of life found in 1 Nephi 8 and 11. In this vision, the tree of life symbolizes the love of God (see 1 Nephi 11:21–22).\\n- In the vision, what did the people need to do to be able to partake of the fruit? What do we need to do to receive all the blessings of the Atonement? In what ways do commitments and covenants help us partake of these blessings?\\n- As a missionary, what is your duty in helping others find and partake of the fruits of the gospel?\\n- What did Lehi desire after he had eaten the fruit? (See 1 Nephi 8:10–18.)\\n\\n## The Gospel Blesses Families (Page 17)\\n\\nThe message of the Restoration of the gospel of Jesus Christ blesses families. Because of the Restoration we understand God’s purpose for families: “The divine plan of happiness enables family relationships to be perpetuated beyond the grave. Sacred ordinances and covenants available in holy temples make it possible for individuals to return to the presence of God and for families to be united eternally” (“The Family: A Proclamation to the World,” Ensign, Nov. 1995, 102).\\n\\nOn earth, family associations can be the source of some of our greatest joy. Satan is attacking the family on many fronts, and too many families are being destroyed by his efforts. The message of the restored gospel of Jesus Christ makes it possible for families to be united now and in eternity. By living the principles of the gospel, families can experience peace, joy, and a sense of belonging and identity in this life. Through the light of the gospel, families can resolve misunderstandings, contentions, and challenges. Families torn by discord can be healed through repentance, forgiveness, and faith in the power of the Atonement of Jesus Christ. “Happiness in family life is most likely to be achieved when founded upon the teachings of the Lord Jesus Christ. Successful marriages and families are established and maintained on principles of faith, prayer, repentance, forgiveness, respect, love, compassion, work, and wholesome recreational activities” (Ensign, Nov. 1995, 102). Strive to find and teach families—a father, mother, and children—who can support one\\n\\nStrive to find and teach families - a father, mother, and children, who can support one another in living the gospel and eventually be sealed as a family unit by restored priesthood authority.\\n\\n## Teaching by the Spirit (Page 17)\\n\\nBecause the gospel of Jesus Christ is the “power of God unto salvation to every one that believeth” (Romans 1:16), the message of the Restoration of the gospel must be taught by divine power—the power of the Holy Ghost, who is the third member of the Godhead. He is often called the Spirit, and one of His roles is to teach and testify of the truth. As you teach by that power, the Holy Ghost will:\\n- Teach you new truths and bring the doctrines you have studied to your remembrance (see John 14:26).\\n- Give you words to speak in the very moment you need them (see D&C 84:85).\\n- Carry your message to the hearts of the people you teach (see 2 Nephi 33:1).\\n- Testify of the truthfulness of your message and confirm your words (see D&C 100:5–8).\\n- Help you discern the needs of the people you are teaching (see Alma 12:7).\\n  \\nThe Spirit is essential for teaching the truths of the gospel in a way that builds faith in others. As you strive to develop the faith to rely on the Spirit, you should:\\n- Pray for the Spirit (see D&C 42:14).\\n- Purify your heart (see D&C 112:28).\\n- Keep the commandments (see D&C 20:77, 79).\\n- Diligently treasure up God’s word (see D&C 11:21; 84:85).\\n- Teach so that others understand your message and are edified (see D&C 50:13–22).\\n- Exercise faith (see Moroni 10:7).\\n\\nYou have been set apart for your sacred calling with the promise that the Spirit will be given as you meet the requirements set by the Lord. Enjoying the gifts of the Spirit should be one of your most earnest desires.\\n\\n\\n## The Power and Authority of Your Calling (Page 18)\\n\\nMissionaries are to go “in the power of the ordination wherewith [they have] been ordained, proclaiming glad tidings of great joy, even the everlasting gospel” (D&C 79:1). You have authority to preach the gospel. If you hold the priesthood, you have the authority to administer the ordinances thereof. As you prayerfully and worthily exercise that authority, you will receive spiritual power, which is evidence of the reality of your call. Do not be afraid or shy about fulfilling this commission. Just as the sons of Mosiah, you are to teach with the power and authority of God (see Alma 17:2–3).\\n\\nWhen you were set apart by priesthood authority, you received the right and privilege to represent the Lord. You received a ministerial certificate that verifies that authority to the world. President Spencer W. Kimball said: “The setting apart may be taken literally; it is a setting apart from sin, apart from the carnal; apart from everything which is crude, low, vicious, cheap, or vulgar; set apart from the world to a higher plane of thought and activity. The blessing is conditional upon faithful performance” (The Teachings of Spencer W. Kimball, ed. Edward L. Kimball [1982], 478).\\n\\nAlong with your authority comes a responsibility to live worthy of your calling. As the Lord’s representative, you are to be “an example of the believers” (1 Timothy 4:12). Strive to live according to God’s commandments and keep the covenants you made in the temple; know the scriptures; be courteous, on time, and dependable; follow missionary standards of conduct, dress, and grooming; love the people with whom you serve and work. Honor Christ’s name by your actions.\\n\\nIn addition to authority, you are also to exercise power in your work. The authority that you have received can lead to power. Indeed, spiritual power is one evidence that your authority is real. Spiritual power is a gift that makes it possible for you to do your work more effectively.\\n\\nYour power and authority should be evident as you work and teach. Power may be manifest in many things you do, such as:\\n- Being led by the Spirit to say what the Lord would have you say at just the right moment (see D&C 84:85).\\n- Receiving guidance about where to go or what to do (see D&C 28:15; 31:11; 75:26–27).\\n- Having your testimony confirmed by the witness of the Spirit (see 2 Nephi 33:1; D&C 100:5–8).\\n- Taking part in ordinances of salvation (see D&C 84:19–20).\\n- Giving priesthood blessings if you are an elder (see James 5:14–15).\\n- Praying with and for the people you work with (see Alma 6:6; 8:18–22; 10:7–11; 31:26–35; D&C 75:19).\\n- Expressing love for the Lord, your family, fellow missionaries, and the people you serve.\\n\\n#### Scripture Study (Page 19)\\n\\n- How do you receive power?\\nStudy Alma 17:2–3, D&C 53:3, 1 Corinthians 2:4 for answers to the question\\n\\n#### Activity: Personal or Companion Study (Page 19)\\n\\nLook at the painting of Christ ordaining the Apostles, and then read John 15:1–16.\\n- In what way is Christ the vine? How are you a branch of that vine? How does your setting apart relate to this relationship?\\n- Read again your ministerial certificate. Record your feelings and thoughts about what you read. Each time you study this chapter, repeat this process. Note how your feelings change over time.\\n- Study Doctrine and Covenants 109:13–15, 21–30, 38–39, 55–57, which are excerpts from the Prophet Joseph Smith’s inspired dedicatory prayer for the Kirtland Temple. What blessings did Joseph Smith request for the faithful?'\n",
      "- '> 4.9.2\\n\\n### General Standards for Grooming\\nFollow healthy grooming standards:\\n\\n- Bathe daily, if possible.\\n\\n- Brush your teeth regularly.\\n\\n- Use deodorant daily.\\n\\n- Wash your hair frequently.\\n\\n- Wash your hands regularly, including before preparing food and after using the toilet.\\n\\n- Wear sunscreen.\\n\\n- Choose a neat, professional hairstyle that is easy to maintain.\\n\\n\\n\\n\\n# Priesthood Authority and Ordinances\\n\\nPriesthood is the authority that God gives His children to bring salvation to all. Priesthood authority is governed by priesthood leaders who receive and exercise priesthood keys. Since the scriptures state that “all other authorities [and] offices in the church are appendages to this [Melchizedek] priesthood” (Doctrine and Covenants 107:5), all that is done under the direction of those priesthood keys is done with priesthood authority.\\n\\nWhen a woman is set apart to preach the gospel as a full-time missionary, she acts under priesthood authority to perform a priesthood function. Anyone with a calling received from someone holding priesthood keys exercises priesthood authority in performing her or his assigned duties.\\n\\nIf you are a Melchizedek Priesthood holder, you will have opportunities to participate in priesthood ordinances and blessings.\\n\\nFor more information see section 7.11, “Priesthood Ordinances and Blessings.”\\n\\n# Completion of Your Mission\\n> 6.0\\n\\n## Introduction\\nPrepare yourself now to continue your life as a disciple of Jesus Christ and as a faithful member of The Church of Jesus Christ of Latter-day Saints when you return home and as you fulfill your life’s mission.\\n\\n> 6.1\\n\\n## Staying Connected\\nContinue to communicate with those you have taught and worked with on your mission, including your mission leaders. Support and strengthen them through your words and example, and celebrate important events in their lives.\\n\\n> 6.2\\n\\n## Returning Home from Your Mission\\nBecause you remain a missionary until you have been released by your stake president, you are expected to follow all missionary standards until that time. Consider returning home directly. This is especially important if you are serving in a country other than your own where visa requirements are enforced. Delaying your return home could make it difficult for future missionaries to obtain travel visas. If you meet family to travel home, seek counsel and direction from your mission president in advance.\\n\\nYou may not complete your missionary service in another mission or request to be moved to another mission after your release date in order to be the companion of a relative.\\n\\nWhen you return home, arrange with your home stake president to be released as soon as possible.\\n\\nAs soon as you can after returning home, get screened for tuberculosis, even if you were tested for it before your mission and do not have symptoms.\\n\\n> 6.3\\n\\n## Serving and Growing after Your Mission\\nWhen you return home, continue to live the gospel standards. Make sure to:\\n\\nPray and study the gospel daily.\\n\\nAttend and participate in your home or young single adult ward.\\n\\nSeek opportunities to serve in the temple if there is one nearby.\\n\\nAttend institute or religious education classes.\\n\\nSeek education and employment opportunities through Church and other resources.\\n\\nLive so that you will experience the kind of joy described in the Book of Mormon when Alma the Younger met fellow missionaries later in life:\\n\\n“And now it came to pass that as Alma was journeying from the land of Gideon southward, away to the land of Manti, behold, to his astonishment, he met with the sons of Mosiah journeying towards the land of Zarahemla.\\n\\n“… Therefore Alma did rejoice exceedingly to see his brethren; and what added more to his joy, they were still his brethren in the Lord; yea, and they had waxed strong in the knowledge of the truth; for they were men of a sound understanding and they had searched the scriptures diligently, that they might know the word of God.\\n\\n“But this is not all; they had given themselves to much prayer, and fasting; therefore they had the spirit of prophecy, and the spirit of revelation, and when they taught, they taught with power and authority of God” (Alma 17:1–3; italics added).'\n"
     ]
    }
   ],
   "source": [
    "import os\n",
    "from llama_index.core import SimpleDirectoryReader\n",
    "from llama_index.core.node_parser import SentenceSplitter\n",
    "\n",
    "# 1) Confirm where we are and load the docs\n",
    "print(\"CWD:\", os.getcwd())\n",
    "docs = SimpleDirectoryReader(\n",
    "    input_files=[\n",
    "        \"../../data/Pmg_lds.md\",\n",
    "        \"../../data/handbook.md\"\n",
    "    ]\n",
    ").load_data()\n",
    "print(f\"Loaded {len(docs)} documents\\n\")\n",
    "\n",
    "# 2) Print per‑doc character counts\n",
    "for i, doc in enumerate(docs):\n",
    "    text = doc.text or \"\"\n",
    "    print(f\"Document {i}: {len(text):,} characters\")\n",
    "print()\n",
    "\n",
    "# 3) Split each doc separately, count nodes per doc\n",
    "chunk_size = 2048\n",
    "chunk_overlap = 100\n",
    "node_parser = SentenceSplitter(chunk_size=chunk_size, chunk_overlap=chunk_overlap)\n",
    "\n",
    "for i, doc in enumerate(docs):\n",
    "    nodes_i = node_parser.get_nodes_from_documents([doc])\n",
    "    print(f\"Doc {i} produced {len(nodes_i)} nodes (chunk_size={chunk_size}, overlap={chunk_overlap})\")\n",
    "\n",
    "print()\n",
    "\n",
    "# 4) And finally split them together, total node count\n",
    "nodes = node_parser.get_nodes_from_documents(docs)\n",
    "print(f\"Combined total nodes: {len(nodes)}\\n\")\n",
    "\n",
    "# 5) Peek at the first few nodes\n",
    "print(\"First 3 node snippets:\")\n",
    "for n in nodes[:3]:\n",
    "    # show chars of each node\n",
    "    print(\"—\", repr(n.text[:]))\n",
    "print(\"-\", repr(nodes[-1].text[:]))"
   ]
  },
  {
   "cell_type": "markdown",
   "id": "99b7fec2",
   "metadata": {},
   "source": [
    "### qa with Ragas\n"
   ]
  },
  {
   "cell_type": "code",
   "execution_count": 9,
   "id": "f6943165",
   "metadata": {},
   "outputs": [],
   "source": [
    "# %pip install --upgrade \"huggingface_hub>=0.20.0\"\n",
    "\n",
    "from ragas.testset import TestsetGenerator\n",
    "from llama_index.llms.openai import OpenAI\n",
    "from llama_index.embeddings.openai import OpenAIEmbedding\n",
    "\n",
    "# generator with openai models\n",
    "generator_llm = OpenAI(model=\"gpt-4o\")\n",
    "embeddings = OpenAIEmbedding(model=\"text-embedding-3-large\")\n",
    "\n",
    "generator = TestsetGenerator.from_llama_index(\n",
    "    llm=generator_llm,\n",
    "    embedding_model=embeddings,\n",
    ")"
   ]
  },
  {
   "cell_type": "code",
   "execution_count": 10,
   "id": "76e4a6c5",
   "metadata": {},
   "outputs": [
    {
     "data": {
      "application/vnd.jupyter.widget-view+json": {
       "model_id": "283a65e3ea4945f294ac83c7b79b3fb5",
       "version_major": 2,
       "version_minor": 0
      },
      "text/plain": [
       "Applying HeadlinesExtractor:   0%|          | 0/79 [00:00<?, ?it/s]"
      ]
     },
     "metadata": {},
     "output_type": "display_data"
    },
    {
     "data": {
      "application/vnd.jupyter.widget-view+json": {
       "model_id": "6f816414106a49118b5300a21623763e",
       "version_major": 2,
       "version_minor": 0
      },
      "text/plain": [
       "Applying HeadlineSplitter:   0%|          | 0/81 [00:00<?, ?it/s]"
      ]
     },
     "metadata": {},
     "output_type": "display_data"
    },
    {
     "name": "stderr",
     "output_type": "stream",
     "text": [
      "unable to apply transformation: 'headlines' property not found in this node\n",
      "unable to apply transformation: 'headlines' property not found in this node\n"
     ]
    },
    {
     "data": {
      "application/vnd.jupyter.widget-view+json": {
       "model_id": "b2f43382ec0441c19d8a1e21fcfa3375",
       "version_major": 2,
       "version_minor": 0
      },
      "text/plain": [
       "Applying SummaryExtractor:   0%|          | 0/84 [00:00<?, ?it/s]"
      ]
     },
     "metadata": {},
     "output_type": "display_data"
    },
    {
     "name": "stderr",
     "output_type": "stream",
     "text": [
      "Property 'summary' already exists in node '764564'. Skipping!\n",
      "Property 'summary' already exists in node '2f36fe'. Skipping!\n",
      "Property 'summary' already exists in node 'ace78b'. Skipping!\n",
      "Property 'summary' already exists in node 'e0abd2'. Skipping!\n",
      "Property 'summary' already exists in node '6bbf1e'. Skipping!\n"
     ]
    },
    {
     "data": {
      "application/vnd.jupyter.widget-view+json": {
       "model_id": "bee5f6a576c54319870ef2c8c322b2d9",
       "version_major": 2,
       "version_minor": 0
      },
      "text/plain": [
       "Applying CustomNodeFilter:   0%|          | 0/208 [00:00<?, ?it/s]"
      ]
     },
     "metadata": {},
     "output_type": "display_data"
    },
    {
     "data": {
      "application/vnd.jupyter.widget-view+json": {
       "model_id": "f32026f7b73a43799ef11493edbc743b",
       "version_major": 2,
       "version_minor": 0
      },
      "text/plain": [
       "Applying [EmbeddingExtractor, ThemesExtractor, NERExtractor]:   0%|          | 0/476 [00:00<?, ?it/s]"
      ]
     },
     "metadata": {},
     "output_type": "display_data"
    },
    {
     "name": "stderr",
     "output_type": "stream",
     "text": [
      "Property 'summary_embedding' already exists in node '2f36fe'. Skipping!\n",
      "Property 'summary_embedding' already exists in node '764564'. Skipping!\n",
      "Property 'summary_embedding' already exists in node 'ace78b'. Skipping!\n",
      "Property 'summary_embedding' already exists in node 'e0abd2'. Skipping!\n",
      "Property 'summary_embedding' already exists in node '6bbf1e'. Skipping!\n"
     ]
    },
    {
     "data": {
      "application/vnd.jupyter.widget-view+json": {
       "model_id": "fb942c5fc8014e4c9c56e736eeb9621b",
       "version_major": 2,
       "version_minor": 0
      },
      "text/plain": [
       "Applying [CosineSimilarityBuilder, OverlapScoreBuilder]:   0%|          | 0/2 [00:00<?, ?it/s]"
      ]
     },
     "metadata": {},
     "output_type": "display_data"
    },
    {
     "data": {
      "application/vnd.jupyter.widget-view+json": {
       "model_id": "6ffa8a8f19b34cdd90c8c301e0a3300d",
       "version_major": 2,
       "version_minor": 0
      },
      "text/plain": [
       "Generating personas:   0%|          | 0/3 [00:00<?, ?it/s]"
      ]
     },
     "metadata": {},
     "output_type": "display_data"
    },
    {
     "data": {
      "application/vnd.jupyter.widget-view+json": {
       "model_id": "dc7af318f8ae46f996cb95e81da30eb6",
       "version_major": 2,
       "version_minor": 0
      },
      "text/plain": [
       "Generating Scenarios:   0%|          | 0/3 [00:00<?, ?it/s]"
      ]
     },
     "metadata": {},
     "output_type": "display_data"
    },
    {
     "data": {
      "application/vnd.jupyter.widget-view+json": {
       "model_id": "36ac62177119456da0516c5208f1bdc1",
       "version_major": 2,
       "version_minor": 0
      },
      "text/plain": [
       "Generating Samples:   0%|          | 0/201 [00:00<?, ?it/s]"
      ]
     },
     "metadata": {},
     "output_type": "display_data"
    }
   ],
   "source": [
    "# generate testset\n",
    "testset = generator.generate_with_llamaindex_docs(\n",
    "    documents=nodes,\n",
    "    testset_size=200,\n",
    ")"
   ]
  },
  {
   "cell_type": "code",
   "execution_count": 37,
   "id": "23b22b6c",
   "metadata": {},
   "outputs": [
    {
     "data": {
      "text/html": [
       "<div>\n",
       "<style scoped>\n",
       "    .dataframe tbody tr th:only-of-type {\n",
       "        vertical-align: middle;\n",
       "    }\n",
       "\n",
       "    .dataframe tbody tr th {\n",
       "        vertical-align: top;\n",
       "    }\n",
       "\n",
       "    .dataframe thead th {\n",
       "        text-align: right;\n",
       "    }\n",
       "</style>\n",
       "<table border=\"1\" class=\"dataframe\">\n",
       "  <thead>\n",
       "    <tr style=\"text-align: right;\">\n",
       "      <th></th>\n",
       "      <th>user_input</th>\n",
       "      <th>retrieved_contexts</th>\n",
       "      <th>reference_contexts</th>\n",
       "      <th>response</th>\n",
       "      <th>reference</th>\n",
       "      <th>synthesizer_name</th>\n",
       "    </tr>\n",
       "  </thead>\n",
       "  <tbody>\n",
       "    <tr>\n",
       "      <th>196</th>\n",
       "      <td>How do the teachings in 3 Nephi 11 and 3 Nephi...</td>\n",
       "      <td>[Those who have repented of their sins and rec...</td>\n",
       "      <td>[&lt;1-hop&gt;\\n\\nIdeas for Study and Application (P...</td>\n",
       "      <td>The teachings in 3 Nephi 11 and 3 Nephi 28:10 ...</td>\n",
       "      <td>3 Nephi 11 is significant in the context of th...</td>\n",
       "      <td>multi_hop_specific_query_synthesizer</td>\n",
       "    </tr>\n",
       "    <tr>\n",
       "      <th>197</th>\n",
       "      <td>How does Ezra Taft Benson's emphasis on work a...</td>\n",
       "      <td>[“In a world ever more dangerous . . . the Boo...</td>\n",
       "      <td>[&lt;1-hop&gt;\\n\\nWork, work, work—there is no satis...</td>\n",
       "      <td>Ezra Taft Benson's emphasis on work highlights...</td>\n",
       "      <td>Ezra Taft Benson emphasized the importance of ...</td>\n",
       "      <td>multi_hop_specific_query_synthesizer</td>\n",
       "    </tr>\n",
       "    <tr>\n",
       "      <th>198</th>\n",
       "      <td>How can the teachings in 1 Nephi 13:39 and 1 N...</td>\n",
       "      <td>[## The Message of the Restoration: The Founda...</td>\n",
       "      <td>[&lt;1-hop&gt;\\n\\nScripture Study (Page 22) How shou...</td>\n",
       "      <td>1 Nephi 13:39 can be used in missionary work t...</td>\n",
       "      <td>The teachings in 1 Nephi 13:39 and 1 Nephi 1 c...</td>\n",
       "      <td>multi_hop_specific_query_synthesizer</td>\n",
       "    </tr>\n",
       "    <tr>\n",
       "      <th>199</th>\n",
       "      <td>How do D&amp;C 84:85 and D&amp;C 68:25 guide missionar...</td>\n",
       "      <td>[#### Scripture Study (Page 33)\\nWhat do the s...</td>\n",
       "      <td>[&lt;1-hop&gt;\\n\\nThe Power and Authority of Your Ca...</td>\n",
       "      <td>D&amp;C 84:85 and D&amp;C 68:25 guide missionaries in ...</td>\n",
       "      <td>D&amp;C 84:85 guides missionaries by emphasizing t...</td>\n",
       "      <td>multi_hop_specific_query_synthesizer</td>\n",
       "    </tr>\n",
       "    <tr>\n",
       "      <th>200</th>\n",
       "      <td>How does D&amp;C 42:12 emphasize the importance of...</td>\n",
       "      <td>[| Scriptures | Principles\\n| --- | --- |\\n| D...</td>\n",
       "      <td>[&lt;1-hop&gt;\\n\\nUse the Scriptures (Page 194) The ...</td>\n",
       "      <td>D&amp;C 42:12 emphasizes the importance of using s...</td>\n",
       "      <td>D&amp;C 42:12 emphasizes the importance of using s...</td>\n",
       "      <td>multi_hop_specific_query_synthesizer</td>\n",
       "    </tr>\n",
       "  </tbody>\n",
       "</table>\n",
       "</div>"
      ],
      "text/plain": [
       "                                            user_input  \\\n",
       "196  How do the teachings in 3 Nephi 11 and 3 Nephi...   \n",
       "197  How does Ezra Taft Benson's emphasis on work a...   \n",
       "198  How can the teachings in 1 Nephi 13:39 and 1 N...   \n",
       "199  How do D&C 84:85 and D&C 68:25 guide missionar...   \n",
       "200  How does D&C 42:12 emphasize the importance of...   \n",
       "\n",
       "                                    retrieved_contexts  \\\n",
       "196  [Those who have repented of their sins and rec...   \n",
       "197  [“In a world ever more dangerous . . . the Boo...   \n",
       "198  [## The Message of the Restoration: The Founda...   \n",
       "199  [#### Scripture Study (Page 33)\\nWhat do the s...   \n",
       "200  [| Scriptures | Principles\\n| --- | --- |\\n| D...   \n",
       "\n",
       "                                    reference_contexts  \\\n",
       "196  [<1-hop>\\n\\nIdeas for Study and Application (P...   \n",
       "197  [<1-hop>\\n\\nWork, work, work—there is no satis...   \n",
       "198  [<1-hop>\\n\\nScripture Study (Page 22) How shou...   \n",
       "199  [<1-hop>\\n\\nThe Power and Authority of Your Ca...   \n",
       "200  [<1-hop>\\n\\nUse the Scriptures (Page 194) The ...   \n",
       "\n",
       "                                              response  \\\n",
       "196  The teachings in 3 Nephi 11 and 3 Nephi 28:10 ...   \n",
       "197  Ezra Taft Benson's emphasis on work highlights...   \n",
       "198  1 Nephi 13:39 can be used in missionary work t...   \n",
       "199  D&C 84:85 and D&C 68:25 guide missionaries in ...   \n",
       "200  D&C 42:12 emphasizes the importance of using s...   \n",
       "\n",
       "                                             reference  \\\n",
       "196  3 Nephi 11 is significant in the context of th...   \n",
       "197  Ezra Taft Benson emphasized the importance of ...   \n",
       "198  The teachings in 1 Nephi 13:39 and 1 Nephi 1 c...   \n",
       "199  D&C 84:85 guides missionaries by emphasizing t...   \n",
       "200  D&C 42:12 emphasizes the importance of using s...   \n",
       "\n",
       "                         synthesizer_name  \n",
       "196  multi_hop_specific_query_synthesizer  \n",
       "197  multi_hop_specific_query_synthesizer  \n",
       "198  multi_hop_specific_query_synthesizer  \n",
       "199  multi_hop_specific_query_synthesizer  \n",
       "200  multi_hop_specific_query_synthesizer  "
      ]
     },
     "execution_count": 37,
     "metadata": {},
     "output_type": "execute_result"
    }
   ],
   "source": [
    "df = testset.to_pandas()\n",
    "df.tail(5)"
   ]
  },
  {
   "cell_type": "code",
   "execution_count": 14,
   "id": "803d005e",
   "metadata": {},
   "outputs": [],
   "source": [
    "df.reset_index(drop=True, inplace=True)\n",
    "df.to_csv(f\"../../processed_data/raw/combined_qa_pair_2.csv\", index=False)"
   ]
  },
  {
   "cell_type": "markdown",
   "id": "e7215dc8",
   "metadata": {},
   "source": [
    "## Data Clean-up"
   ]
  },
  {
   "cell_type": "code",
   "execution_count": 15,
   "id": "31fb4b46",
   "metadata": {},
   "outputs": [
    {
     "data": {
      "text/html": [
       "<div>\n",
       "<style scoped>\n",
       "    .dataframe tbody tr th:only-of-type {\n",
       "        vertical-align: middle;\n",
       "    }\n",
       "\n",
       "    .dataframe tbody tr th {\n",
       "        vertical-align: top;\n",
       "    }\n",
       "\n",
       "    .dataframe thead th {\n",
       "        text-align: right;\n",
       "    }\n",
       "</style>\n",
       "<table border=\"1\" class=\"dataframe\">\n",
       "  <thead>\n",
       "    <tr style=\"text-align: right;\">\n",
       "      <th></th>\n",
       "      <th>user_input</th>\n",
       "      <th>reference_contexts</th>\n",
       "      <th>reference</th>\n",
       "      <th>synthesizer_name</th>\n",
       "    </tr>\n",
       "  </thead>\n",
       "  <tbody>\n",
       "    <tr>\n",
       "      <th>196</th>\n",
       "      <td>How do the teachings in 3 Nephi 11 and 3 Nephi...</td>\n",
       "      <td>['&lt;1-hop&gt;\\n\\nIdeas for Study and Application (...</td>\n",
       "      <td>3 Nephi 11 is significant in the context of th...</td>\n",
       "      <td>multi_hop_specific_query_synthesizer</td>\n",
       "    </tr>\n",
       "    <tr>\n",
       "      <th>197</th>\n",
       "      <td>How does Ezra Taft Benson's emphasis on work a...</td>\n",
       "      <td>['&lt;1-hop&gt;\\n\\nWork, work, work—there is no sati...</td>\n",
       "      <td>Ezra Taft Benson emphasized the importance of ...</td>\n",
       "      <td>multi_hop_specific_query_synthesizer</td>\n",
       "    </tr>\n",
       "    <tr>\n",
       "      <th>198</th>\n",
       "      <td>How can the teachings in 1 Nephi 13:39 and 1 N...</td>\n",
       "      <td>['&lt;1-hop&gt;\\n\\nScripture Study (Page 22) How sho...</td>\n",
       "      <td>The teachings in 1 Nephi 13:39 and 1 Nephi 1 c...</td>\n",
       "      <td>multi_hop_specific_query_synthesizer</td>\n",
       "    </tr>\n",
       "    <tr>\n",
       "      <th>199</th>\n",
       "      <td>How do D&amp;C 84:85 and D&amp;C 68:25 guide missionar...</td>\n",
       "      <td>['&lt;1-hop&gt;\\n\\nThe Power and Authority of Your C...</td>\n",
       "      <td>D&amp;C 84:85 guides missionaries by emphasizing t...</td>\n",
       "      <td>multi_hop_specific_query_synthesizer</td>\n",
       "    </tr>\n",
       "    <tr>\n",
       "      <th>200</th>\n",
       "      <td>How does D&amp;C 42:12 emphasize the importance of...</td>\n",
       "      <td>['&lt;1-hop&gt;\\n\\nUse the Scriptures (Page 194) The...</td>\n",
       "      <td>D&amp;C 42:12 emphasizes the importance of using s...</td>\n",
       "      <td>multi_hop_specific_query_synthesizer</td>\n",
       "    </tr>\n",
       "  </tbody>\n",
       "</table>\n",
       "</div>"
      ],
      "text/plain": [
       "                                            user_input  \\\n",
       "196  How do the teachings in 3 Nephi 11 and 3 Nephi...   \n",
       "197  How does Ezra Taft Benson's emphasis on work a...   \n",
       "198  How can the teachings in 1 Nephi 13:39 and 1 N...   \n",
       "199  How do D&C 84:85 and D&C 68:25 guide missionar...   \n",
       "200  How does D&C 42:12 emphasize the importance of...   \n",
       "\n",
       "                                    reference_contexts  \\\n",
       "196  ['<1-hop>\\n\\nIdeas for Study and Application (...   \n",
       "197  ['<1-hop>\\n\\nWork, work, work—there is no sati...   \n",
       "198  ['<1-hop>\\n\\nScripture Study (Page 22) How sho...   \n",
       "199  ['<1-hop>\\n\\nThe Power and Authority of Your C...   \n",
       "200  ['<1-hop>\\n\\nUse the Scriptures (Page 194) The...   \n",
       "\n",
       "                                             reference  \\\n",
       "196  3 Nephi 11 is significant in the context of th...   \n",
       "197  Ezra Taft Benson emphasized the importance of ...   \n",
       "198  The teachings in 1 Nephi 13:39 and 1 Nephi 1 c...   \n",
       "199  D&C 84:85 guides missionaries by emphasizing t...   \n",
       "200  D&C 42:12 emphasizes the importance of using s...   \n",
       "\n",
       "                         synthesizer_name  \n",
       "196  multi_hop_specific_query_synthesizer  \n",
       "197  multi_hop_specific_query_synthesizer  \n",
       "198  multi_hop_specific_query_synthesizer  \n",
       "199  multi_hop_specific_query_synthesizer  \n",
       "200  multi_hop_specific_query_synthesizer  "
      ]
     },
     "execution_count": 15,
     "metadata": {},
     "output_type": "execute_result"
    }
   ],
   "source": [
    "dataset = pd.read_csv(\"../../processed_data/raw/combined_qa_pair_2.csv\")\n",
    "dataset.tail()"
   ]
  },
  {
   "cell_type": "markdown",
   "id": "e7a561c6",
   "metadata": {},
   "source": [
    "#### drop rows with NA and duplicates values"
   ]
  },
  {
   "cell_type": "code",
   "execution_count": 38,
   "id": "f8f16b6e",
   "metadata": {},
   "outputs": [
    {
     "data": {
      "text/html": [
       "<div>\n",
       "<style scoped>\n",
       "    .dataframe tbody tr th:only-of-type {\n",
       "        vertical-align: middle;\n",
       "    }\n",
       "\n",
       "    .dataframe tbody tr th {\n",
       "        vertical-align: top;\n",
       "    }\n",
       "\n",
       "    .dataframe thead th {\n",
       "        text-align: right;\n",
       "    }\n",
       "</style>\n",
       "<table border=\"1\" class=\"dataframe\">\n",
       "  <thead>\n",
       "    <tr style=\"text-align: right;\">\n",
       "      <th></th>\n",
       "      <th>user_input</th>\n",
       "      <th>reference_contexts</th>\n",
       "      <th>reference</th>\n",
       "      <th>synthesizer_name</th>\n",
       "    </tr>\n",
       "  </thead>\n",
       "  <tbody>\n",
       "    <tr>\n",
       "      <th>196</th>\n",
       "      <td>How do the teachings in 3 Nephi 11 and 3 Nephi...</td>\n",
       "      <td>['&lt;1-hop&gt;\\n\\nIdeas for Study and Application (...</td>\n",
       "      <td>3 Nephi 11 is significant in the context of th...</td>\n",
       "      <td>multi_hop_specific_query_synthesizer</td>\n",
       "    </tr>\n",
       "    <tr>\n",
       "      <th>197</th>\n",
       "      <td>How does Ezra Taft Benson's emphasis on work a...</td>\n",
       "      <td>['&lt;1-hop&gt;\\n\\nWork, work, work—there is no sati...</td>\n",
       "      <td>Ezra Taft Benson emphasized the importance of ...</td>\n",
       "      <td>multi_hop_specific_query_synthesizer</td>\n",
       "    </tr>\n",
       "    <tr>\n",
       "      <th>198</th>\n",
       "      <td>How can the teachings in 1 Nephi 13:39 and 1 N...</td>\n",
       "      <td>['&lt;1-hop&gt;\\n\\nScripture Study (Page 22) How sho...</td>\n",
       "      <td>The teachings in 1 Nephi 13:39 and 1 Nephi 1 c...</td>\n",
       "      <td>multi_hop_specific_query_synthesizer</td>\n",
       "    </tr>\n",
       "    <tr>\n",
       "      <th>199</th>\n",
       "      <td>How do D&amp;C 84:85 and D&amp;C 68:25 guide missionar...</td>\n",
       "      <td>['&lt;1-hop&gt;\\n\\nThe Power and Authority of Your C...</td>\n",
       "      <td>D&amp;C 84:85 guides missionaries by emphasizing t...</td>\n",
       "      <td>multi_hop_specific_query_synthesizer</td>\n",
       "    </tr>\n",
       "    <tr>\n",
       "      <th>200</th>\n",
       "      <td>How does D&amp;C 42:12 emphasize the importance of...</td>\n",
       "      <td>['&lt;1-hop&gt;\\n\\nUse the Scriptures (Page 194) The...</td>\n",
       "      <td>D&amp;C 42:12 emphasizes the importance of using s...</td>\n",
       "      <td>multi_hop_specific_query_synthesizer</td>\n",
       "    </tr>\n",
       "  </tbody>\n",
       "</table>\n",
       "</div>"
      ],
      "text/plain": [
       "                                            user_input  \\\n",
       "196  How do the teachings in 3 Nephi 11 and 3 Nephi...   \n",
       "197  How does Ezra Taft Benson's emphasis on work a...   \n",
       "198  How can the teachings in 1 Nephi 13:39 and 1 N...   \n",
       "199  How do D&C 84:85 and D&C 68:25 guide missionar...   \n",
       "200  How does D&C 42:12 emphasize the importance of...   \n",
       "\n",
       "                                    reference_contexts  \\\n",
       "196  ['<1-hop>\\n\\nIdeas for Study and Application (...   \n",
       "197  ['<1-hop>\\n\\nWork, work, work—there is no sati...   \n",
       "198  ['<1-hop>\\n\\nScripture Study (Page 22) How sho...   \n",
       "199  ['<1-hop>\\n\\nThe Power and Authority of Your C...   \n",
       "200  ['<1-hop>\\n\\nUse the Scriptures (Page 194) The...   \n",
       "\n",
       "                                             reference  \\\n",
       "196  3 Nephi 11 is significant in the context of th...   \n",
       "197  Ezra Taft Benson emphasized the importance of ...   \n",
       "198  The teachings in 1 Nephi 13:39 and 1 Nephi 1 c...   \n",
       "199  D&C 84:85 guides missionaries by emphasizing t...   \n",
       "200  D&C 42:12 emphasizes the importance of using s...   \n",
       "\n",
       "                         synthesizer_name  \n",
       "196  multi_hop_specific_query_synthesizer  \n",
       "197  multi_hop_specific_query_synthesizer  \n",
       "198  multi_hop_specific_query_synthesizer  \n",
       "199  multi_hop_specific_query_synthesizer  \n",
       "200  multi_hop_specific_query_synthesizer  "
      ]
     },
     "execution_count": 38,
     "metadata": {},
     "output_type": "execute_result"
    }
   ],
   "source": [
    "df = dataset.drop_duplicates(subset=[\"user_input\", \"reference_contexts\", \"reference\"])\n",
    "df.tail()"
   ]
  },
  {
   "cell_type": "code",
   "execution_count": 39,
   "id": "7c76f018",
   "metadata": {},
   "outputs": [
    {
     "data": {
      "text/html": [
       "<div>\n",
       "<style scoped>\n",
       "    .dataframe tbody tr th:only-of-type {\n",
       "        vertical-align: middle;\n",
       "    }\n",
       "\n",
       "    .dataframe tbody tr th {\n",
       "        vertical-align: top;\n",
       "    }\n",
       "\n",
       "    .dataframe thead th {\n",
       "        text-align: right;\n",
       "    }\n",
       "</style>\n",
       "<table border=\"1\" class=\"dataframe\">\n",
       "  <thead>\n",
       "    <tr style=\"text-align: right;\">\n",
       "      <th></th>\n",
       "      <th>user_input</th>\n",
       "      <th>reference_contexts</th>\n",
       "      <th>reference</th>\n",
       "    </tr>\n",
       "  </thead>\n",
       "  <tbody>\n",
       "    <tr>\n",
       "      <th>0</th>\n",
       "      <td>Wht is the significance of Moses 1:39 in missi...</td>\n",
       "      <td>['## Preach My Gospel (D&amp;C 50:14) (Page 5) | C...</td>\n",
       "      <td>Moses 1:39 is significant in missionary work a...</td>\n",
       "    </tr>\n",
       "    <tr>\n",
       "      <th>1</th>\n",
       "      <td>How can missionaries help others come unto Chr...</td>\n",
       "      <td>['The Missionary Lessons (Page 9) You have the...</td>\n",
       "      <td>Missionaries can help others come unto Christ ...</td>\n",
       "    </tr>\n",
       "    <tr>\n",
       "      <th>2</th>\n",
       "      <td>Wht is the role of 'Jesus the Christ' in perso...</td>\n",
       "      <td>['Personal Study, Companion Study, District Me...</td>\n",
       "      <td>In personal study, 'Jesus the Christ' is part ...</td>\n",
       "    </tr>\n",
       "    <tr>\n",
       "      <th>3</th>\n",
       "      <td>What districts do in mission work?</td>\n",
       "      <td>['### Zone Conferences (Page 11) Zone conferen...</td>\n",
       "      <td>Many missionaries serve in branches and distri...</td>\n",
       "    </tr>\n",
       "    <tr>\n",
       "      <th>4</th>\n",
       "      <td>How can 'Preach My Gospel' be utilized by ward...</td>\n",
       "      <td>['Use by Ward Missionaries and Leaders (Page 1...</td>\n",
       "      <td>'Preach My Gospel' is primarily for the full-t...</td>\n",
       "    </tr>\n",
       "  </tbody>\n",
       "</table>\n",
       "</div>"
      ],
      "text/plain": [
       "                                          user_input  \\\n",
       "0  Wht is the significance of Moses 1:39 in missi...   \n",
       "1  How can missionaries help others come unto Chr...   \n",
       "2  Wht is the role of 'Jesus the Christ' in perso...   \n",
       "3                 What districts do in mission work?   \n",
       "4  How can 'Preach My Gospel' be utilized by ward...   \n",
       "\n",
       "                                  reference_contexts  \\\n",
       "0  ['## Preach My Gospel (D&C 50:14) (Page 5) | C...   \n",
       "1  ['The Missionary Lessons (Page 9) You have the...   \n",
       "2  ['Personal Study, Companion Study, District Me...   \n",
       "3  ['### Zone Conferences (Page 11) Zone conferen...   \n",
       "4  ['Use by Ward Missionaries and Leaders (Page 1...   \n",
       "\n",
       "                                           reference  \n",
       "0  Moses 1:39 is significant in missionary work a...  \n",
       "1  Missionaries can help others come unto Christ ...  \n",
       "2  In personal study, 'Jesus the Christ' is part ...  \n",
       "3  Many missionaries serve in branches and distri...  \n",
       "4  'Preach My Gospel' is primarily for the full-t...  "
      ]
     },
     "execution_count": 39,
     "metadata": {},
     "output_type": "execute_result"
    }
   ],
   "source": [
    "columns = [\"user_input\", \"reference_contexts\", \"reference\"]\n",
    "df = df[columns]\n",
    "df.head()"
   ]
  },
  {
   "cell_type": "markdown",
   "id": "d3f43c3b",
   "metadata": {},
   "source": [
    "### drop rows with NA values\n"
   ]
  },
  {
   "cell_type": "code",
   "execution_count": 40,
   "id": "231ade1c",
   "metadata": {},
   "outputs": [
    {
     "data": {
      "text/plain": [
       "201"
      ]
     },
     "execution_count": 40,
     "metadata": {},
     "output_type": "execute_result"
    }
   ],
   "source": [
    "len(df)"
   ]
  },
  {
   "cell_type": "code",
   "execution_count": 41,
   "id": "629f7438",
   "metadata": {},
   "outputs": [
    {
     "data": {
      "text/html": [
       "<div>\n",
       "<style scoped>\n",
       "    .dataframe tbody tr th:only-of-type {\n",
       "        vertical-align: middle;\n",
       "    }\n",
       "\n",
       "    .dataframe tbody tr th {\n",
       "        vertical-align: top;\n",
       "    }\n",
       "\n",
       "    .dataframe thead th {\n",
       "        text-align: right;\n",
       "    }\n",
       "</style>\n",
       "<table border=\"1\" class=\"dataframe\">\n",
       "  <thead>\n",
       "    <tr style=\"text-align: right;\">\n",
       "      <th></th>\n",
       "      <th>user_input</th>\n",
       "      <th>reference_contexts</th>\n",
       "      <th>reference</th>\n",
       "    </tr>\n",
       "  </thead>\n",
       "  <tbody>\n",
       "    <tr>\n",
       "      <th>196</th>\n",
       "      <td>How do the teachings in 3 Nephi 11 and 3 Nephi...</td>\n",
       "      <td>['&lt;1-hop&gt;\\n\\nIdeas for Study and Application (...</td>\n",
       "      <td>3 Nephi 11 is significant in the context of th...</td>\n",
       "    </tr>\n",
       "    <tr>\n",
       "      <th>197</th>\n",
       "      <td>How does Ezra Taft Benson's emphasis on work a...</td>\n",
       "      <td>['&lt;1-hop&gt;\\n\\nWork, work, work—there is no sati...</td>\n",
       "      <td>Ezra Taft Benson emphasized the importance of ...</td>\n",
       "    </tr>\n",
       "    <tr>\n",
       "      <th>198</th>\n",
       "      <td>How can the teachings in 1 Nephi 13:39 and 1 N...</td>\n",
       "      <td>['&lt;1-hop&gt;\\n\\nScripture Study (Page 22) How sho...</td>\n",
       "      <td>The teachings in 1 Nephi 13:39 and 1 Nephi 1 c...</td>\n",
       "    </tr>\n",
       "    <tr>\n",
       "      <th>199</th>\n",
       "      <td>How do D&amp;C 84:85 and D&amp;C 68:25 guide missionar...</td>\n",
       "      <td>['&lt;1-hop&gt;\\n\\nThe Power and Authority of Your C...</td>\n",
       "      <td>D&amp;C 84:85 guides missionaries by emphasizing t...</td>\n",
       "    </tr>\n",
       "    <tr>\n",
       "      <th>200</th>\n",
       "      <td>How does D&amp;C 42:12 emphasize the importance of...</td>\n",
       "      <td>['&lt;1-hop&gt;\\n\\nUse the Scriptures (Page 194) The...</td>\n",
       "      <td>D&amp;C 42:12 emphasizes the importance of using s...</td>\n",
       "    </tr>\n",
       "  </tbody>\n",
       "</table>\n",
       "</div>"
      ],
      "text/plain": [
       "                                            user_input  \\\n",
       "196  How do the teachings in 3 Nephi 11 and 3 Nephi...   \n",
       "197  How does Ezra Taft Benson's emphasis on work a...   \n",
       "198  How can the teachings in 1 Nephi 13:39 and 1 N...   \n",
       "199  How do D&C 84:85 and D&C 68:25 guide missionar...   \n",
       "200  How does D&C 42:12 emphasize the importance of...   \n",
       "\n",
       "                                    reference_contexts  \\\n",
       "196  ['<1-hop>\\n\\nIdeas for Study and Application (...   \n",
       "197  ['<1-hop>\\n\\nWork, work, work—there is no sati...   \n",
       "198  ['<1-hop>\\n\\nScripture Study (Page 22) How sho...   \n",
       "199  ['<1-hop>\\n\\nThe Power and Authority of Your C...   \n",
       "200  ['<1-hop>\\n\\nUse the Scriptures (Page 194) The...   \n",
       "\n",
       "                                             reference  \n",
       "196  3 Nephi 11 is significant in the context of th...  \n",
       "197  Ezra Taft Benson emphasized the importance of ...  \n",
       "198  The teachings in 1 Nephi 13:39 and 1 Nephi 1 c...  \n",
       "199  D&C 84:85 guides missionaries by emphasizing t...  \n",
       "200  D&C 42:12 emphasizes the importance of using s...  "
      ]
     },
     "execution_count": 41,
     "metadata": {},
     "output_type": "execute_result"
    }
   ],
   "source": [
    "df = df.dropna()\n",
    "df.tail()"
   ]
  },
  {
   "cell_type": "code",
   "execution_count": 43,
   "id": "8c3ad76b",
   "metadata": {},
   "outputs": [
    {
     "data": {
      "text/html": [
       "<div>\n",
       "<style scoped>\n",
       "    .dataframe tbody tr th:only-of-type {\n",
       "        vertical-align: middle;\n",
       "    }\n",
       "\n",
       "    .dataframe tbody tr th {\n",
       "        vertical-align: top;\n",
       "    }\n",
       "\n",
       "    .dataframe thead th {\n",
       "        text-align: right;\n",
       "    }\n",
       "</style>\n",
       "<table border=\"1\" class=\"dataframe\">\n",
       "  <thead>\n",
       "    <tr style=\"text-align: right;\">\n",
       "      <th></th>\n",
       "      <th>user_input</th>\n",
       "      <th>reference_contexts</th>\n",
       "      <th>reference</th>\n",
       "    </tr>\n",
       "  </thead>\n",
       "  <tbody>\n",
       "    <tr>\n",
       "      <th>0</th>\n",
       "      <td>Wht is the significance of Moses 1:39 in missi...</td>\n",
       "      <td>['## Preach My Gospel (D&amp;C 50:14) (Page 5) | C...</td>\n",
       "      <td>Moses 1:39 is significant in missionary work a...</td>\n",
       "    </tr>\n",
       "    <tr>\n",
       "      <th>1</th>\n",
       "      <td>How can missionaries help others come unto Chr...</td>\n",
       "      <td>['The Missionary Lessons (Page 9) You have the...</td>\n",
       "      <td>Missionaries can help others come unto Christ ...</td>\n",
       "    </tr>\n",
       "    <tr>\n",
       "      <th>2</th>\n",
       "      <td>Wht is the role of 'Jesus the Christ' in perso...</td>\n",
       "      <td>['Personal Study, Companion Study, District Me...</td>\n",
       "      <td>In personal study, 'Jesus the Christ' is part ...</td>\n",
       "    </tr>\n",
       "    <tr>\n",
       "      <th>3</th>\n",
       "      <td>What districts do in mission work?</td>\n",
       "      <td>['### Zone Conferences (Page 11) Zone conferen...</td>\n",
       "      <td>Many missionaries serve in branches and distri...</td>\n",
       "    </tr>\n",
       "    <tr>\n",
       "      <th>4</th>\n",
       "      <td>How can 'Preach My Gospel' be utilized by ward...</td>\n",
       "      <td>['Use by Ward Missionaries and Leaders (Page 1...</td>\n",
       "      <td>'Preach My Gospel' is primarily for the full-t...</td>\n",
       "    </tr>\n",
       "  </tbody>\n",
       "</table>\n",
       "</div>"
      ],
      "text/plain": [
       "                                          user_input  \\\n",
       "0  Wht is the significance of Moses 1:39 in missi...   \n",
       "1  How can missionaries help others come unto Chr...   \n",
       "2  Wht is the role of 'Jesus the Christ' in perso...   \n",
       "3                 What districts do in mission work?   \n",
       "4  How can 'Preach My Gospel' be utilized by ward...   \n",
       "\n",
       "                                  reference_contexts  \\\n",
       "0  ['## Preach My Gospel (D&C 50:14) (Page 5) | C...   \n",
       "1  ['The Missionary Lessons (Page 9) You have the...   \n",
       "2  ['Personal Study, Companion Study, District Me...   \n",
       "3  ['### Zone Conferences (Page 11) Zone conferen...   \n",
       "4  ['Use by Ward Missionaries and Leaders (Page 1...   \n",
       "\n",
       "                                           reference  \n",
       "0  Moses 1:39 is significant in missionary work a...  \n",
       "1  Missionaries can help others come unto Christ ...  \n",
       "2  In personal study, 'Jesus the Christ' is part ...  \n",
       "3  Many missionaries serve in branches and distri...  \n",
       "4  'Preach My Gospel' is primarily for the full-t...  "
      ]
     },
     "execution_count": 43,
     "metadata": {},
     "output_type": "execute_result"
    }
   ],
   "source": [
    "# Filter out rows where 'ground_truth' contains the unwanted phrase\n",
    "df_filtered = df[~df['reference'].str.contains(\"The answer to given question is not present in| As an AI|The context does not provide|I'm sorry,|The text doesn't provide information\")]\n",
    "\n",
    "# Display the filtered DataFrame\n",
    "df_filtered.head()"
   ]
  },
  {
   "cell_type": "code",
   "execution_count": 44,
   "id": "4daeb3ff",
   "metadata": {},
   "outputs": [
    {
     "data": {
      "text/plain": [
       "201"
      ]
     },
     "execution_count": 44,
     "metadata": {},
     "output_type": "execute_result"
    }
   ],
   "source": [
    "len(df_filtered)"
   ]
  },
  {
   "cell_type": "code",
   "execution_count": 45,
   "id": "f586eb29",
   "metadata": {},
   "outputs": [],
   "source": [
    "df_filtered.to_csv(f\"../../processed_data/processed/qa_pairs.csv\", index=False)"
   ]
  },
  {
   "cell_type": "markdown",
   "id": "49687967",
   "metadata": {},
   "source": [
    "### Evaluating the baseline with Ragas"
   ]
  },
  {
   "cell_type": "code",
   "execution_count": 29,
   "id": "9aebe731",
   "metadata": {},
   "outputs": [],
   "source": [
    "from llama_index.core import VectorStoreIndex, SimpleDirectoryReader\n",
    "from llama_index.core.agent.workflow import FunctionAgent\n",
    "from llama_index.llms.openai import OpenAI\n",
    "from dotenv import load_dotenv, find_dotenv\n",
    "\n",
    "\n",
    "\n",
    "# Load environment variables when running locally\n",
    "# Uncomment the next line if you have a .env file with your OpenAI API key\n",
    "_ = load_dotenv(find_dotenv())\n",
    "\n",
    "\n",
    "documents = SimpleDirectoryReader(input_files=[\"../../data/Pmg_lds.md\", \"../../data/handbook.md\"]).load_data()\n",
    "index = VectorStoreIndex.from_documents(documents)\n",
    "query_engine = index.as_query_engine()\n",
    "\n"
   ]
  },
  {
   "cell_type": "code",
   "execution_count": 32,
   "id": "6f2cbcb4",
   "metadata": {},
   "outputs": [],
   "source": [
    "from ragas.metrics import (\n",
    "    Faithfulness,\n",
    "    AnswerRelevancy,\n",
    "    ContextPrecision,\n",
    "    ContextRecall,\n",
    ")\n",
    "\n",
    "# init metrics with evaluator LLM\n",
    "from ragas.llms import LlamaIndexLLMWrapper\n",
    "\n",
    "evaluator_llm = LlamaIndexLLMWrapper(OpenAI(model=\"gpt-4o\"))\n",
    "metrics = [\n",
    "    Faithfulness(llm=evaluator_llm),\n",
    "    AnswerRelevancy(llm=evaluator_llm),\n",
    "    ContextPrecision(llm=evaluator_llm),\n",
    "    ContextRecall(llm=evaluator_llm),\n",
    "]"
   ]
  },
  {
   "cell_type": "code",
   "execution_count": 33,
   "id": "97269d3e",
   "metadata": {},
   "outputs": [
    {
     "data": {
      "text/plain": [
       "EvaluationDataset(features=['user_input', 'reference_contexts', 'reference'], len=201)"
      ]
     },
     "execution_count": 33,
     "metadata": {},
     "output_type": "execute_result"
    }
   ],
   "source": [
    "# convert to Ragas Evaluation Dataset\n",
    "ragas_dataset = testset.to_evaluation_dataset()\n",
    "ragas_dataset"
   ]
  },
  {
   "cell_type": "code",
   "execution_count": 34,
   "id": "7acc1582",
   "metadata": {},
   "outputs": [
    {
     "data": {
      "application/vnd.jupyter.widget-view+json": {
       "model_id": "06cd4db9bc784b6da60c046924a594e6",
       "version_major": 2,
       "version_minor": 0
      },
      "text/plain": [
       "Running Query Engine:   0%|          | 0/201 [00:00<?, ?it/s]"
      ]
     },
     "metadata": {},
     "output_type": "display_data"
    },
    {
     "data": {
      "application/vnd.jupyter.widget-view+json": {
       "model_id": "c47294b6540a43fab7fe5c9e0188ad6a",
       "version_major": 2,
       "version_minor": 0
      },
      "text/plain": [
       "Evaluating:   0%|          | 0/804 [00:00<?, ?it/s]"
      ]
     },
     "metadata": {},
     "output_type": "display_data"
    }
   ],
   "source": [
    "from ragas.integrations.llama_index import evaluate\n",
    "\n",
    "result = evaluate(\n",
    "    query_engine=query_engine,\n",
    "    metrics=metrics,\n",
    "    dataset=ragas_dataset,\n",
    ")"
   ]
  },
  {
   "cell_type": "code",
   "execution_count": 35,
   "id": "1844dde9",
   "metadata": {},
   "outputs": [
    {
     "data": {
      "text/html": [
       "<div>\n",
       "<style scoped>\n",
       "    .dataframe tbody tr th:only-of-type {\n",
       "        vertical-align: middle;\n",
       "    }\n",
       "\n",
       "    .dataframe tbody tr th {\n",
       "        vertical-align: top;\n",
       "    }\n",
       "\n",
       "    .dataframe thead th {\n",
       "        text-align: right;\n",
       "    }\n",
       "</style>\n",
       "<table border=\"1\" class=\"dataframe\">\n",
       "  <thead>\n",
       "    <tr style=\"text-align: right;\">\n",
       "      <th></th>\n",
       "      <th>user_input</th>\n",
       "      <th>retrieved_contexts</th>\n",
       "      <th>reference_contexts</th>\n",
       "      <th>response</th>\n",
       "      <th>reference</th>\n",
       "      <th>faithfulness</th>\n",
       "      <th>answer_relevancy</th>\n",
       "      <th>context_precision</th>\n",
       "      <th>context_recall</th>\n",
       "    </tr>\n",
       "  </thead>\n",
       "  <tbody>\n",
       "    <tr>\n",
       "      <th>0</th>\n",
       "      <td>Wht is the significance of Moses 1:39 in missi...</td>\n",
       "      <td>[. . mine elders to be moving swiftly . . . wh...</td>\n",
       "      <td>[## Preach My Gospel (D&amp;C 50:14) (Page 5) | Ch...</td>\n",
       "      <td>Moses 1:39 emphasizes the importance of God's ...</td>\n",
       "      <td>Moses 1:39 is significant in missionary work a...</td>\n",
       "      <td>0.571429</td>\n",
       "      <td>0.951846</td>\n",
       "      <td>0.0</td>\n",
       "      <td>0.0</td>\n",
       "    </tr>\n",
       "    <tr>\n",
       "      <th>1</th>\n",
       "      <td>How can missionaries help others come unto Chr...</td>\n",
       "      <td>[Next, answer each question as though you were...</td>\n",
       "      <td>[The Missionary Lessons (Page 9) You have the ...</td>\n",
       "      <td>Missionaries can help others come unto Christ ...</td>\n",
       "      <td>Missionaries can help others come unto Christ ...</td>\n",
       "      <td>1.000000</td>\n",
       "      <td>0.980402</td>\n",
       "      <td>1.0</td>\n",
       "      <td>0.5</td>\n",
       "    </tr>\n",
       "    <tr>\n",
       "      <th>2</th>\n",
       "      <td>Wht is the role of 'Jesus the Christ' in perso...</td>\n",
       "      <td>[- Identify an attribute you wish to study. Fo...</td>\n",
       "      <td>[Personal Study, Companion Study, District Mee...</td>\n",
       "      <td>The role of 'Jesus the Christ' in personal stu...</td>\n",
       "      <td>In personal study, 'Jesus the Christ' is part ...</td>\n",
       "      <td>1.000000</td>\n",
       "      <td>0.993469</td>\n",
       "      <td>0.0</td>\n",
       "      <td>0.0</td>\n",
       "    </tr>\n",
       "    <tr>\n",
       "      <th>3</th>\n",
       "      <td>What districts do in mission work?</td>\n",
       "      <td>[### District Meetings and Zone Conferences (P...</td>\n",
       "      <td>[### Zone Conferences (Page 11) Zone conferenc...</td>\n",
       "      <td>Districts in mission work involve reading diff...</td>\n",
       "      <td>Many missionaries serve in branches and distri...</td>\n",
       "      <td>1.000000</td>\n",
       "      <td>0.958170</td>\n",
       "      <td>0.0</td>\n",
       "      <td>1.0</td>\n",
       "    </tr>\n",
       "    <tr>\n",
       "      <th>4</th>\n",
       "      <td>How can 'Preach My Gospel' be utilized by ward...</td>\n",
       "      <td>[## Use by Ward Missionaries and Leaders (Page...</td>\n",
       "      <td>[Use by Ward Missionaries and Leaders (Page 13...</td>\n",
       "      <td>Ward missionaries and leaders can utilize 'Pre...</td>\n",
       "      <td>'Preach My Gospel' is primarily for the full-t...</td>\n",
       "      <td>0.666667</td>\n",
       "      <td>0.966533</td>\n",
       "      <td>1.0</td>\n",
       "      <td>1.0</td>\n",
       "    </tr>\n",
       "    <tr>\n",
       "      <th>...</th>\n",
       "      <td>...</td>\n",
       "      <td>...</td>\n",
       "      <td>...</td>\n",
       "      <td>...</td>\n",
       "      <td>...</td>\n",
       "      <td>...</td>\n",
       "      <td>...</td>\n",
       "      <td>...</td>\n",
       "      <td>...</td>\n",
       "    </tr>\n",
       "    <tr>\n",
       "      <th>196</th>\n",
       "      <td>How do the teachings in 3 Nephi 11 and 3 Nephi...</td>\n",
       "      <td>[Those who have repented of their sins and rec...</td>\n",
       "      <td>[&lt;1-hop&gt;\\n\\nIdeas for Study and Application (P...</td>\n",
       "      <td>The teachings in 3 Nephi 11 and 3 Nephi 28:10 ...</td>\n",
       "      <td>3 Nephi 11 is significant in the context of th...</td>\n",
       "      <td>0.000000</td>\n",
       "      <td>0.993707</td>\n",
       "      <td>1.0</td>\n",
       "      <td>1.0</td>\n",
       "    </tr>\n",
       "    <tr>\n",
       "      <th>197</th>\n",
       "      <td>How does Ezra Taft Benson's emphasis on work a...</td>\n",
       "      <td>[“In a world ever more dangerous . . . the Boo...</td>\n",
       "      <td>[&lt;1-hop&gt;\\n\\nWork, work, work—there is no satis...</td>\n",
       "      <td>Ezra Taft Benson's emphasis on work highlights...</td>\n",
       "      <td>Ezra Taft Benson emphasized the importance of ...</td>\n",
       "      <td>0.727273</td>\n",
       "      <td>0.941070</td>\n",
       "      <td>1.0</td>\n",
       "      <td>0.2</td>\n",
       "    </tr>\n",
       "    <tr>\n",
       "      <th>198</th>\n",
       "      <td>How can the teachings in 1 Nephi 13:39 and 1 N...</td>\n",
       "      <td>[## The Message of the Restoration: The Founda...</td>\n",
       "      <td>[&lt;1-hop&gt;\\n\\nScripture Study (Page 22) How shou...</td>\n",
       "      <td>1 Nephi 13:39 can be used in missionary work t...</td>\n",
       "      <td>The teachings in 1 Nephi 13:39 and 1 Nephi 1 c...</td>\n",
       "      <td>0.777778</td>\n",
       "      <td>0.950050</td>\n",
       "      <td>1.0</td>\n",
       "      <td>0.8</td>\n",
       "    </tr>\n",
       "    <tr>\n",
       "      <th>199</th>\n",
       "      <td>How do D&amp;C 84:85 and D&amp;C 68:25 guide missionar...</td>\n",
       "      <td>[#### Scripture Study (Page 33)\\nWhat do the s...</td>\n",
       "      <td>[&lt;1-hop&gt;\\n\\nThe Power and Authority of Your Ca...</td>\n",
       "      <td>D&amp;C 84:85 and D&amp;C 68:25 guide missionaries in ...</td>\n",
       "      <td>D&amp;C 84:85 guides missionaries by emphasizing t...</td>\n",
       "      <td>0.000000</td>\n",
       "      <td>0.969814</td>\n",
       "      <td>0.0</td>\n",
       "      <td>0.0</td>\n",
       "    </tr>\n",
       "    <tr>\n",
       "      <th>200</th>\n",
       "      <td>How does D&amp;C 42:12 emphasize the importance of...</td>\n",
       "      <td>[| Scriptures | Principles\\n| --- | --- |\\n| D...</td>\n",
       "      <td>[&lt;1-hop&gt;\\n\\nUse the Scriptures (Page 194) The ...</td>\n",
       "      <td>D&amp;C 42:12 emphasizes the importance of using s...</td>\n",
       "      <td>D&amp;C 42:12 emphasizes the importance of using s...</td>\n",
       "      <td>0.714286</td>\n",
       "      <td>0.935468</td>\n",
       "      <td>0.5</td>\n",
       "      <td>0.6</td>\n",
       "    </tr>\n",
       "  </tbody>\n",
       "</table>\n",
       "<p>201 rows × 9 columns</p>\n",
       "</div>"
      ],
      "text/plain": [
       "                                            user_input  \\\n",
       "0    Wht is the significance of Moses 1:39 in missi...   \n",
       "1    How can missionaries help others come unto Chr...   \n",
       "2    Wht is the role of 'Jesus the Christ' in perso...   \n",
       "3                   What districts do in mission work?   \n",
       "4    How can 'Preach My Gospel' be utilized by ward...   \n",
       "..                                                 ...   \n",
       "196  How do the teachings in 3 Nephi 11 and 3 Nephi...   \n",
       "197  How does Ezra Taft Benson's emphasis on work a...   \n",
       "198  How can the teachings in 1 Nephi 13:39 and 1 N...   \n",
       "199  How do D&C 84:85 and D&C 68:25 guide missionar...   \n",
       "200  How does D&C 42:12 emphasize the importance of...   \n",
       "\n",
       "                                    retrieved_contexts  \\\n",
       "0    [. . mine elders to be moving swiftly . . . wh...   \n",
       "1    [Next, answer each question as though you were...   \n",
       "2    [- Identify an attribute you wish to study. Fo...   \n",
       "3    [### District Meetings and Zone Conferences (P...   \n",
       "4    [## Use by Ward Missionaries and Leaders (Page...   \n",
       "..                                                 ...   \n",
       "196  [Those who have repented of their sins and rec...   \n",
       "197  [“In a world ever more dangerous . . . the Boo...   \n",
       "198  [## The Message of the Restoration: The Founda...   \n",
       "199  [#### Scripture Study (Page 33)\\nWhat do the s...   \n",
       "200  [| Scriptures | Principles\\n| --- | --- |\\n| D...   \n",
       "\n",
       "                                    reference_contexts  \\\n",
       "0    [## Preach My Gospel (D&C 50:14) (Page 5) | Ch...   \n",
       "1    [The Missionary Lessons (Page 9) You have the ...   \n",
       "2    [Personal Study, Companion Study, District Mee...   \n",
       "3    [### Zone Conferences (Page 11) Zone conferenc...   \n",
       "4    [Use by Ward Missionaries and Leaders (Page 13...   \n",
       "..                                                 ...   \n",
       "196  [<1-hop>\\n\\nIdeas for Study and Application (P...   \n",
       "197  [<1-hop>\\n\\nWork, work, work—there is no satis...   \n",
       "198  [<1-hop>\\n\\nScripture Study (Page 22) How shou...   \n",
       "199  [<1-hop>\\n\\nThe Power and Authority of Your Ca...   \n",
       "200  [<1-hop>\\n\\nUse the Scriptures (Page 194) The ...   \n",
       "\n",
       "                                              response  \\\n",
       "0    Moses 1:39 emphasizes the importance of God's ...   \n",
       "1    Missionaries can help others come unto Christ ...   \n",
       "2    The role of 'Jesus the Christ' in personal stu...   \n",
       "3    Districts in mission work involve reading diff...   \n",
       "4    Ward missionaries and leaders can utilize 'Pre...   \n",
       "..                                                 ...   \n",
       "196  The teachings in 3 Nephi 11 and 3 Nephi 28:10 ...   \n",
       "197  Ezra Taft Benson's emphasis on work highlights...   \n",
       "198  1 Nephi 13:39 can be used in missionary work t...   \n",
       "199  D&C 84:85 and D&C 68:25 guide missionaries in ...   \n",
       "200  D&C 42:12 emphasizes the importance of using s...   \n",
       "\n",
       "                                             reference  faithfulness  \\\n",
       "0    Moses 1:39 is significant in missionary work a...      0.571429   \n",
       "1    Missionaries can help others come unto Christ ...      1.000000   \n",
       "2    In personal study, 'Jesus the Christ' is part ...      1.000000   \n",
       "3    Many missionaries serve in branches and distri...      1.000000   \n",
       "4    'Preach My Gospel' is primarily for the full-t...      0.666667   \n",
       "..                                                 ...           ...   \n",
       "196  3 Nephi 11 is significant in the context of th...      0.000000   \n",
       "197  Ezra Taft Benson emphasized the importance of ...      0.727273   \n",
       "198  The teachings in 1 Nephi 13:39 and 1 Nephi 1 c...      0.777778   \n",
       "199  D&C 84:85 guides missionaries by emphasizing t...      0.000000   \n",
       "200  D&C 42:12 emphasizes the importance of using s...      0.714286   \n",
       "\n",
       "     answer_relevancy  context_precision  context_recall  \n",
       "0            0.951846                0.0             0.0  \n",
       "1            0.980402                1.0             0.5  \n",
       "2            0.993469                0.0             0.0  \n",
       "3            0.958170                0.0             1.0  \n",
       "4            0.966533                1.0             1.0  \n",
       "..                ...                ...             ...  \n",
       "196          0.993707                1.0             1.0  \n",
       "197          0.941070                1.0             0.2  \n",
       "198          0.950050                1.0             0.8  \n",
       "199          0.969814                0.0             0.0  \n",
       "200          0.935468                0.5             0.6  \n",
       "\n",
       "[201 rows x 9 columns]"
      ]
     },
     "execution_count": 35,
     "metadata": {},
     "output_type": "execute_result"
    }
   ],
   "source": [
    "result.to_pandas()"
   ]
  },
  {
   "cell_type": "code",
   "execution_count": 36,
   "id": "1f3ce830",
   "metadata": {},
   "outputs": [
    {
     "name": "stdout",
     "output_type": "stream",
     "text": [
      "{'faithfulness': 0.6459, 'answer_relevancy': 0.9645, 'context_precision': 0.7065, 'context_recall': 0.6481}\n"
     ]
    }
   ],
   "source": [
    "print(result)"
   ]
  },
  {
   "cell_type": "markdown",
   "id": "6736b243",
   "metadata": {},
   "source": [
    "## run qa_pair for handbook"
   ]
  },
  {
   "cell_type": "code",
   "execution_count": null,
   "id": "c90b2610",
   "metadata": {},
   "outputs": [],
   "source": [
    "# %pip install --upgrade \"huggingface_hub>=0.20.0\"\n",
    "\n",
    "from ragas.testset import TestsetGenerator\n",
    "from llama_index.llms.openai import OpenAI\n",
    "from llama_index.embeddings.openai import OpenAIEmbedding\n",
    "\n",
    "\n",
    "documents = SimpleDirectoryReader(\"../../data\").load_data()\n",
    "# generator with openai models\n",
    "generator_llm = OpenAI(model=\"gpt-4.1-nano\")\n",
    "embeddings = OpenAIEmbedding(model=\"text-embedding-3-large\")\n",
    "\n",
    "generator = TestsetGenerator.from_llama_index(\n",
    "    llm=generator_llm,\n",
    "    embedding_model=embeddings,\n",
    ")"
   ]
  },
  {
   "cell_type": "code",
   "execution_count": null,
   "id": "f0f305d8",
   "metadata": {},
   "outputs": [],
   "source": [
    "# generate testset\n",
    "testset = generator.generate_with_llamaindex_docs(\n",
    "    documents,\n",
    "    testset_size=100,\n",
    ")"
   ]
  },
  {
   "cell_type": "code",
   "execution_count": null,
   "id": "72676ddb",
   "metadata": {},
   "outputs": [],
   "source": [
    "df = testset.to_pandas()\n",
    "df"
   ]
  },
  {
   "cell_type": "code",
   "execution_count": null,
   "id": "d5197adb",
   "metadata": {},
   "outputs": [],
   "source": [
    "df.reset_index(drop=True, inplace=True)\n",
    "df.to_csv(f\"../../processed_data/raw/handbook.csv\", index=False)"
   ]
  },
  {
   "cell_type": "markdown",
   "id": "a680b0c5",
   "metadata": {},
   "source": [
    "#### remove duplicate"
   ]
  },
  {
   "cell_type": "code",
   "execution_count": null,
   "id": "7a6b1f75",
   "metadata": {},
   "outputs": [],
   "source": [
    "import pandas as pd\n",
    "dataset = pd.read_csv(f\"./dataset.csv\")\n",
    "dataset.head()"
   ]
  },
  {
   "cell_type": "code",
   "execution_count": null,
   "id": "18e0079c",
   "metadata": {},
   "outputs": [],
   "source": [
    "df_cleaned = dataset.drop_duplicates(subset=['user_input'])\n",
    "df_cleaned.head()"
   ]
  },
  {
   "cell_type": "code",
   "execution_count": null,
   "id": "d837f2ba",
   "metadata": {},
   "outputs": [],
   "source": [
    "len(df_cleaned)"
   ]
  },
  {
   "cell_type": "code",
   "execution_count": null,
   "id": "bb09567a",
   "metadata": {},
   "outputs": [],
   "source": [
    "# Select only the 'question' and 'ground_truth' columns\n",
    "df_selected = df_cleaned[['user_input', 'reference_contexts', 'reference']]\n",
    "\n",
    "# Display the selected columns\n",
    "df_selected.head()"
   ]
  },
  {
   "cell_type": "code",
   "execution_count": null,
   "id": "11aacef0",
   "metadata": {},
   "outputs": [],
   "source": [
    "# Filter out rows where 'ground_truth' contains the unwanted phrase\n",
    "df_filtered = df_selected[~df_selected['reference'].str.contains(\"The answer to given question is not present in| As an AI|The context does not provide|I'm sorry,|The text doesn't provide information\")]\n",
    "\n",
    "# Display the filtered DataFrame\n",
    "df_filtered.head()"
   ]
  },
  {
   "cell_type": "code",
   "execution_count": null,
   "id": "c9b0b8d9",
   "metadata": {},
   "outputs": [],
   "source": [
    "len(df_filtered)"
   ]
  },
  {
   "cell_type": "code",
   "execution_count": null,
   "id": "8a4f9f2d",
   "metadata": {},
   "outputs": [],
   "source": [
    "df_filtered.to_csv(f\"./dataset_filtered.csv\", index=False)\n"
   ]
  }
 ],
 "metadata": {
  "kernelspec": {
   "display_name": "Agentic_rag",
   "language": "python",
   "name": "python3"
  },
  "language_info": {
   "codemirror_mode": {
    "name": "ipython",
    "version": 3
   },
   "file_extension": ".py",
   "mimetype": "text/x-python",
   "name": "python",
   "nbconvert_exporter": "python",
   "pygments_lexer": "ipython3",
   "version": "3.12.10"
  }
 },
 "nbformat": 4,
 "nbformat_minor": 5
}
