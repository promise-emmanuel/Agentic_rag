{
 "cells": [
  {
   "cell_type": "code",
   "execution_count": 1,
   "id": "8c368e08",
   "metadata": {},
   "outputs": [],
   "source": [
    "%load_ext autoreload\n",
    "%autoreload 2\n",
    "%load_ext dotenv\n",
    "%dotenv"
   ]
  },
  {
   "cell_type": "code",
   "execution_count": 2,
   "id": "7e37db6f",
   "metadata": {},
   "outputs": [],
   "source": [
    "import os\n",
    "from dotenv import load_dotenv,  find_dotenv\n",
    "from openai import OpenAI\n",
    "\n",
    "_ = load_dotenv(find_dotenv())"
   ]
  },
  {
   "cell_type": "code",
   "execution_count": 3,
   "id": "bf3ee89e",
   "metadata": {},
   "outputs": [],
   "source": [
    "from llama_index.core import SimpleDirectoryReader, VectorStoreIndex, Document, ServiceContext"
   ]
  },
  {
   "cell_type": "code",
   "execution_count": 4,
   "id": "5bee3322",
   "metadata": {},
   "outputs": [],
   "source": [
    "documents = SimpleDirectoryReader(\n",
    "    input_files=[\"../data/Pmg_lds.md\", \"../data/handbook.md\"]\n",
    ").load_data()"
   ]
  },
  {
   "cell_type": "code",
   "execution_count": 5,
   "id": "2fc70999",
   "metadata": {},
   "outputs": [],
   "source": [
    "# merge into a single large document rather than one document per page\n",
    "\n",
    "document = Document(text=\"\\n\\n\".join([doc.text for doc in documents]))"
   ]
  },
  {
   "cell_type": "code",
   "execution_count": 6,
   "id": "187a7496",
   "metadata": {},
   "outputs": [],
   "source": [
    "from llama_index.core.node_parser import SentenceWindowNodeParser\n",
    "\n",
    "# create the sentence window node parser w/ default settings\n",
    "node_parser = SentenceWindowNodeParser.from_defaults(\n",
    "    window_size=5,  # number of sentences in each node\n",
    "    window_metadata_key=\"window\",\n",
    "    original_text_metadata_key=\"original_text\",\n",
    "    \n",
    "    #overlap_size=5,  # number of sentences to overlap between nodes\n",
    ")"
   ]
  },
  {
   "cell_type": "code",
   "execution_count": 7,
   "id": "f8130e49",
   "metadata": {},
   "outputs": [],
   "source": [
    "text = document.text[:1000]"
   ]
  },
  {
   "cell_type": "code",
   "execution_count": 8,
   "id": "70cf83f2",
   "metadata": {},
   "outputs": [
    {
     "name": "stdout",
     "output_type": "stream",
     "text": [
      "['\\n## Preach My Gospel (D&C 50:14) (Page 5)\\n\\n| Chapters | First Presidency Message | page no |\\n| --- | --- | --- |\\n|  | Introduction: How Can I Best Use Preach My Gospel? ', '| vii |\\n| 1 | What Is My Purpose as a Missionary? ', '| 1 |\\n| 2 | How Do I Study Effectively and Prepare to Teach? ', '| 17 |\\n| 3 | What Do I Study and Teach? ', '| 29 |\\n|  | <li>Lesson 1: The Message of the Restoration of the Gospel of Jesus Christ</li> | 31 |\\n|  | <li>Lesson 2: The Plan of Salvation</li> | 47 |\\n|  | <li>Lesson 3: The Gospel of Jesus Christ</li> | 60 |\\n|  | <li>Lesson 4: The Commandments</l1? ', '| 71 |\\n|  | Lesson 5: Laws and Ordinances | 82 |\\n| 4 | How Do I Recognize and Understand the Spirit? ', '| 89 |\\n| 5 | What Is the Role of the Book of Mormon? ', '| 103 |\\n| 6 | How Do I Develop Christlike Attributes? ', '| 115 |\\n| 7 | How Can I Better Learn My Mission Language? ', '| 127 |\\n| 8 | How Do I Use Time Wisely? ', '| 137 |\\n| 9 | How Do I Find People to Teach? ', '| 155 |\\n| 10 | How Can I Improve My Teaching Skills? ', '| 175 |\\n| 11 | How Do I H']\n"
     ]
    }
   ],
   "source": [
    "nodes_example = node_parser.get_nodes_from_documents([Document(text=text)])\n",
    "print([node.text for node in nodes_example])"
   ]
  },
  {
   "cell_type": "code",
   "execution_count": 9,
   "id": "e3eb3f6e",
   "metadata": {},
   "outputs": [
    {
     "name": "stdout",
     "output_type": "stream",
     "text": [
      "\n",
      "## Preach My Gospel (D&C 50:14) (Page 5)\n",
      "\n",
      "| Chapters | First Presidency Message | page no |\n",
      "| --- | --- | --- |\n",
      "|  | Introduction: How Can I Best Use Preach My Gospel? \n"
     ]
    }
   ],
   "source": [
    "print(nodes_example[0].text)"
   ]
  },
  {
   "cell_type": "code",
   "execution_count": 10,
   "id": "d3adc3d7",
   "metadata": {},
   "outputs": [
    {
     "name": "stdout",
     "output_type": "stream",
     "text": [
      "\n",
      "## Preach My Gospel (D&C 50:14) (Page 5)\n",
      "\n",
      "| Chapters | First Presidency Message | page no |\n",
      "| --- | --- | --- |\n",
      "|  | Introduction: How Can I Best Use Preach My Gospel?  | vii |\n",
      "| 1 | What Is My Purpose as a Missionary?  | 1 |\n",
      "| 2 | How Do I Study Effectively and Prepare to Teach?  | 17 |\n",
      "| 3 | What Do I Study and Teach?  | 29 |\n",
      "|  | <li>Lesson 1: The Message of the Restoration of the Gospel of Jesus Christ</li> | 31 |\n",
      "|  | <li>Lesson 2: The Plan of Salvation</li> | 47 |\n",
      "|  | <li>Lesson 3: The Gospel of Jesus Christ</li> | 60 |\n",
      "|  | <li>Lesson 4: The Commandments</l1?  | 71 |\n",
      "|  | Lesson 5: Laws and Ordinances | 82 |\n",
      "| 4 | How Do I Recognize and Understand the Spirit? \n"
     ]
    }
   ],
   "source": [
    "print(nodes_example[0].metadata[\"window\"])"
   ]
  },
  {
   "cell_type": "markdown",
   "id": "f36ff65f",
   "metadata": {},
   "source": [
    "## build index using the nodeparser"
   ]
  },
  {
   "cell_type": "code",
   "execution_count": 11,
   "id": "202620eb",
   "metadata": {},
   "outputs": [],
   "source": [
    "MODEL = os.environ[\"MODEL\"]\n",
    "EMBED_MODEL = os.environ[\"EMBED_MODEL\"]\n",
    "# llm = OpenAI()"
   ]
  },
  {
   "cell_type": "code",
   "execution_count": 12,
   "id": "a890d516",
   "metadata": {},
   "outputs": [],
   "source": [
    "from llama_index.embeddings.openai import OpenAIEmbedding\n",
    "from llama_index.llms.openai import OpenAI\n",
    "from llama_index.core import Settings\n",
    "\n",
    "Settings.llm = OpenAI(model=MODEL)\n",
    "Settings.embed_model = OpenAIEmbedding(model=EMBED_MODEL)\n",
    "Settings.node_parser = node_parser"
   ]
  },
  {
   "cell_type": "code",
   "execution_count": 13,
   "id": "1c6b790b",
   "metadata": {},
   "outputs": [],
   "source": [
    "nodes = node_parser.get_nodes_from_documents([document])"
   ]
  },
  {
   "cell_type": "code",
   "execution_count": 16,
   "id": "4c651dcb",
   "metadata": {},
   "outputs": [],
   "source": [
    "from llama_index.core import VectorStoreIndex, StorageContext, load_index_from_storage\n",
    "\n",
    "persist_dir = \"../sentence_window_storage\"\n",
    "\n",
    "if not os.path.exists(persist_dir):\n",
    "    os.makedirs(persist_dir)\n",
    "    \n",
    "    #create a fresh storage context\n",
    "    storage_context = StorageContext.from_defaults()\n",
    "    \n",
    "    # build the index from nodes\n",
    "    sentence_window_index = VectorStoreIndex(\n",
    "        nodes, storage_context=storage_context)\n",
    "\n",
    "    # persist both the vector store and docstore so u\n",
    "    sentence_window_index.storage_context.persist(persist_dir=persist_dir)\n",
    "else:\n",
    "    # load everything back in one call\n",
    "    sentence_window_index = load_index_from_storage(\n",
    "        StorageContext.from_defaults(persist_dir=persist_dir))\n",
    "    \n"
   ]
  },
  {
   "cell_type": "code",
   "execution_count": 17,
   "id": "f28a6fea",
   "metadata": {},
   "outputs": [],
   "source": [
    "retriever_engine = sentence_window_index.as_retriever()\n",
    "\n",
    "res = retriever_engine.retrieve(\"what is baptism by the right and proper authority?\")  # returns a list of nodes\n",
    "\n"
   ]
  },
  {
   "cell_type": "code",
   "execution_count": 18,
   "id": "ffc32835",
   "metadata": {},
   "outputs": [
    {
     "name": "stdout",
     "output_type": "stream",
     "text": [
      "Retrieved chunks: 2\n"
     ]
    }
   ],
   "source": [
    "print(\"Retrieved chunks:\", len(res))"
   ]
  },
  {
   "cell_type": "code",
   "execution_count": 19,
   "id": "760c94ca",
   "metadata": {},
   "outputs": [
    {
     "name": "stdout",
     "output_type": "stream",
     "text": [
      "You will want to follow the teachings of Jesus Christ and be baptized by proper authority (see John 3:5).\n",
      "\n",
      "\n",
      "\n"
     ]
    }
   ],
   "source": [
    "print(res[1].text)"
   ]
  },
  {
   "cell_type": "code",
   "execution_count": 20,
   "id": "99a72135",
   "metadata": {},
   "outputs": [
    {
     "name": "stdout",
     "output_type": "stream",
     "text": [
      "It is your choice to accept and act on the message.  Therefore, you should feel free to ask questions.\n",
      " - As you sincerely seek to understand our message, you may face challenges, but God will help you.\n",
      " - As you accept our message, you will learn how to make covenants, or promises, with God.  You will learn how to make changes to bring your lives in closer harmony with His teachings.  You will want to follow the teachings of Jesus Christ and be baptized by proper authority (see John 3:5).\n",
      "\n",
      "\n",
      " Before teaching the doctrines in a lesson, consider giving a simple overview of what you are going to teach.  Help people see that it will have personal relevance for them.  Many of the investigators you teach have been prepared by the Lord (see Alma 16:16–17).  As you share spiritual experiences together in the first meeting, they will recognize you as servants of the Lord.\n",
      "\n",
      " #### Activity: Companion Study (Page 191)\n",
      "With your companion, practice different ways to begin a lesson using several of these suggestions.\n",
      "\n",
      "\n"
     ]
    }
   ],
   "source": [
    "print(res[1].metadata[\"window\"])"
   ]
  },
  {
   "cell_type": "markdown",
   "id": "787dff7e",
   "metadata": {},
   "source": [
    "at this point we can automate replacing the original text with the sentence windows metadata"
   ]
  },
  {
   "cell_type": "code",
   "execution_count": 25,
   "id": "ebe7c846",
   "metadata": {},
   "outputs": [],
   "source": [
    "# adding postprocessor and reranking to build query engine\n",
    "from llama_index.core.indices.postprocessor import MetadataReplacementPostProcessor\n",
    "\n",
    "\n",
    "# metadata replacement replaces the retrieved chunks.text with the metadata (sentence window).\n",
    "postproc = MetadataReplacementPostProcessor(\n",
    "    target_metadata_key=\"window\"\n",
    ")\n",
    "\n"
   ]
  },
  {
   "cell_type": "code",
   "execution_count": 26,
   "id": "cff9dc71",
   "metadata": {},
   "outputs": [],
   "source": [
    "# cohere reranking reranks the context chunks based on the query similarity\n",
    "# Ensure you have the following installed in your env\n",
    "# %pip install -q cohere llama-index-postprocessor-cohere-rerank\n",
    "\n",
    "from llama_index.postprocessor.cohere_rerank import CohereRerank\n",
    "cohere_rerank = CohereRerank(\n",
    "    api_key=os.environ[\"COHERE_API_KEY\"], \n",
    "    top_n=3,\n",
    ")"
   ]
  },
  {
   "cell_type": "code",
   "execution_count": 27,
   "id": "ae207afe",
   "metadata": {},
   "outputs": [],
   "source": [
    "sentence_engine = sentence_window_index.as_query_engine(\n",
    "    node_postprocessors=[postproc, cohere_rerank],\n",
    "    similarity_top_k=6,\n",
    ")"
   ]
  },
  {
   "cell_type": "code",
   "execution_count": 28,
   "id": "3f8fe6c1",
   "metadata": {},
   "outputs": [
    {
     "name": "stdout",
     "output_type": "stream",
     "text": [
      "The purpose of the missionary handbook is to guide missionaries in inviting others to come unto Christ by helping them receive the restored gospel. It provides principles and doctrines that are essential for fulfilling their responsibilities, fostering unity among missionaries, and enhancing their effectiveness in teaching and serving.\n"
     ]
    }
   ],
   "source": [
    "completion = sentence_engine.query(\"What is the purpose of the missionary handbook?\")\n",
    "print(completion)"
   ]
  },
  {
   "cell_type": "markdown",
   "id": "b870c312",
   "metadata": {},
   "source": [
    "Evaluation with Ragas"
   ]
  },
  {
   "cell_type": "code",
   "execution_count": 59,
   "id": "d518ab23",
   "metadata": {},
   "outputs": [],
   "source": [
    "from ragas.metrics import (\n",
    "    Faithfulness,\n",
    "    AnswerRelevancy,\n",
    "    ContextPrecision,\n",
    "    ContextRecall,\n",
    ")\n",
    "\n",
    "# init metrics with evaluator LLM\n",
    "from ragas.llms import LlamaIndexLLMWrapper\n",
    "\n",
    "evaluator_llm = LlamaIndexLLMWrapper(OpenAI(model=\"gpt-4o\"))\n",
    "metrics = [\n",
    "    Faithfulness(llm=evaluator_llm),\n",
    "    AnswerRelevancy(llm=evaluator_llm),\n",
    "    ContextPrecision(llm=evaluator_llm),\n",
    "    ContextRecall(llm=evaluator_llm),\n",
    "]"
   ]
  },
  {
   "cell_type": "code",
   "execution_count": 90,
   "id": "d4e28927",
   "metadata": {},
   "outputs": [
    {
     "data": {
      "text/html": [
       "<div>\n",
       "<style scoped>\n",
       "    .dataframe tbody tr th:only-of-type {\n",
       "        vertical-align: middle;\n",
       "    }\n",
       "\n",
       "    .dataframe tbody tr th {\n",
       "        vertical-align: top;\n",
       "    }\n",
       "\n",
       "    .dataframe thead th {\n",
       "        text-align: right;\n",
       "    }\n",
       "</style>\n",
       "<table border=\"1\" class=\"dataframe\">\n",
       "  <thead>\n",
       "    <tr style=\"text-align: right;\">\n",
       "      <th></th>\n",
       "      <th>user_input</th>\n",
       "      <th>reference_contexts</th>\n",
       "      <th>reference</th>\n",
       "    </tr>\n",
       "  </thead>\n",
       "  <tbody>\n",
       "    <tr>\n",
       "      <th>5</th>\n",
       "      <td>How does the message in Romans 1:16 relate to ...</td>\n",
       "      <td>['### Activity: Personal or Companion Study (P...</td>\n",
       "      <td>Romans 1:16 states that the gospel of Jesus Ch...</td>\n",
       "    </tr>\n",
       "    <tr>\n",
       "      <th>6</th>\n",
       "      <td>What D&amp;C 79:1 say about missionary work?</td>\n",
       "      <td>['The Power and Authority of Your Calling (Pag...</td>\n",
       "      <td>D&amp;C 79:1 states that missionaries are to go 'i...</td>\n",
       "    </tr>\n",
       "    <tr>\n",
       "      <th>7</th>\n",
       "      <td>Wht does 2 Nephi say abot the gospel of Jesus ...</td>\n",
       "      <td>['The Gospel of Jesus Christ (Page 19) The gos...</td>\n",
       "      <td>2 Nephi 31:10–21 is referenced in the context ...</td>\n",
       "    </tr>\n",
       "    <tr>\n",
       "      <th>8</th>\n",
       "      <td>What 2 Nephi 31:10–21 say about gospel of Christ?</td>\n",
       "      <td>['Scripture Study (Page 20) What is the gospel...</td>\n",
       "      <td>To understand the gospel, or doctrine, of Chri...</td>\n",
       "    </tr>\n",
       "    <tr>\n",
       "      <th>9</th>\n",
       "      <td>How does Moroni 10:3–5 play a role in helping ...</td>\n",
       "      <td>['The Message of the Restoration: The Foundati...</td>\n",
       "      <td>Moroni 10:3–5 contains a remarkable promise th...</td>\n",
       "    </tr>\n",
       "  </tbody>\n",
       "</table>\n",
       "</div>"
      ],
      "text/plain": [
       "                                          user_input  \\\n",
       "5  How does the message in Romans 1:16 relate to ...   \n",
       "6           What D&C 79:1 say about missionary work?   \n",
       "7  Wht does 2 Nephi say abot the gospel of Jesus ...   \n",
       "8  What 2 Nephi 31:10–21 say about gospel of Christ?   \n",
       "9  How does Moroni 10:3–5 play a role in helping ...   \n",
       "\n",
       "                                  reference_contexts  \\\n",
       "5  ['### Activity: Personal or Companion Study (P...   \n",
       "6  ['The Power and Authority of Your Calling (Pag...   \n",
       "7  ['The Gospel of Jesus Christ (Page 19) The gos...   \n",
       "8  ['Scripture Study (Page 20) What is the gospel...   \n",
       "9  ['The Message of the Restoration: The Foundati...   \n",
       "\n",
       "                                           reference  \n",
       "5  Romans 1:16 states that the gospel of Jesus Ch...  \n",
       "6  D&C 79:1 states that missionaries are to go 'i...  \n",
       "7  2 Nephi 31:10–21 is referenced in the context ...  \n",
       "8  To understand the gospel, or doctrine, of Chri...  \n",
       "9  Moroni 10:3–5 contains a remarkable promise th...  "
      ]
     },
     "execution_count": 90,
     "metadata": {},
     "output_type": "execute_result"
    }
   ],
   "source": [
    "import pandas as pd\n",
    "\n",
    "df = pd.read_csv(\"../processed_data/processed/qa_pairs.csv\")\n",
    "df= df[:10]\n",
    "df.tail()\n"
   ]
  },
  {
   "cell_type": "code",
   "execution_count": 91,
   "id": "f0332f7c",
   "metadata": {},
   "outputs": [],
   "source": [
    "from ragas.dataset_schema import EvaluationDataset\n",
    "\n",
    "df[\"reference_contexts\"] = df[\"reference_contexts\"].apply(lambda s: [s] if pd.notna(s) else [])\n",
    "\n",
    "# 4) Now create the EvaluationDataset\n",
    "dataset: EvaluationDataset = EvaluationDataset.from_pandas(df)"
   ]
  },
  {
   "cell_type": "code",
   "execution_count": 92,
   "id": "7da396cb",
   "metadata": {},
   "outputs": [
    {
     "data": {
      "text/plain": [
       "EvaluationDataset(features=['user_input', 'reference_contexts', 'reference'], len=10)"
      ]
     },
     "execution_count": 92,
     "metadata": {},
     "output_type": "execute_result"
    }
   ],
   "source": [
    "dataset"
   ]
  },
  {
   "cell_type": "code",
   "execution_count": null,
   "id": "57b82b8a",
   "metadata": {},
   "outputs": [],
   "source": [
    "from ragas.integrations.llama_index import evaluate\n",
    "\n",
    "results = evaluate(\n",
    "    query_engine=sentence_engine,\n",
    "    metrics=metrics,\n",
    "    dataset=dataset,\n",
    ")"
   ]
  },
  {
   "cell_type": "code",
   "execution_count": 94,
   "id": "33efd39d",
   "metadata": {},
   "outputs": [
    {
     "data": {
      "text/html": [
       "<div>\n",
       "<style scoped>\n",
       "    .dataframe tbody tr th:only-of-type {\n",
       "        vertical-align: middle;\n",
       "    }\n",
       "\n",
       "    .dataframe tbody tr th {\n",
       "        vertical-align: top;\n",
       "    }\n",
       "\n",
       "    .dataframe thead th {\n",
       "        text-align: right;\n",
       "    }\n",
       "</style>\n",
       "<table border=\"1\" class=\"dataframe\">\n",
       "  <thead>\n",
       "    <tr style=\"text-align: right;\">\n",
       "      <th></th>\n",
       "      <th>user_input</th>\n",
       "      <th>retrieved_contexts</th>\n",
       "      <th>reference_contexts</th>\n",
       "      <th>response</th>\n",
       "      <th>reference</th>\n",
       "      <th>faithfulness</th>\n",
       "      <th>answer_relevancy</th>\n",
       "      <th>context_precision</th>\n",
       "      <th>context_recall</th>\n",
       "    </tr>\n",
       "  </thead>\n",
       "  <tbody>\n",
       "    <tr>\n",
       "      <th>0</th>\n",
       "      <td>Wht is the significance of Moses 1:39 in missi...</td>\n",
       "      <td>[“What does the Atonement have to do with miss...</td>\n",
       "      <td>[['## Preach My Gospel (D&amp;C 50:14) (Page 5) | ...</td>\n",
       "      <td>Moses 1:39 highlights the divine purpose of br...</td>\n",
       "      <td>Moses 1:39 is significant in missionary work a...</td>\n",
       "      <td>0.500000</td>\n",
       "      <td>0.926103</td>\n",
       "      <td>1.000000</td>\n",
       "      <td>1.0</td>\n",
       "    </tr>\n",
       "    <tr>\n",
       "      <th>1</th>\n",
       "      <td>How can missionaries help others come unto Chr...</td>\n",
       "      <td>[- Will you repent of your sins?\\n - Will you ...</td>\n",
       "      <td>[['The Missionary Lessons (Page 9) You have th...</td>\n",
       "      <td>Missionaries can help others come unto Christ ...</td>\n",
       "      <td>Missionaries can help others come unto Christ ...</td>\n",
       "      <td>1.000000</td>\n",
       "      <td>0.980402</td>\n",
       "      <td>0.000000</td>\n",
       "      <td>0.5</td>\n",
       "    </tr>\n",
       "    <tr>\n",
       "      <th>2</th>\n",
       "      <td>Wht is the role of 'Jesus the Christ' in perso...</td>\n",
       "      <td>[- Will you follow the example of the Savior a...</td>\n",
       "      <td>[['Personal Study, Companion Study, District M...</td>\n",
       "      <td>In personal study, 'Jesus the Christ' serves a...</td>\n",
       "      <td>In personal study, 'Jesus the Christ' is part ...</td>\n",
       "      <td>0.625000</td>\n",
       "      <td>0.963648</td>\n",
       "      <td>0.583333</td>\n",
       "      <td>1.0</td>\n",
       "    </tr>\n",
       "    <tr>\n",
       "      <th>3</th>\n",
       "      <td>What districts do in mission work?</td>\n",
       "      <td>[Discuss the people with whom you are working....</td>\n",
       "      <td>[['### Zone Conferences (Page 11) Zone confere...</td>\n",
       "      <td>Districts in mission work focus on teaching on...</td>\n",
       "      <td>Many missionaries serve in branches and distri...</td>\n",
       "      <td>0.909091</td>\n",
       "      <td>0.912358</td>\n",
       "      <td>0.250000</td>\n",
       "      <td>1.0</td>\n",
       "    </tr>\n",
       "    <tr>\n",
       "      <th>4</th>\n",
       "      <td>How can 'Preach My Gospel' be utilized by ward...</td>\n",
       "      <td>[Be creative and seek inspiration to create ad...</td>\n",
       "      <td>[['Use by Ward Missionaries and Leaders (Page ...</td>\n",
       "      <td>'Preach My Gospel' serves as a valuable resour...</td>\n",
       "      <td>'Preach My Gospel' is primarily for the full-t...</td>\n",
       "      <td>0.666667</td>\n",
       "      <td>0.948829</td>\n",
       "      <td>0.833333</td>\n",
       "      <td>1.0</td>\n",
       "    </tr>\n",
       "    <tr>\n",
       "      <th>5</th>\n",
       "      <td>How does the message in Romans 1:16 relate to ...</td>\n",
       "      <td>[Families torn by discord can be healed throug...</td>\n",
       "      <td>[['### Activity: Personal or Companion Study (...</td>\n",
       "      <td>The message in Romans 1:16 emphasizes the gosp...</td>\n",
       "      <td>Romans 1:16 states that the gospel of Jesus Ch...</td>\n",
       "      <td>0.875000</td>\n",
       "      <td>0.985903</td>\n",
       "      <td>1.000000</td>\n",
       "      <td>1.0</td>\n",
       "    </tr>\n",
       "    <tr>\n",
       "      <th>6</th>\n",
       "      <td>What D&amp;C 79:1 say about missionary work?</td>\n",
       "      <td>[- Diligently treasure up God’s word (see D&amp;C ...</td>\n",
       "      <td>[['The Power and Authority of Your Calling (Pa...</td>\n",
       "      <td>D&amp;C 79:1 emphasizes that missionaries are to g...</td>\n",
       "      <td>D&amp;C 79:1 states that missionaries are to go 'i...</td>\n",
       "      <td>0.750000</td>\n",
       "      <td>0.954921</td>\n",
       "      <td>1.000000</td>\n",
       "      <td>1.0</td>\n",
       "    </tr>\n",
       "    <tr>\n",
       "      <th>7</th>\n",
       "      <td>Wht does 2 Nephi say abot the gospel of Jesus ...</td>\n",
       "      <td>[The Book of Mormon, combined with the Spirit,...</td>\n",
       "      <td>[['The Gospel of Jesus Christ (Page 19) The go...</td>\n",
       "      <td>2 Nephi teaches about the gospel of Jesus Chri...</td>\n",
       "      <td>2 Nephi 31:10–21 is referenced in the context ...</td>\n",
       "      <td>0.750000</td>\n",
       "      <td>0.962458</td>\n",
       "      <td>1.000000</td>\n",
       "      <td>0.0</td>\n",
       "    </tr>\n",
       "    <tr>\n",
       "      <th>8</th>\n",
       "      <td>What 2 Nephi 31:10–21 say about gospel of Christ?</td>\n",
       "      <td>[In fact, it is the only way of living that wi...</td>\n",
       "      <td>[['Scripture Study (Page 20) What is the gospe...</td>\n",
       "      <td>2 Nephi 31:10–21 outlines the doctrine of Chri...</td>\n",
       "      <td>To understand the gospel, or doctrine, of Chri...</td>\n",
       "      <td>1.000000</td>\n",
       "      <td>0.955376</td>\n",
       "      <td>1.000000</td>\n",
       "      <td>1.0</td>\n",
       "    </tr>\n",
       "    <tr>\n",
       "      <th>9</th>\n",
       "      <td>How does Moroni 10:3–5 play a role in helping ...</td>\n",
       "      <td>[Some important truths restored through Joseph...</td>\n",
       "      <td>[['The Message of the Restoration: The Foundat...</td>\n",
       "      <td>Moroni 10:3–5 emphasizes the importance of rea...</td>\n",
       "      <td>Moroni 10:3–5 contains a remarkable promise th...</td>\n",
       "      <td>1.000000</td>\n",
       "      <td>0.911715</td>\n",
       "      <td>1.000000</td>\n",
       "      <td>1.0</td>\n",
       "    </tr>\n",
       "  </tbody>\n",
       "</table>\n",
       "</div>"
      ],
      "text/plain": [
       "                                          user_input  \\\n",
       "0  Wht is the significance of Moses 1:39 in missi...   \n",
       "1  How can missionaries help others come unto Chr...   \n",
       "2  Wht is the role of 'Jesus the Christ' in perso...   \n",
       "3                 What districts do in mission work?   \n",
       "4  How can 'Preach My Gospel' be utilized by ward...   \n",
       "5  How does the message in Romans 1:16 relate to ...   \n",
       "6           What D&C 79:1 say about missionary work?   \n",
       "7  Wht does 2 Nephi say abot the gospel of Jesus ...   \n",
       "8  What 2 Nephi 31:10–21 say about gospel of Christ?   \n",
       "9  How does Moroni 10:3–5 play a role in helping ...   \n",
       "\n",
       "                                  retrieved_contexts  \\\n",
       "0  [“What does the Atonement have to do with miss...   \n",
       "1  [- Will you repent of your sins?\\n - Will you ...   \n",
       "2  [- Will you follow the example of the Savior a...   \n",
       "3  [Discuss the people with whom you are working....   \n",
       "4  [Be creative and seek inspiration to create ad...   \n",
       "5  [Families torn by discord can be healed throug...   \n",
       "6  [- Diligently treasure up God’s word (see D&C ...   \n",
       "7  [The Book of Mormon, combined with the Spirit,...   \n",
       "8  [In fact, it is the only way of living that wi...   \n",
       "9  [Some important truths restored through Joseph...   \n",
       "\n",
       "                                  reference_contexts  \\\n",
       "0  [['## Preach My Gospel (D&C 50:14) (Page 5) | ...   \n",
       "1  [['The Missionary Lessons (Page 9) You have th...   \n",
       "2  [['Personal Study, Companion Study, District M...   \n",
       "3  [['### Zone Conferences (Page 11) Zone confere...   \n",
       "4  [['Use by Ward Missionaries and Leaders (Page ...   \n",
       "5  [['### Activity: Personal or Companion Study (...   \n",
       "6  [['The Power and Authority of Your Calling (Pa...   \n",
       "7  [['The Gospel of Jesus Christ (Page 19) The go...   \n",
       "8  [['Scripture Study (Page 20) What is the gospe...   \n",
       "9  [['The Message of the Restoration: The Foundat...   \n",
       "\n",
       "                                            response  \\\n",
       "0  Moses 1:39 highlights the divine purpose of br...   \n",
       "1  Missionaries can help others come unto Christ ...   \n",
       "2  In personal study, 'Jesus the Christ' serves a...   \n",
       "3  Districts in mission work focus on teaching on...   \n",
       "4  'Preach My Gospel' serves as a valuable resour...   \n",
       "5  The message in Romans 1:16 emphasizes the gosp...   \n",
       "6  D&C 79:1 emphasizes that missionaries are to g...   \n",
       "7  2 Nephi teaches about the gospel of Jesus Chri...   \n",
       "8  2 Nephi 31:10–21 outlines the doctrine of Chri...   \n",
       "9  Moroni 10:3–5 emphasizes the importance of rea...   \n",
       "\n",
       "                                           reference  faithfulness  \\\n",
       "0  Moses 1:39 is significant in missionary work a...      0.500000   \n",
       "1  Missionaries can help others come unto Christ ...      1.000000   \n",
       "2  In personal study, 'Jesus the Christ' is part ...      0.625000   \n",
       "3  Many missionaries serve in branches and distri...      0.909091   \n",
       "4  'Preach My Gospel' is primarily for the full-t...      0.666667   \n",
       "5  Romans 1:16 states that the gospel of Jesus Ch...      0.875000   \n",
       "6  D&C 79:1 states that missionaries are to go 'i...      0.750000   \n",
       "7  2 Nephi 31:10–21 is referenced in the context ...      0.750000   \n",
       "8  To understand the gospel, or doctrine, of Chri...      1.000000   \n",
       "9  Moroni 10:3–5 contains a remarkable promise th...      1.000000   \n",
       "\n",
       "   answer_relevancy  context_precision  context_recall  \n",
       "0          0.926103           1.000000             1.0  \n",
       "1          0.980402           0.000000             0.5  \n",
       "2          0.963648           0.583333             1.0  \n",
       "3          0.912358           0.250000             1.0  \n",
       "4          0.948829           0.833333             1.0  \n",
       "5          0.985903           1.000000             1.0  \n",
       "6          0.954921           1.000000             1.0  \n",
       "7          0.962458           1.000000             0.0  \n",
       "8          0.955376           1.000000             1.0  \n",
       "9          0.911715           1.000000             1.0  "
      ]
     },
     "execution_count": 94,
     "metadata": {},
     "output_type": "execute_result"
    }
   ],
   "source": [
    "results.to_pandas()"
   ]
  },
  {
   "cell_type": "code",
   "execution_count": 95,
   "id": "bb28ba94",
   "metadata": {},
   "outputs": [
    {
     "name": "stdout",
     "output_type": "stream",
     "text": [
      "{'faithfulness': 0.8076, 'answer_relevancy': 0.9502, 'context_precision': 0.7667, 'context_recall': 0.8500}\n"
     ]
    }
   ],
   "source": [
    "print(results)"
   ]
  },
  {
   "cell_type": "markdown",
   "id": "96007b5a",
   "metadata": {},
   "source": [
    "## More Deep Dive - Prompt Engineering\n"
   ]
  },
  {
   "cell_type": "code",
   "execution_count": 29,
   "id": "e4da6c6d",
   "metadata": {},
   "outputs": [
    {
     "name": "stdout",
     "output_type": "stream",
     "text": [
      "Quantum physics is not addressed in the provided information. The context focuses on historical figures, faith, judgment, and concepts related to mortality and redemption. If you have questions related to those topics, feel free to ask!\n"
     ]
    }
   ],
   "source": [
    "response = sentence_engine.query(\"What is quantum physics?\")\n",
    "print(response)"
   ]
  },
  {
   "cell_type": "markdown",
   "id": "b2e81bd6",
   "metadata": {},
   "source": [
    "### using sentence_window_index as context_retriever"
   ]
  },
  {
   "cell_type": "code",
   "execution_count": 30,
   "id": "51a09dc9",
   "metadata": {},
   "outputs": [],
   "source": [
    "retriever_engine = sentence_window_index.as_retriever(\n",
    "    similarity_top_k=6,\n",
    "    node_postprocessors=[postproc, cohere_rerank],\n",
    "\n",
    ")"
   ]
  },
  {
   "cell_type": "code",
   "execution_count": 31,
   "id": "06d75f42",
   "metadata": {},
   "outputs": [
    {
     "name": "stdout",
     "output_type": "stream",
     "text": [
      "[NodeWithScore(node=TextNode(id_='9cbd7f7b-a126-490b-9855-4c35b15cd082', embedding=None, metadata={'window': 'Your faith will increase through diligent study, prayer, dedicated service, and obedience to the promptings of the Holy Ghost and the commandments.\\n Your faith in Jesus Christ grows as you become better acquainted with Him and His teachings.  As you explore the scriptures and search them, you learn of His ways, His love for all people, and His commandments.\\n Faith includes confidence in the mission and power of the Holy Ghost.  Through faith you receive answers to your prayers and personal inspiration to guide you in the Lord’s work.\\n\\n #### Scripture Study (Page 131)\\n- What is faith?\\n   - Alma 32:21, Ether 12:6, Hebrews 11:1; see footnote b Topical Guide, “Faith”.  Bible Dictionary, “Faith” True to the Faith, “Faith,” 54–56\\n\\n- How do you obtain faith, and what can you do through faith?\\n   - 2 Nephi 25:29, 2 Nephi 26:13, Mosiah 4:6–12, Alma 32, Helaman 15:7–8, Ether 12:7–22\\n   \\n- What blessings come through faith?\\n   - Mosiah 3:17, Mosiah 5:1–15, Helaman 5:9–12, Moroni 7:33, Romans 10:17, Hebrews 11, John 14:6\\n\\n## Hope (Page 131)\\nHope is an abiding trust that the Lord will fulfill His promises to you.  It is manifest in confidence, optimism, enthusiasm, and patient perseverance. ', 'original_text': '#### Scripture Study (Page 131)\\n- What is faith?\\n  '}, excluded_embed_metadata_keys=['window', 'original_text'], excluded_llm_metadata_keys=['window', 'original_text'], relationships={<NodeRelationship.SOURCE: '1'>: RelatedNodeInfo(node_id='58b1954e-3a51-4786-aeef-eda098163f52', node_type='4', metadata={}, hash='b04037d0793be2d84c3865c7cdb8485e3bd83a3632378c9fbd3d30400eabc528'), <NodeRelationship.PREVIOUS: '2'>: RelatedNodeInfo(node_id='af2e4fd8-9433-4b49-b4da-0ec22cebec22', node_type='1', metadata={'window': 'Doubt and fear are opposed to faith.\\n Your faith will increase through diligent study, prayer, dedicated service, and obedience to the promptings of the Holy Ghost and the commandments.\\n Your faith in Jesus Christ grows as you become better acquainted with Him and His teachings.  As you explore the scriptures and search them, you learn of His ways, His love for all people, and His commandments.\\n Faith includes confidence in the mission and power of the Holy Ghost.  Through faith you receive answers to your prayers and personal inspiration to guide you in the Lord’s work.\\n\\n #### Scripture Study (Page 131)\\n- What is faith?\\n   - Alma 32:21, Ether 12:6, Hebrews 11:1; see footnote b Topical Guide, “Faith”.  Bible Dictionary, “Faith” True to the Faith, “Faith,” 54–56\\n\\n- How do you obtain faith, and what can you do through faith?\\n   - 2 Nephi 25:29, 2 Nephi 26:13, Mosiah 4:6–12, Alma 32, Helaman 15:7–8, Ether 12:7–22\\n   \\n- What blessings come through faith?\\n   - Mosiah 3:17, Mosiah 5:1–15, Helaman 5:9–12, Moroni 7:33, Romans 10:17, Hebrews 11, John 14:6\\n\\n## Hope (Page 131)\\nHope is an abiding trust that the Lord will fulfill His promises to you. ', 'original_text': 'Through faith you receive answers to your prayers and personal inspiration to guide you in the Lord’s work.\\n\\n'}, hash='28eb8e46ff1a2dd5affd8924a7f536e946b4dc26ebe3a2fbfb94fa428e6e233e'), <NodeRelationship.NEXT: '3'>: RelatedNodeInfo(node_id='617571b9-7d66-41d0-9eff-25859a99ac0f', node_type='1', metadata={'window': 'Your faith in Jesus Christ grows as you become better acquainted with Him and His teachings.  As you explore the scriptures and search them, you learn of His ways, His love for all people, and His commandments.\\n Faith includes confidence in the mission and power of the Holy Ghost.  Through faith you receive answers to your prayers and personal inspiration to guide you in the Lord’s work.\\n\\n #### Scripture Study (Page 131)\\n- What is faith?\\n   - Alma 32:21, Ether 12:6, Hebrews 11:1; see footnote b Topical Guide, “Faith”.  Bible Dictionary, “Faith” True to the Faith, “Faith,” 54–56\\n\\n- How do you obtain faith, and what can you do through faith?\\n   - 2 Nephi 25:29, 2 Nephi 26:13, Mosiah 4:6–12, Alma 32, Helaman 15:7–8, Ether 12:7–22\\n   \\n- What blessings come through faith?\\n   - Mosiah 3:17, Mosiah 5:1–15, Helaman 5:9–12, Moroni 7:33, Romans 10:17, Hebrews 11, John 14:6\\n\\n## Hope (Page 131)\\nHope is an abiding trust that the Lord will fulfill His promises to you.  It is manifest in confidence, optimism, enthusiasm, and patient perseverance.  It is believing and expecting that something will occur. ', 'original_text': '- Alma 32:21, Ether 12:6, Hebrews 11:1; see footnote b Topical Guide, “Faith”. '}, hash='10b33f5c9be96504508c53bf74fd5ad46908a17b9979d711024c3a93112f1510')}, metadata_template='{key}: {value}', metadata_separator='\\n', text='#### Scripture Study (Page 131)\\n- What is faith?\\n  ', mimetype='text/plain', start_char_idx=296526, end_char_idx=296577, metadata_seperator='\\n', text_template='{metadata_str}\\n\\n{content}'), score=0.7049004998733155), NodeWithScore(node=TextNode(id_='8ab6a783-6118-49c6-ad1e-2190d6169c2d', embedding=None, metadata={'window': 'Work, work, work—there is no satisfactory substitute, especially in missionary work.” – PRESIDENT EZRA TAFT BENSON THE TEACHINGS OF EZRA TAFT BENSON (1988), 200\\n\\n#### Scripture Study (Page 136)\\n- What does it mean to be diligent?\\n   - Moroni 9:6 D&C 10:4, D&C 107:99–100\\n\\n- Why does the Lord expect you to be diligent?\\n   - D&C 75:2–5, D&C 123:12–14, D&C 127:4\\n\\n- How does diligence relate to agency?\\n   - Mosiah 4:26–27, D&C 58:26–29, Topical Guide, “Diligence, Diligent, Diligently” D&C 130:20–21\\n\\n## Obedience (Page 136)\\nAs a missionary, you are expected to keep the commandments willingly, to obey mission rules, and to follow the counsel of your leaders.  Obedience is the first law of heaven.  It is an act of faith.  You may sometimes be required to do things you do not completely understand.  As you obey, you increase in faith, knowledge, wisdom, testimony, protection, and freedom.  Strive to be obedient to the Lord, the living prophet, and your mission president.\\n “The discipline contained in daily obedience and clean living and wholesome lives builds an armor around you of protection and safety from the temptations that beset you as you proceed through mortality.” – ELDER L. TOM PERRY “CALLED TO SERVE,” ENSIGN, MAY 1991, 39\\n\\n#### Scripture Study (Page 136)\\n- What does it mean to be obedient?\\n   - 1 Nephi 2:3, Mosiah 5:8, Mosiah 15:7\\n  - D&C 82:8–10, Matthew 7:24–27, John 7:17\\n  - John 14:15, Topical Guide, “Obedience, Obedient, Obey”\\n\\n- What can you learn about obedience from these scriptures?\\n  ', 'original_text': 'It is an act of faith. '}, excluded_embed_metadata_keys=['window', 'original_text'], excluded_llm_metadata_keys=['window', 'original_text'], relationships={<NodeRelationship.SOURCE: '1'>: RelatedNodeInfo(node_id='58b1954e-3a51-4786-aeef-eda098163f52', node_type='4', metadata={}, hash='b04037d0793be2d84c3865c7cdb8485e3bd83a3632378c9fbd3d30400eabc528'), <NodeRelationship.PREVIOUS: '2'>: RelatedNodeInfo(node_id='3225ad53-da97-4d91-a0ce-dfe31cc171f0', node_type='1', metadata={'window': 'There will be no homesickness, no worrying about families, for all time and talents and interests are centered on the work of the ministry.  Work, work, work—there is no satisfactory substitute, especially in missionary work.” – PRESIDENT EZRA TAFT BENSON THE TEACHINGS OF EZRA TAFT BENSON (1988), 200\\n\\n#### Scripture Study (Page 136)\\n- What does it mean to be diligent?\\n   - Moroni 9:6 D&C 10:4, D&C 107:99–100\\n\\n- Why does the Lord expect you to be diligent?\\n   - D&C 75:2–5, D&C 123:12–14, D&C 127:4\\n\\n- How does diligence relate to agency?\\n   - Mosiah 4:26–27, D&C 58:26–29, Topical Guide, “Diligence, Diligent, Diligently” D&C 130:20–21\\n\\n## Obedience (Page 136)\\nAs a missionary, you are expected to keep the commandments willingly, to obey mission rules, and to follow the counsel of your leaders.  Obedience is the first law of heaven.  It is an act of faith.  You may sometimes be required to do things you do not completely understand.  As you obey, you increase in faith, knowledge, wisdom, testimony, protection, and freedom.  Strive to be obedient to the Lord, the living prophet, and your mission president.\\n “The discipline contained in daily obedience and clean living and wholesome lives builds an armor around you of protection and safety from the temptations that beset you as you proceed through mortality.” – ELDER L. TOM PERRY “CALLED TO SERVE,” ENSIGN, MAY 1991, 39\\n\\n#### Scripture Study (Page 136)\\n- What does it mean to be obedient?\\n  ', 'original_text': 'Obedience is the first law of heaven. '}, hash='46cf74920d4f224df3bd1d496ea3e39bc12486206c67a76979d619ffeba6a1b2'), <NodeRelationship.NEXT: '3'>: RelatedNodeInfo(node_id='283bffed-a4b7-47bb-8c82-528b67ae3c9d', node_type='1', metadata={'window': '- Moroni 9:6 D&C 10:4, D&C 107:99–100\\n\\n- Why does the Lord expect you to be diligent?\\n   - D&C 75:2–5, D&C 123:12–14, D&C 127:4\\n\\n- How does diligence relate to agency?\\n   - Mosiah 4:26–27, D&C 58:26–29, Topical Guide, “Diligence, Diligent, Diligently” D&C 130:20–21\\n\\n## Obedience (Page 136)\\nAs a missionary, you are expected to keep the commandments willingly, to obey mission rules, and to follow the counsel of your leaders.  Obedience is the first law of heaven.  It is an act of faith.  You may sometimes be required to do things you do not completely understand.  As you obey, you increase in faith, knowledge, wisdom, testimony, protection, and freedom.  Strive to be obedient to the Lord, the living prophet, and your mission president.\\n “The discipline contained in daily obedience and clean living and wholesome lives builds an armor around you of protection and safety from the temptations that beset you as you proceed through mortality.” – ELDER L. TOM PERRY “CALLED TO SERVE,” ENSIGN, MAY 1991, 39\\n\\n#### Scripture Study (Page 136)\\n- What does it mean to be obedient?\\n   - 1 Nephi 2:3, Mosiah 5:8, Mosiah 15:7\\n  - D&C 82:8–10, Matthew 7:24–27, John 7:17\\n  - John 14:15, Topical Guide, “Obedience, Obedient, Obey”\\n\\n- What can you learn about obedience from these scriptures?\\n   - 1 Nephi 3:7, D&C 105:6, 2 Kings 5:1–14\\n\\n- Why did the young warriors in Helaman’s army obey with exactness? ', 'original_text': 'You may sometimes be required to do things you do not completely understand. '}, hash='112fb070ec9403505bdbb6a89f01e74c6bddad6264a134f31c69dde3098d3a7c')}, metadata_template='{key}: {value}', metadata_separator='\\n', text='It is an act of faith. ', mimetype='text/plain', start_char_idx=308707, end_char_idx=308730, metadata_seperator='\\n', text_template='{metadata_str}\\n\\n{content}'), score=0.6664243032202966), NodeWithScore(node=TextNode(id_='70606879-2e11-40b0-b2cf-a9d3d0410fb1', embedding=None, metadata={'window': 'As you explore the scriptures and search them, you learn of His ways, His love for all people, and His commandments.\\n Faith includes confidence in the mission and power of the Holy Ghost.  Through faith you receive answers to your prayers and personal inspiration to guide you in the Lord’s work.\\n\\n #### Scripture Study (Page 131)\\n- What is faith?\\n   - Alma 32:21, Ether 12:6, Hebrews 11:1; see footnote b Topical Guide, “Faith”.  Bible Dictionary, “Faith” True to the Faith, “Faith,” 54–56\\n\\n- How do you obtain faith, and what can you do through faith?\\n   - 2 Nephi 25:29, 2 Nephi 26:13, Mosiah 4:6–12, Alma 32, Helaman 15:7–8, Ether 12:7–22\\n   \\n- What blessings come through faith?\\n   - Mosiah 3:17, Mosiah 5:1–15, Helaman 5:9–12, Moroni 7:33, Romans 10:17, Hebrews 11, John 14:6\\n\\n## Hope (Page 131)\\nHope is an abiding trust that the Lord will fulfill His promises to you.  It is manifest in confidence, optimism, enthusiasm, and patient perseverance.  It is believing and expecting that something will occur.  When you have hope, you work through trials and difficulties with the confidence and assurance that all things will work together for your good. ', 'original_text': 'Bible Dictionary, “Faith” True to the Faith, “Faith,” 54–56\\n\\n- How do you obtain faith, and what can you do through faith?\\n  '}, excluded_embed_metadata_keys=['window', 'original_text'], excluded_llm_metadata_keys=['window', 'original_text'], relationships={<NodeRelationship.SOURCE: '1'>: RelatedNodeInfo(node_id='58b1954e-3a51-4786-aeef-eda098163f52', node_type='4', metadata={}, hash='b04037d0793be2d84c3865c7cdb8485e3bd83a3632378c9fbd3d30400eabc528'), <NodeRelationship.PREVIOUS: '2'>: RelatedNodeInfo(node_id='617571b9-7d66-41d0-9eff-25859a99ac0f', node_type='1', metadata={'window': 'Your faith in Jesus Christ grows as you become better acquainted with Him and His teachings.  As you explore the scriptures and search them, you learn of His ways, His love for all people, and His commandments.\\n Faith includes confidence in the mission and power of the Holy Ghost.  Through faith you receive answers to your prayers and personal inspiration to guide you in the Lord’s work.\\n\\n #### Scripture Study (Page 131)\\n- What is faith?\\n   - Alma 32:21, Ether 12:6, Hebrews 11:1; see footnote b Topical Guide, “Faith”.  Bible Dictionary, “Faith” True to the Faith, “Faith,” 54–56\\n\\n- How do you obtain faith, and what can you do through faith?\\n   - 2 Nephi 25:29, 2 Nephi 26:13, Mosiah 4:6–12, Alma 32, Helaman 15:7–8, Ether 12:7–22\\n   \\n- What blessings come through faith?\\n   - Mosiah 3:17, Mosiah 5:1–15, Helaman 5:9–12, Moroni 7:33, Romans 10:17, Hebrews 11, John 14:6\\n\\n## Hope (Page 131)\\nHope is an abiding trust that the Lord will fulfill His promises to you.  It is manifest in confidence, optimism, enthusiasm, and patient perseverance.  It is believing and expecting that something will occur. ', 'original_text': '- Alma 32:21, Ether 12:6, Hebrews 11:1; see footnote b Topical Guide, “Faith”. '}, hash='10b33f5c9be96504508c53bf74fd5ad46908a17b9979d711024c3a93112f1510'), <NodeRelationship.NEXT: '3'>: RelatedNodeInfo(node_id='64a31820-95cb-4b23-abe5-3554b74acb59', node_type='1', metadata={'window': 'Faith includes confidence in the mission and power of the Holy Ghost.  Through faith you receive answers to your prayers and personal inspiration to guide you in the Lord’s work.\\n\\n #### Scripture Study (Page 131)\\n- What is faith?\\n   - Alma 32:21, Ether 12:6, Hebrews 11:1; see footnote b Topical Guide, “Faith”.  Bible Dictionary, “Faith” True to the Faith, “Faith,” 54–56\\n\\n- How do you obtain faith, and what can you do through faith?\\n   - 2 Nephi 25:29, 2 Nephi 26:13, Mosiah 4:6–12, Alma 32, Helaman 15:7–8, Ether 12:7–22\\n   \\n- What blessings come through faith?\\n   - Mosiah 3:17, Mosiah 5:1–15, Helaman 5:9–12, Moroni 7:33, Romans 10:17, Hebrews 11, John 14:6\\n\\n## Hope (Page 131)\\nHope is an abiding trust that the Lord will fulfill His promises to you.  It is manifest in confidence, optimism, enthusiasm, and patient perseverance.  It is believing and expecting that something will occur.  When you have hope, you work through trials and difficulties with the confidence and assurance that all things will work together for your good.  Hope helps you conquer discouragement. ', 'original_text': '- 2 Nephi 25:29, 2 Nephi 26:13, Mosiah 4:6–12, Alma 32, Helaman 15:7–8, Ether 12:7–22\\n   \\n- What blessings come through faith?\\n  '}, hash='fa0cff67b6ea6d78d4935b8c5f11c867e79548c116c6740b7942fe7ff5dbd8b2')}, metadata_template='{key}: {value}', metadata_separator='\\n', text='Bible Dictionary, “Faith” True to the Faith, “Faith,” 54–56\\n\\n- How do you obtain faith, and what can you do through faith?\\n  ', mimetype='text/plain', start_char_idx=296656, end_char_idx=296781, metadata_seperator='\\n', text_template='{metadata_str}\\n\\n{content}'), score=0.6315100876770282), NodeWithScore(node=TextNode(id_='65854fd0-ced0-4c10-9ddd-bc817b4a798e', embedding=None, metadata={'window': '- Identify an attribute you wish to study.  Follow the pattern under the heading “Developing Christlike Attributes” found at the end of the chapter.\\n\\n ## Faith in Jesus Christ (Page 130)\\nWhen you have faith in Christ, you believe in Him as the Son of God, the Only Begotten of the Father in the Flesh.  You accept Him as your Savior and Redeemer and follow His teachings.  You believe that your sins can be forgiven through His Atonement.  Faith in Him means that you trust Him and are confident that He loves you.\\n Faith leads to action, including repentance, obedience and dedicated service.  When you have faith in Jesus Christ, you trust the Lord enough to follow His commandments—even when you do not completely understand the reasons for them.  You accomplish what the Lord wants you to accomplish.  You help bring about good in your own life and the lives of others.  You are able to do miracles according to the Lord’s will. ', 'original_text': 'Faith in Him means that you trust Him and are confident that He loves you.\\n'}, excluded_embed_metadata_keys=['window', 'original_text'], excluded_llm_metadata_keys=['window', 'original_text'], relationships={<NodeRelationship.SOURCE: '1'>: RelatedNodeInfo(node_id='58b1954e-3a51-4786-aeef-eda098163f52', node_type='4', metadata={}, hash='b04037d0793be2d84c3865c7cdb8485e3bd83a3632378c9fbd3d30400eabc528'), <NodeRelationship.PREVIOUS: '2'>: RelatedNodeInfo(node_id='45d83da9-1d73-47ef-9f56-9aaee19d962f', node_type='1', metadata={'window': 'Record in your study journal ideas for developing the attribute.\\n - Identify an attribute you wish to study.  Follow the pattern under the heading “Developing Christlike Attributes” found at the end of the chapter.\\n\\n ## Faith in Jesus Christ (Page 130)\\nWhen you have faith in Christ, you believe in Him as the Son of God, the Only Begotten of the Father in the Flesh.  You accept Him as your Savior and Redeemer and follow His teachings.  You believe that your sins can be forgiven through His Atonement.  Faith in Him means that you trust Him and are confident that He loves you.\\n Faith leads to action, including repentance, obedience and dedicated service.  When you have faith in Jesus Christ, you trust the Lord enough to follow His commandments—even when you do not completely understand the reasons for them.  You accomplish what the Lord wants you to accomplish.  You help bring about good in your own life and the lives of others. ', 'original_text': 'You believe that your sins can be forgiven through His Atonement. '}, hash='6f6a83fb781d183f2f1c58acce0672dcd2ad3355407750196900d61200567436'), <NodeRelationship.NEXT: '3'>: RelatedNodeInfo(node_id='161f3bdf-c75c-4f38-9f97-55e5f1e59fdf', node_type='1', metadata={'window': 'Follow the pattern under the heading “Developing Christlike Attributes” found at the end of the chapter.\\n\\n ## Faith in Jesus Christ (Page 130)\\nWhen you have faith in Christ, you believe in Him as the Son of God, the Only Begotten of the Father in the Flesh.  You accept Him as your Savior and Redeemer and follow His teachings.  You believe that your sins can be forgiven through His Atonement.  Faith in Him means that you trust Him and are confident that He loves you.\\n Faith leads to action, including repentance, obedience and dedicated service.  When you have faith in Jesus Christ, you trust the Lord enough to follow His commandments—even when you do not completely understand the reasons for them.  You accomplish what the Lord wants you to accomplish.  You help bring about good in your own life and the lives of others.  You are able to do miracles according to the Lord’s will.  Your faith will be manifest through diligence and work.\\n', 'original_text': 'Faith leads to action, including repentance, obedience and dedicated service. '}, hash='3c1700b19b0a87898dbbe65383a7c192221e9d8700fcc1e90449df7775e8a78d')}, metadata_template='{key}: {value}', metadata_separator='\\n', text='Faith in Him means that you trust Him and are confident that He loves you.\\n', mimetype='text/plain', start_char_idx=295233, end_char_idx=295308, metadata_seperator='\\n', text_template='{metadata_str}\\n\\n{content}'), score=0.6012668890692091), NodeWithScore(node=TextNode(id_='53f478dd-f37c-49ac-aa7d-aaeba4233a3f', embedding=None, metadata={'window': 'One of the missionaries should write the plan down, including the daily activities.  Have each group present its plan.  After each presentation, ask:\\n  - What did the missionaries need to know in each situation?\\n   - What might the result be if you do not plan meaningful activities or do not plan at all?\\n After all the presentations, ask:\\n  - How are planning and goal setting acts of love?  acts of faith?\\n \\n\\n ### Mission President (Page 167)\\n- Ask missionaries to bring their area books to zone conference or to interviews.  In addition to reviewing the area books yourself, consider having mission leaders or your wife review the area books.\\n - Occasionally observe missionaries’ weekly or daily planning sessions.\\n - Occasionally conduct interviews in missionary apartments.  As you do so, have your wife or the assistants to the president review missionaries’ area books and daily planners.\\n', 'original_text': 'acts of faith?\\n \\n\\n'}, excluded_embed_metadata_keys=['window', 'original_text'], excluded_llm_metadata_keys=['window', 'original_text'], relationships={<NodeRelationship.SOURCE: '1'>: RelatedNodeInfo(node_id='58b1954e-3a51-4786-aeef-eda098163f52', node_type='4', metadata={}, hash='b04037d0793be2d84c3865c7cdb8485e3bd83a3632378c9fbd3d30400eabc528'), <NodeRelationship.PREVIOUS: '2'>: RelatedNodeInfo(node_id='0a66ef91-6b27-4e5c-951f-26bf29e89a02', node_type='1', metadata={'window': 'Tell the missionaries they have eight minutes to develop a plan.  One of the missionaries should write the plan down, including the daily activities.  Have each group present its plan.  After each presentation, ask:\\n  - What did the missionaries need to know in each situation?\\n   - What might the result be if you do not plan meaningful activities or do not plan at all?\\n After all the presentations, ask:\\n  - How are planning and goal setting acts of love?  acts of faith?\\n \\n\\n ### Mission President (Page 167)\\n- Ask missionaries to bring their area books to zone conference or to interviews.  In addition to reviewing the area books yourself, consider having mission leaders or your wife review the area books.\\n - Occasionally observe missionaries’ weekly or daily planning sessions.\\n - Occasionally conduct interviews in missionary apartments. ', 'original_text': 'After all the presentations, ask:\\n  - How are planning and goal setting acts of love? '}, hash='1dcd3bb603a11b8fdbd11fc388a2662fa378638e8595fdace7465d6c0e47e5ef'), <NodeRelationship.NEXT: '3'>: RelatedNodeInfo(node_id='16821e72-663a-47fe-ae1b-64bebeef9b07', node_type='1', metadata={'window': 'Have each group present its plan.  After each presentation, ask:\\n  - What did the missionaries need to know in each situation?\\n   - What might the result be if you do not plan meaningful activities or do not plan at all?\\n After all the presentations, ask:\\n  - How are planning and goal setting acts of love?  acts of faith?\\n \\n\\n ### Mission President (Page 167)\\n- Ask missionaries to bring their area books to zone conference or to interviews.  In addition to reviewing the area books yourself, consider having mission leaders or your wife review the area books.\\n - Occasionally observe missionaries’ weekly or daily planning sessions.\\n - Occasionally conduct interviews in missionary apartments.  As you do so, have your wife or the assistants to the president review missionaries’ area books and daily planners.\\n - Frequently review missionaries’ daily planners.\\n', 'original_text': '### Mission President (Page 167)\\n- Ask missionaries to bring their area books to zone conference or to interviews. '}, hash='3381e241ae63d531deeca3069ba24f33e491caba9efcf8b1be760074ba0442c7')}, metadata_template='{key}: {value}', metadata_separator='\\n', text='acts of faith?\\n \\n\\n', mimetype='text/plain', start_char_idx=376601, end_char_idx=376619, metadata_seperator='\\n', text_template='{metadata_str}\\n\\n{content}'), score=0.5868578476773793), NodeWithScore(node=TextNode(id_='6f9a5a14-2dec-46dc-bee1-1de496fd2389', embedding=None, metadata={'window': 'When you have faith in Jesus Christ, you trust the Lord enough to follow His commandments—even when you do not completely understand the reasons for them.  You accomplish what the Lord wants you to accomplish.  You help bring about good in your own life and the lives of others.  You are able to do miracles according to the Lord’s will.  Your faith will be manifest through diligence and work.\\n Faith is a principle of power.  God works by power, but His power is usually exercised in response to faith (see Moroni 10:7).  He works according to the faith of His children.  Doubt and fear are opposed to faith.\\n Your faith will increase through diligent study, prayer, dedicated service, and obedience to the promptings of the Holy Ghost and the commandments.\\n Your faith in Jesus Christ grows as you become better acquainted with Him and His teachings. ', 'original_text': 'Faith is a principle of power. '}, excluded_embed_metadata_keys=['window', 'original_text'], excluded_llm_metadata_keys=['window', 'original_text'], relationships={<NodeRelationship.SOURCE: '1'>: RelatedNodeInfo(node_id='58b1954e-3a51-4786-aeef-eda098163f52', node_type='4', metadata={}, hash='b04037d0793be2d84c3865c7cdb8485e3bd83a3632378c9fbd3d30400eabc528'), <NodeRelationship.PREVIOUS: '2'>: RelatedNodeInfo(node_id='e2daa531-4916-434b-9389-ab0c00baf844', node_type='1', metadata={'window': 'Faith leads to action, including repentance, obedience and dedicated service.  When you have faith in Jesus Christ, you trust the Lord enough to follow His commandments—even when you do not completely understand the reasons for them.  You accomplish what the Lord wants you to accomplish.  You help bring about good in your own life and the lives of others.  You are able to do miracles according to the Lord’s will.  Your faith will be manifest through diligence and work.\\n Faith is a principle of power.  God works by power, but His power is usually exercised in response to faith (see Moroni 10:7).  He works according to the faith of His children.  Doubt and fear are opposed to faith.\\n Your faith will increase through diligent study, prayer, dedicated service, and obedience to the promptings of the Holy Ghost and the commandments.\\n', 'original_text': 'Your faith will be manifest through diligence and work.\\n'}, hash='b041ac67af2bd3e5ba3211a21d576c250db6640f4090490b8c1ee885d8a0fd96'), <NodeRelationship.NEXT: '3'>: RelatedNodeInfo(node_id='6da3f9b0-f2c9-4637-8630-fff9538f246d', node_type='1', metadata={'window': 'You accomplish what the Lord wants you to accomplish.  You help bring about good in your own life and the lives of others.  You are able to do miracles according to the Lord’s will.  Your faith will be manifest through diligence and work.\\n Faith is a principle of power.  God works by power, but His power is usually exercised in response to faith (see Moroni 10:7).  He works according to the faith of His children.  Doubt and fear are opposed to faith.\\n Your faith will increase through diligent study, prayer, dedicated service, and obedience to the promptings of the Holy Ghost and the commandments.\\n Your faith in Jesus Christ grows as you become better acquainted with Him and His teachings.  As you explore the scriptures and search them, you learn of His ways, His love for all people, and His commandments.\\n', 'original_text': 'God works by power, but His power is usually exercised in response to faith (see Moroni 10:7). '}, hash='e9ab83f97af85e1cd73039e6474451c5bf3f2b8b2fa243f1731f87ee7f41f96d')}, metadata_template='{key}: {value}', metadata_separator='\\n', text='Faith is a principle of power. ', mimetype='text/plain', start_char_idx=295777, end_char_idx=295808, metadata_seperator='\\n', text_template='{metadata_str}\\n\\n{content}'), score=0.5729078153139244)]\n"
     ]
    }
   ],
   "source": [
    "resp = retriever_engine.retrieve(\"What is faith?\")\n",
    "print(resp)"
   ]
  },
  {
   "cell_type": "code",
   "execution_count": 32,
   "id": "cf730a69",
   "metadata": {},
   "outputs": [
    {
     "name": "stdout",
     "output_type": "stream",
     "text": [
      "0.7049004998733155\n",
      "0.6664243032202966\n",
      "0.6315100876770282\n",
      "0.6012668890692091\n",
      "0.5868578476773793\n",
      "0.5729078153139244\n"
     ]
    }
   ],
   "source": [
    "for i in resp:\n",
    "    # print(i.text)\n",
    "    # print(i.metadata[\"window\"])\n",
    "    print(i.score)\n",
    "    # print(\"-----\")"
   ]
  },
  {
   "cell_type": "code",
   "execution_count": 34,
   "id": "6ca188f5",
   "metadata": {},
   "outputs": [
    {
     "name": "stdout",
     "output_type": "stream",
     "text": [
      "#### Scripture Study (Page 131)\n",
      "- What is faith?\n",
      "  \n",
      "------------------------------\n",
      "It is an act of faith. \n",
      "------------------------------\n",
      "Bible Dictionary, “Faith” True to the Faith, “Faith,” 54–56\n",
      "\n",
      "- How do you obtain faith, and what can you do through faith?\n",
      "  \n",
      "------------------------------\n",
      "Faith in Him means that you trust Him and are confident that He loves you.\n",
      "\n",
      "------------------------------\n",
      "acts of faith?\n",
      " \n",
      "\n",
      "\n",
      "------------------------------\n",
      "Faith is a principle of power. \n",
      "------------------------------\n"
     ]
    }
   ],
   "source": [
    "for i in resp:\n",
    "    print(i.text)\n",
    "    print(\"-\"*30)"
   ]
  },
  {
   "cell_type": "code",
   "execution_count": 35,
   "id": "15e16094",
   "metadata": {},
   "outputs": [
    {
     "name": "stdout",
     "output_type": "stream",
     "text": [
      "Your faith will increase through diligent study, prayer, dedicated service, and obedience to the promptings of the Holy Ghost and the commandments.\n",
      " Your faith in Jesus Christ grows as you become better acquainted with Him and His teachings.  As you explore the scriptures and search them, you learn of His ways, His love for all people, and His commandments.\n",
      " Faith includes confidence in the mission and power of the Holy Ghost.  Through faith you receive answers to your prayers and personal inspiration to guide you in the Lord’s work.\n",
      "\n",
      " #### Scripture Study (Page 131)\n",
      "- What is faith?\n",
      "   - Alma 32:21, Ether 12:6, Hebrews 11:1; see footnote b Topical Guide, “Faith”.  Bible Dictionary, “Faith” True to the Faith, “Faith,” 54–56\n",
      "\n",
      "- How do you obtain faith, and what can you do through faith?\n",
      "   - 2 Nephi 25:29, 2 Nephi 26:13, Mosiah 4:6–12, Alma 32, Helaman 15:7–8, Ether 12:7–22\n",
      "   \n",
      "- What blessings come through faith?\n",
      "   - Mosiah 3:17, Mosiah 5:1–15, Helaman 5:9–12, Moroni 7:33, Romans 10:17, Hebrews 11, John 14:6\n",
      "\n",
      "## Hope (Page 131)\n",
      "Hope is an abiding trust that the Lord will fulfill His promises to you.  It is manifest in confidence, optimism, enthusiasm, and patient perseverance. \n",
      "------------------------------\n",
      "Work, work, work—there is no satisfactory substitute, especially in missionary work.” – PRESIDENT EZRA TAFT BENSON THE TEACHINGS OF EZRA TAFT BENSON (1988), 200\n",
      "\n",
      "#### Scripture Study (Page 136)\n",
      "- What does it mean to be diligent?\n",
      "   - Moroni 9:6 D&C 10:4, D&C 107:99–100\n",
      "\n",
      "- Why does the Lord expect you to be diligent?\n",
      "   - D&C 75:2–5, D&C 123:12–14, D&C 127:4\n",
      "\n",
      "- How does diligence relate to agency?\n",
      "   - Mosiah 4:26–27, D&C 58:26–29, Topical Guide, “Diligence, Diligent, Diligently” D&C 130:20–21\n",
      "\n",
      "## Obedience (Page 136)\n",
      "As a missionary, you are expected to keep the commandments willingly, to obey mission rules, and to follow the counsel of your leaders.  Obedience is the first law of heaven.  It is an act of faith.  You may sometimes be required to do things you do not completely understand.  As you obey, you increase in faith, knowledge, wisdom, testimony, protection, and freedom.  Strive to be obedient to the Lord, the living prophet, and your mission president.\n",
      " “The discipline contained in daily obedience and clean living and wholesome lives builds an armor around you of protection and safety from the temptations that beset you as you proceed through mortality.” – ELDER L. TOM PERRY “CALLED TO SERVE,” ENSIGN, MAY 1991, 39\n",
      "\n",
      "#### Scripture Study (Page 136)\n",
      "- What does it mean to be obedient?\n",
      "   - 1 Nephi 2:3, Mosiah 5:8, Mosiah 15:7\n",
      "  - D&C 82:8–10, Matthew 7:24–27, John 7:17\n",
      "  - John 14:15, Topical Guide, “Obedience, Obedient, Obey”\n",
      "\n",
      "- What can you learn about obedience from these scriptures?\n",
      "  \n",
      "------------------------------\n",
      "As you explore the scriptures and search them, you learn of His ways, His love for all people, and His commandments.\n",
      " Faith includes confidence in the mission and power of the Holy Ghost.  Through faith you receive answers to your prayers and personal inspiration to guide you in the Lord’s work.\n",
      "\n",
      " #### Scripture Study (Page 131)\n",
      "- What is faith?\n",
      "   - Alma 32:21, Ether 12:6, Hebrews 11:1; see footnote b Topical Guide, “Faith”.  Bible Dictionary, “Faith” True to the Faith, “Faith,” 54–56\n",
      "\n",
      "- How do you obtain faith, and what can you do through faith?\n",
      "   - 2 Nephi 25:29, 2 Nephi 26:13, Mosiah 4:6–12, Alma 32, Helaman 15:7–8, Ether 12:7–22\n",
      "   \n",
      "- What blessings come through faith?\n",
      "   - Mosiah 3:17, Mosiah 5:1–15, Helaman 5:9–12, Moroni 7:33, Romans 10:17, Hebrews 11, John 14:6\n",
      "\n",
      "## Hope (Page 131)\n",
      "Hope is an abiding trust that the Lord will fulfill His promises to you.  It is manifest in confidence, optimism, enthusiasm, and patient perseverance.  It is believing and expecting that something will occur.  When you have hope, you work through trials and difficulties with the confidence and assurance that all things will work together for your good. \n",
      "------------------------------\n",
      "- Identify an attribute you wish to study.  Follow the pattern under the heading “Developing Christlike Attributes” found at the end of the chapter.\n",
      "\n",
      " ## Faith in Jesus Christ (Page 130)\n",
      "When you have faith in Christ, you believe in Him as the Son of God, the Only Begotten of the Father in the Flesh.  You accept Him as your Savior and Redeemer and follow His teachings.  You believe that your sins can be forgiven through His Atonement.  Faith in Him means that you trust Him and are confident that He loves you.\n",
      " Faith leads to action, including repentance, obedience and dedicated service.  When you have faith in Jesus Christ, you trust the Lord enough to follow His commandments—even when you do not completely understand the reasons for them.  You accomplish what the Lord wants you to accomplish.  You help bring about good in your own life and the lives of others.  You are able to do miracles according to the Lord’s will. \n",
      "------------------------------\n",
      "One of the missionaries should write the plan down, including the daily activities.  Have each group present its plan.  After each presentation, ask:\n",
      "  - What did the missionaries need to know in each situation?\n",
      "   - What might the result be if you do not plan meaningful activities or do not plan at all?\n",
      " After all the presentations, ask:\n",
      "  - How are planning and goal setting acts of love?  acts of faith?\n",
      " \n",
      "\n",
      " ### Mission President (Page 167)\n",
      "- Ask missionaries to bring their area books to zone conference or to interviews.  In addition to reviewing the area books yourself, consider having mission leaders or your wife review the area books.\n",
      " - Occasionally observe missionaries’ weekly or daily planning sessions.\n",
      " - Occasionally conduct interviews in missionary apartments.  As you do so, have your wife or the assistants to the president review missionaries’ area books and daily planners.\n",
      "\n",
      "------------------------------\n",
      "When you have faith in Jesus Christ, you trust the Lord enough to follow His commandments—even when you do not completely understand the reasons for them.  You accomplish what the Lord wants you to accomplish.  You help bring about good in your own life and the lives of others.  You are able to do miracles according to the Lord’s will.  Your faith will be manifest through diligence and work.\n",
      " Faith is a principle of power.  God works by power, but His power is usually exercised in response to faith (see Moroni 10:7).  He works according to the faith of His children.  Doubt and fear are opposed to faith.\n",
      " Your faith will increase through diligent study, prayer, dedicated service, and obedience to the promptings of the Holy Ghost and the commandments.\n",
      " Your faith in Jesus Christ grows as you become better acquainted with Him and His teachings. \n",
      "------------------------------\n"
     ]
    }
   ],
   "source": [
    "for i in resp:\n",
    "    print(i.metadata[\"window\"])\n",
    "    print(\"-\"*30)"
   ]
  },
  {
   "cell_type": "code",
   "execution_count": 37,
   "id": "f8328de1",
   "metadata": {},
   "outputs": [],
   "source": [
    "from llama_index.core.postprocessor import SimilarityPostprocessor\n",
    "\n",
    "processor = SimilarityPostprocessor(similarity_cutoff=0.50)\n",
    "context = processor.postprocess_nodes(resp)"
   ]
  },
  {
   "cell_type": "code",
   "execution_count": 39,
   "id": "ddb0309b",
   "metadata": {},
   "outputs": [
    {
     "name": "stdout",
     "output_type": "stream",
     "text": [
      "[NodeWithScore(node=TextNode(id_='9cbd7f7b-a126-490b-9855-4c35b15cd082', embedding=None, metadata={'window': 'Your faith will increase through diligent study, prayer, dedicated service, and obedience to the promptings of the Holy Ghost and the commandments.\\n Your faith in Jesus Christ grows as you become better acquainted with Him and His teachings.  As you explore the scriptures and search them, you learn of His ways, His love for all people, and His commandments.\\n Faith includes confidence in the mission and power of the Holy Ghost.  Through faith you receive answers to your prayers and personal inspiration to guide you in the Lord’s work.\\n\\n #### Scripture Study (Page 131)\\n- What is faith?\\n   - Alma 32:21, Ether 12:6, Hebrews 11:1; see footnote b Topical Guide, “Faith”.  Bible Dictionary, “Faith” True to the Faith, “Faith,” 54–56\\n\\n- How do you obtain faith, and what can you do through faith?\\n   - 2 Nephi 25:29, 2 Nephi 26:13, Mosiah 4:6–12, Alma 32, Helaman 15:7–8, Ether 12:7–22\\n   \\n- What blessings come through faith?\\n   - Mosiah 3:17, Mosiah 5:1–15, Helaman 5:9–12, Moroni 7:33, Romans 10:17, Hebrews 11, John 14:6\\n\\n## Hope (Page 131)\\nHope is an abiding trust that the Lord will fulfill His promises to you.  It is manifest in confidence, optimism, enthusiasm, and patient perseverance. ', 'original_text': '#### Scripture Study (Page 131)\\n- What is faith?\\n  '}, excluded_embed_metadata_keys=['window', 'original_text'], excluded_llm_metadata_keys=['window', 'original_text'], relationships={<NodeRelationship.SOURCE: '1'>: RelatedNodeInfo(node_id='58b1954e-3a51-4786-aeef-eda098163f52', node_type='4', metadata={}, hash='b04037d0793be2d84c3865c7cdb8485e3bd83a3632378c9fbd3d30400eabc528'), <NodeRelationship.PREVIOUS: '2'>: RelatedNodeInfo(node_id='af2e4fd8-9433-4b49-b4da-0ec22cebec22', node_type='1', metadata={'window': 'Doubt and fear are opposed to faith.\\n Your faith will increase through diligent study, prayer, dedicated service, and obedience to the promptings of the Holy Ghost and the commandments.\\n Your faith in Jesus Christ grows as you become better acquainted with Him and His teachings.  As you explore the scriptures and search them, you learn of His ways, His love for all people, and His commandments.\\n Faith includes confidence in the mission and power of the Holy Ghost.  Through faith you receive answers to your prayers and personal inspiration to guide you in the Lord’s work.\\n\\n #### Scripture Study (Page 131)\\n- What is faith?\\n   - Alma 32:21, Ether 12:6, Hebrews 11:1; see footnote b Topical Guide, “Faith”.  Bible Dictionary, “Faith” True to the Faith, “Faith,” 54–56\\n\\n- How do you obtain faith, and what can you do through faith?\\n   - 2 Nephi 25:29, 2 Nephi 26:13, Mosiah 4:6–12, Alma 32, Helaman 15:7–8, Ether 12:7–22\\n   \\n- What blessings come through faith?\\n   - Mosiah 3:17, Mosiah 5:1–15, Helaman 5:9–12, Moroni 7:33, Romans 10:17, Hebrews 11, John 14:6\\n\\n## Hope (Page 131)\\nHope is an abiding trust that the Lord will fulfill His promises to you. ', 'original_text': 'Through faith you receive answers to your prayers and personal inspiration to guide you in the Lord’s work.\\n\\n'}, hash='28eb8e46ff1a2dd5affd8924a7f536e946b4dc26ebe3a2fbfb94fa428e6e233e'), <NodeRelationship.NEXT: '3'>: RelatedNodeInfo(node_id='617571b9-7d66-41d0-9eff-25859a99ac0f', node_type='1', metadata={'window': 'Your faith in Jesus Christ grows as you become better acquainted with Him and His teachings.  As you explore the scriptures and search them, you learn of His ways, His love for all people, and His commandments.\\n Faith includes confidence in the mission and power of the Holy Ghost.  Through faith you receive answers to your prayers and personal inspiration to guide you in the Lord’s work.\\n\\n #### Scripture Study (Page 131)\\n- What is faith?\\n   - Alma 32:21, Ether 12:6, Hebrews 11:1; see footnote b Topical Guide, “Faith”.  Bible Dictionary, “Faith” True to the Faith, “Faith,” 54–56\\n\\n- How do you obtain faith, and what can you do through faith?\\n   - 2 Nephi 25:29, 2 Nephi 26:13, Mosiah 4:6–12, Alma 32, Helaman 15:7–8, Ether 12:7–22\\n   \\n- What blessings come through faith?\\n   - Mosiah 3:17, Mosiah 5:1–15, Helaman 5:9–12, Moroni 7:33, Romans 10:17, Hebrews 11, John 14:6\\n\\n## Hope (Page 131)\\nHope is an abiding trust that the Lord will fulfill His promises to you.  It is manifest in confidence, optimism, enthusiasm, and patient perseverance.  It is believing and expecting that something will occur. ', 'original_text': '- Alma 32:21, Ether 12:6, Hebrews 11:1; see footnote b Topical Guide, “Faith”. '}, hash='10b33f5c9be96504508c53bf74fd5ad46908a17b9979d711024c3a93112f1510')}, metadata_template='{key}: {value}', metadata_separator='\\n', text='#### Scripture Study (Page 131)\\n- What is faith?\\n  ', mimetype='text/plain', start_char_idx=296526, end_char_idx=296577, metadata_seperator='\\n', text_template='{metadata_str}\\n\\n{content}'), score=0.7049004998733155), NodeWithScore(node=TextNode(id_='8ab6a783-6118-49c6-ad1e-2190d6169c2d', embedding=None, metadata={'window': 'Work, work, work—there is no satisfactory substitute, especially in missionary work.” – PRESIDENT EZRA TAFT BENSON THE TEACHINGS OF EZRA TAFT BENSON (1988), 200\\n\\n#### Scripture Study (Page 136)\\n- What does it mean to be diligent?\\n   - Moroni 9:6 D&C 10:4, D&C 107:99–100\\n\\n- Why does the Lord expect you to be diligent?\\n   - D&C 75:2–5, D&C 123:12–14, D&C 127:4\\n\\n- How does diligence relate to agency?\\n   - Mosiah 4:26–27, D&C 58:26–29, Topical Guide, “Diligence, Diligent, Diligently” D&C 130:20–21\\n\\n## Obedience (Page 136)\\nAs a missionary, you are expected to keep the commandments willingly, to obey mission rules, and to follow the counsel of your leaders.  Obedience is the first law of heaven.  It is an act of faith.  You may sometimes be required to do things you do not completely understand.  As you obey, you increase in faith, knowledge, wisdom, testimony, protection, and freedom.  Strive to be obedient to the Lord, the living prophet, and your mission president.\\n “The discipline contained in daily obedience and clean living and wholesome lives builds an armor around you of protection and safety from the temptations that beset you as you proceed through mortality.” – ELDER L. TOM PERRY “CALLED TO SERVE,” ENSIGN, MAY 1991, 39\\n\\n#### Scripture Study (Page 136)\\n- What does it mean to be obedient?\\n   - 1 Nephi 2:3, Mosiah 5:8, Mosiah 15:7\\n  - D&C 82:8–10, Matthew 7:24–27, John 7:17\\n  - John 14:15, Topical Guide, “Obedience, Obedient, Obey”\\n\\n- What can you learn about obedience from these scriptures?\\n  ', 'original_text': 'It is an act of faith. '}, excluded_embed_metadata_keys=['window', 'original_text'], excluded_llm_metadata_keys=['window', 'original_text'], relationships={<NodeRelationship.SOURCE: '1'>: RelatedNodeInfo(node_id='58b1954e-3a51-4786-aeef-eda098163f52', node_type='4', metadata={}, hash='b04037d0793be2d84c3865c7cdb8485e3bd83a3632378c9fbd3d30400eabc528'), <NodeRelationship.PREVIOUS: '2'>: RelatedNodeInfo(node_id='3225ad53-da97-4d91-a0ce-dfe31cc171f0', node_type='1', metadata={'window': 'There will be no homesickness, no worrying about families, for all time and talents and interests are centered on the work of the ministry.  Work, work, work—there is no satisfactory substitute, especially in missionary work.” – PRESIDENT EZRA TAFT BENSON THE TEACHINGS OF EZRA TAFT BENSON (1988), 200\\n\\n#### Scripture Study (Page 136)\\n- What does it mean to be diligent?\\n   - Moroni 9:6 D&C 10:4, D&C 107:99–100\\n\\n- Why does the Lord expect you to be diligent?\\n   - D&C 75:2–5, D&C 123:12–14, D&C 127:4\\n\\n- How does diligence relate to agency?\\n   - Mosiah 4:26–27, D&C 58:26–29, Topical Guide, “Diligence, Diligent, Diligently” D&C 130:20–21\\n\\n## Obedience (Page 136)\\nAs a missionary, you are expected to keep the commandments willingly, to obey mission rules, and to follow the counsel of your leaders.  Obedience is the first law of heaven.  It is an act of faith.  You may sometimes be required to do things you do not completely understand.  As you obey, you increase in faith, knowledge, wisdom, testimony, protection, and freedom.  Strive to be obedient to the Lord, the living prophet, and your mission president.\\n “The discipline contained in daily obedience and clean living and wholesome lives builds an armor around you of protection and safety from the temptations that beset you as you proceed through mortality.” – ELDER L. TOM PERRY “CALLED TO SERVE,” ENSIGN, MAY 1991, 39\\n\\n#### Scripture Study (Page 136)\\n- What does it mean to be obedient?\\n  ', 'original_text': 'Obedience is the first law of heaven. '}, hash='46cf74920d4f224df3bd1d496ea3e39bc12486206c67a76979d619ffeba6a1b2'), <NodeRelationship.NEXT: '3'>: RelatedNodeInfo(node_id='283bffed-a4b7-47bb-8c82-528b67ae3c9d', node_type='1', metadata={'window': '- Moroni 9:6 D&C 10:4, D&C 107:99–100\\n\\n- Why does the Lord expect you to be diligent?\\n   - D&C 75:2–5, D&C 123:12–14, D&C 127:4\\n\\n- How does diligence relate to agency?\\n   - Mosiah 4:26–27, D&C 58:26–29, Topical Guide, “Diligence, Diligent, Diligently” D&C 130:20–21\\n\\n## Obedience (Page 136)\\nAs a missionary, you are expected to keep the commandments willingly, to obey mission rules, and to follow the counsel of your leaders.  Obedience is the first law of heaven.  It is an act of faith.  You may sometimes be required to do things you do not completely understand.  As you obey, you increase in faith, knowledge, wisdom, testimony, protection, and freedom.  Strive to be obedient to the Lord, the living prophet, and your mission president.\\n “The discipline contained in daily obedience and clean living and wholesome lives builds an armor around you of protection and safety from the temptations that beset you as you proceed through mortality.” – ELDER L. TOM PERRY “CALLED TO SERVE,” ENSIGN, MAY 1991, 39\\n\\n#### Scripture Study (Page 136)\\n- What does it mean to be obedient?\\n   - 1 Nephi 2:3, Mosiah 5:8, Mosiah 15:7\\n  - D&C 82:8–10, Matthew 7:24–27, John 7:17\\n  - John 14:15, Topical Guide, “Obedience, Obedient, Obey”\\n\\n- What can you learn about obedience from these scriptures?\\n   - 1 Nephi 3:7, D&C 105:6, 2 Kings 5:1–14\\n\\n- Why did the young warriors in Helaman’s army obey with exactness? ', 'original_text': 'You may sometimes be required to do things you do not completely understand. '}, hash='112fb070ec9403505bdbb6a89f01e74c6bddad6264a134f31c69dde3098d3a7c')}, metadata_template='{key}: {value}', metadata_separator='\\n', text='It is an act of faith. ', mimetype='text/plain', start_char_idx=308707, end_char_idx=308730, metadata_seperator='\\n', text_template='{metadata_str}\\n\\n{content}'), score=0.6664243032202966), NodeWithScore(node=TextNode(id_='70606879-2e11-40b0-b2cf-a9d3d0410fb1', embedding=None, metadata={'window': 'As you explore the scriptures and search them, you learn of His ways, His love for all people, and His commandments.\\n Faith includes confidence in the mission and power of the Holy Ghost.  Through faith you receive answers to your prayers and personal inspiration to guide you in the Lord’s work.\\n\\n #### Scripture Study (Page 131)\\n- What is faith?\\n   - Alma 32:21, Ether 12:6, Hebrews 11:1; see footnote b Topical Guide, “Faith”.  Bible Dictionary, “Faith” True to the Faith, “Faith,” 54–56\\n\\n- How do you obtain faith, and what can you do through faith?\\n   - 2 Nephi 25:29, 2 Nephi 26:13, Mosiah 4:6–12, Alma 32, Helaman 15:7–8, Ether 12:7–22\\n   \\n- What blessings come through faith?\\n   - Mosiah 3:17, Mosiah 5:1–15, Helaman 5:9–12, Moroni 7:33, Romans 10:17, Hebrews 11, John 14:6\\n\\n## Hope (Page 131)\\nHope is an abiding trust that the Lord will fulfill His promises to you.  It is manifest in confidence, optimism, enthusiasm, and patient perseverance.  It is believing and expecting that something will occur.  When you have hope, you work through trials and difficulties with the confidence and assurance that all things will work together for your good. ', 'original_text': 'Bible Dictionary, “Faith” True to the Faith, “Faith,” 54–56\\n\\n- How do you obtain faith, and what can you do through faith?\\n  '}, excluded_embed_metadata_keys=['window', 'original_text'], excluded_llm_metadata_keys=['window', 'original_text'], relationships={<NodeRelationship.SOURCE: '1'>: RelatedNodeInfo(node_id='58b1954e-3a51-4786-aeef-eda098163f52', node_type='4', metadata={}, hash='b04037d0793be2d84c3865c7cdb8485e3bd83a3632378c9fbd3d30400eabc528'), <NodeRelationship.PREVIOUS: '2'>: RelatedNodeInfo(node_id='617571b9-7d66-41d0-9eff-25859a99ac0f', node_type='1', metadata={'window': 'Your faith in Jesus Christ grows as you become better acquainted with Him and His teachings.  As you explore the scriptures and search them, you learn of His ways, His love for all people, and His commandments.\\n Faith includes confidence in the mission and power of the Holy Ghost.  Through faith you receive answers to your prayers and personal inspiration to guide you in the Lord’s work.\\n\\n #### Scripture Study (Page 131)\\n- What is faith?\\n   - Alma 32:21, Ether 12:6, Hebrews 11:1; see footnote b Topical Guide, “Faith”.  Bible Dictionary, “Faith” True to the Faith, “Faith,” 54–56\\n\\n- How do you obtain faith, and what can you do through faith?\\n   - 2 Nephi 25:29, 2 Nephi 26:13, Mosiah 4:6–12, Alma 32, Helaman 15:7–8, Ether 12:7–22\\n   \\n- What blessings come through faith?\\n   - Mosiah 3:17, Mosiah 5:1–15, Helaman 5:9–12, Moroni 7:33, Romans 10:17, Hebrews 11, John 14:6\\n\\n## Hope (Page 131)\\nHope is an abiding trust that the Lord will fulfill His promises to you.  It is manifest in confidence, optimism, enthusiasm, and patient perseverance.  It is believing and expecting that something will occur. ', 'original_text': '- Alma 32:21, Ether 12:6, Hebrews 11:1; see footnote b Topical Guide, “Faith”. '}, hash='10b33f5c9be96504508c53bf74fd5ad46908a17b9979d711024c3a93112f1510'), <NodeRelationship.NEXT: '3'>: RelatedNodeInfo(node_id='64a31820-95cb-4b23-abe5-3554b74acb59', node_type='1', metadata={'window': 'Faith includes confidence in the mission and power of the Holy Ghost.  Through faith you receive answers to your prayers and personal inspiration to guide you in the Lord’s work.\\n\\n #### Scripture Study (Page 131)\\n- What is faith?\\n   - Alma 32:21, Ether 12:6, Hebrews 11:1; see footnote b Topical Guide, “Faith”.  Bible Dictionary, “Faith” True to the Faith, “Faith,” 54–56\\n\\n- How do you obtain faith, and what can you do through faith?\\n   - 2 Nephi 25:29, 2 Nephi 26:13, Mosiah 4:6–12, Alma 32, Helaman 15:7–8, Ether 12:7–22\\n   \\n- What blessings come through faith?\\n   - Mosiah 3:17, Mosiah 5:1–15, Helaman 5:9–12, Moroni 7:33, Romans 10:17, Hebrews 11, John 14:6\\n\\n## Hope (Page 131)\\nHope is an abiding trust that the Lord will fulfill His promises to you.  It is manifest in confidence, optimism, enthusiasm, and patient perseverance.  It is believing and expecting that something will occur.  When you have hope, you work through trials and difficulties with the confidence and assurance that all things will work together for your good.  Hope helps you conquer discouragement. ', 'original_text': '- 2 Nephi 25:29, 2 Nephi 26:13, Mosiah 4:6–12, Alma 32, Helaman 15:7–8, Ether 12:7–22\\n   \\n- What blessings come through faith?\\n  '}, hash='fa0cff67b6ea6d78d4935b8c5f11c867e79548c116c6740b7942fe7ff5dbd8b2')}, metadata_template='{key}: {value}', metadata_separator='\\n', text='Bible Dictionary, “Faith” True to the Faith, “Faith,” 54–56\\n\\n- How do you obtain faith, and what can you do through faith?\\n  ', mimetype='text/plain', start_char_idx=296656, end_char_idx=296781, metadata_seperator='\\n', text_template='{metadata_str}\\n\\n{content}'), score=0.6315100876770282), NodeWithScore(node=TextNode(id_='65854fd0-ced0-4c10-9ddd-bc817b4a798e', embedding=None, metadata={'window': '- Identify an attribute you wish to study.  Follow the pattern under the heading “Developing Christlike Attributes” found at the end of the chapter.\\n\\n ## Faith in Jesus Christ (Page 130)\\nWhen you have faith in Christ, you believe in Him as the Son of God, the Only Begotten of the Father in the Flesh.  You accept Him as your Savior and Redeemer and follow His teachings.  You believe that your sins can be forgiven through His Atonement.  Faith in Him means that you trust Him and are confident that He loves you.\\n Faith leads to action, including repentance, obedience and dedicated service.  When you have faith in Jesus Christ, you trust the Lord enough to follow His commandments—even when you do not completely understand the reasons for them.  You accomplish what the Lord wants you to accomplish.  You help bring about good in your own life and the lives of others.  You are able to do miracles according to the Lord’s will. ', 'original_text': 'Faith in Him means that you trust Him and are confident that He loves you.\\n'}, excluded_embed_metadata_keys=['window', 'original_text'], excluded_llm_metadata_keys=['window', 'original_text'], relationships={<NodeRelationship.SOURCE: '1'>: RelatedNodeInfo(node_id='58b1954e-3a51-4786-aeef-eda098163f52', node_type='4', metadata={}, hash='b04037d0793be2d84c3865c7cdb8485e3bd83a3632378c9fbd3d30400eabc528'), <NodeRelationship.PREVIOUS: '2'>: RelatedNodeInfo(node_id='45d83da9-1d73-47ef-9f56-9aaee19d962f', node_type='1', metadata={'window': 'Record in your study journal ideas for developing the attribute.\\n - Identify an attribute you wish to study.  Follow the pattern under the heading “Developing Christlike Attributes” found at the end of the chapter.\\n\\n ## Faith in Jesus Christ (Page 130)\\nWhen you have faith in Christ, you believe in Him as the Son of God, the Only Begotten of the Father in the Flesh.  You accept Him as your Savior and Redeemer and follow His teachings.  You believe that your sins can be forgiven through His Atonement.  Faith in Him means that you trust Him and are confident that He loves you.\\n Faith leads to action, including repentance, obedience and dedicated service.  When you have faith in Jesus Christ, you trust the Lord enough to follow His commandments—even when you do not completely understand the reasons for them.  You accomplish what the Lord wants you to accomplish.  You help bring about good in your own life and the lives of others. ', 'original_text': 'You believe that your sins can be forgiven through His Atonement. '}, hash='6f6a83fb781d183f2f1c58acce0672dcd2ad3355407750196900d61200567436'), <NodeRelationship.NEXT: '3'>: RelatedNodeInfo(node_id='161f3bdf-c75c-4f38-9f97-55e5f1e59fdf', node_type='1', metadata={'window': 'Follow the pattern under the heading “Developing Christlike Attributes” found at the end of the chapter.\\n\\n ## Faith in Jesus Christ (Page 130)\\nWhen you have faith in Christ, you believe in Him as the Son of God, the Only Begotten of the Father in the Flesh.  You accept Him as your Savior and Redeemer and follow His teachings.  You believe that your sins can be forgiven through His Atonement.  Faith in Him means that you trust Him and are confident that He loves you.\\n Faith leads to action, including repentance, obedience and dedicated service.  When you have faith in Jesus Christ, you trust the Lord enough to follow His commandments—even when you do not completely understand the reasons for them.  You accomplish what the Lord wants you to accomplish.  You help bring about good in your own life and the lives of others.  You are able to do miracles according to the Lord’s will.  Your faith will be manifest through diligence and work.\\n', 'original_text': 'Faith leads to action, including repentance, obedience and dedicated service. '}, hash='3c1700b19b0a87898dbbe65383a7c192221e9d8700fcc1e90449df7775e8a78d')}, metadata_template='{key}: {value}', metadata_separator='\\n', text='Faith in Him means that you trust Him and are confident that He loves you.\\n', mimetype='text/plain', start_char_idx=295233, end_char_idx=295308, metadata_seperator='\\n', text_template='{metadata_str}\\n\\n{content}'), score=0.6012668890692091), NodeWithScore(node=TextNode(id_='53f478dd-f37c-49ac-aa7d-aaeba4233a3f', embedding=None, metadata={'window': 'One of the missionaries should write the plan down, including the daily activities.  Have each group present its plan.  After each presentation, ask:\\n  - What did the missionaries need to know in each situation?\\n   - What might the result be if you do not plan meaningful activities or do not plan at all?\\n After all the presentations, ask:\\n  - How are planning and goal setting acts of love?  acts of faith?\\n \\n\\n ### Mission President (Page 167)\\n- Ask missionaries to bring their area books to zone conference or to interviews.  In addition to reviewing the area books yourself, consider having mission leaders or your wife review the area books.\\n - Occasionally observe missionaries’ weekly or daily planning sessions.\\n - Occasionally conduct interviews in missionary apartments.  As you do so, have your wife or the assistants to the president review missionaries’ area books and daily planners.\\n', 'original_text': 'acts of faith?\\n \\n\\n'}, excluded_embed_metadata_keys=['window', 'original_text'], excluded_llm_metadata_keys=['window', 'original_text'], relationships={<NodeRelationship.SOURCE: '1'>: RelatedNodeInfo(node_id='58b1954e-3a51-4786-aeef-eda098163f52', node_type='4', metadata={}, hash='b04037d0793be2d84c3865c7cdb8485e3bd83a3632378c9fbd3d30400eabc528'), <NodeRelationship.PREVIOUS: '2'>: RelatedNodeInfo(node_id='0a66ef91-6b27-4e5c-951f-26bf29e89a02', node_type='1', metadata={'window': 'Tell the missionaries they have eight minutes to develop a plan.  One of the missionaries should write the plan down, including the daily activities.  Have each group present its plan.  After each presentation, ask:\\n  - What did the missionaries need to know in each situation?\\n   - What might the result be if you do not plan meaningful activities or do not plan at all?\\n After all the presentations, ask:\\n  - How are planning and goal setting acts of love?  acts of faith?\\n \\n\\n ### Mission President (Page 167)\\n- Ask missionaries to bring their area books to zone conference or to interviews.  In addition to reviewing the area books yourself, consider having mission leaders or your wife review the area books.\\n - Occasionally observe missionaries’ weekly or daily planning sessions.\\n - Occasionally conduct interviews in missionary apartments. ', 'original_text': 'After all the presentations, ask:\\n  - How are planning and goal setting acts of love? '}, hash='1dcd3bb603a11b8fdbd11fc388a2662fa378638e8595fdace7465d6c0e47e5ef'), <NodeRelationship.NEXT: '3'>: RelatedNodeInfo(node_id='16821e72-663a-47fe-ae1b-64bebeef9b07', node_type='1', metadata={'window': 'Have each group present its plan.  After each presentation, ask:\\n  - What did the missionaries need to know in each situation?\\n   - What might the result be if you do not plan meaningful activities or do not plan at all?\\n After all the presentations, ask:\\n  - How are planning and goal setting acts of love?  acts of faith?\\n \\n\\n ### Mission President (Page 167)\\n- Ask missionaries to bring their area books to zone conference or to interviews.  In addition to reviewing the area books yourself, consider having mission leaders or your wife review the area books.\\n - Occasionally observe missionaries’ weekly or daily planning sessions.\\n - Occasionally conduct interviews in missionary apartments.  As you do so, have your wife or the assistants to the president review missionaries’ area books and daily planners.\\n - Frequently review missionaries’ daily planners.\\n', 'original_text': '### Mission President (Page 167)\\n- Ask missionaries to bring their area books to zone conference or to interviews. '}, hash='3381e241ae63d531deeca3069ba24f33e491caba9efcf8b1be760074ba0442c7')}, metadata_template='{key}: {value}', metadata_separator='\\n', text='acts of faith?\\n \\n\\n', mimetype='text/plain', start_char_idx=376601, end_char_idx=376619, metadata_seperator='\\n', text_template='{metadata_str}\\n\\n{content}'), score=0.5868578476773793), NodeWithScore(node=TextNode(id_='6f9a5a14-2dec-46dc-bee1-1de496fd2389', embedding=None, metadata={'window': 'When you have faith in Jesus Christ, you trust the Lord enough to follow His commandments—even when you do not completely understand the reasons for them.  You accomplish what the Lord wants you to accomplish.  You help bring about good in your own life and the lives of others.  You are able to do miracles according to the Lord’s will.  Your faith will be manifest through diligence and work.\\n Faith is a principle of power.  God works by power, but His power is usually exercised in response to faith (see Moroni 10:7).  He works according to the faith of His children.  Doubt and fear are opposed to faith.\\n Your faith will increase through diligent study, prayer, dedicated service, and obedience to the promptings of the Holy Ghost and the commandments.\\n Your faith in Jesus Christ grows as you become better acquainted with Him and His teachings. ', 'original_text': 'Faith is a principle of power. '}, excluded_embed_metadata_keys=['window', 'original_text'], excluded_llm_metadata_keys=['window', 'original_text'], relationships={<NodeRelationship.SOURCE: '1'>: RelatedNodeInfo(node_id='58b1954e-3a51-4786-aeef-eda098163f52', node_type='4', metadata={}, hash='b04037d0793be2d84c3865c7cdb8485e3bd83a3632378c9fbd3d30400eabc528'), <NodeRelationship.PREVIOUS: '2'>: RelatedNodeInfo(node_id='e2daa531-4916-434b-9389-ab0c00baf844', node_type='1', metadata={'window': 'Faith leads to action, including repentance, obedience and dedicated service.  When you have faith in Jesus Christ, you trust the Lord enough to follow His commandments—even when you do not completely understand the reasons for them.  You accomplish what the Lord wants you to accomplish.  You help bring about good in your own life and the lives of others.  You are able to do miracles according to the Lord’s will.  Your faith will be manifest through diligence and work.\\n Faith is a principle of power.  God works by power, but His power is usually exercised in response to faith (see Moroni 10:7).  He works according to the faith of His children.  Doubt and fear are opposed to faith.\\n Your faith will increase through diligent study, prayer, dedicated service, and obedience to the promptings of the Holy Ghost and the commandments.\\n', 'original_text': 'Your faith will be manifest through diligence and work.\\n'}, hash='b041ac67af2bd3e5ba3211a21d576c250db6640f4090490b8c1ee885d8a0fd96'), <NodeRelationship.NEXT: '3'>: RelatedNodeInfo(node_id='6da3f9b0-f2c9-4637-8630-fff9538f246d', node_type='1', metadata={'window': 'You accomplish what the Lord wants you to accomplish.  You help bring about good in your own life and the lives of others.  You are able to do miracles according to the Lord’s will.  Your faith will be manifest through diligence and work.\\n Faith is a principle of power.  God works by power, but His power is usually exercised in response to faith (see Moroni 10:7).  He works according to the faith of His children.  Doubt and fear are opposed to faith.\\n Your faith will increase through diligent study, prayer, dedicated service, and obedience to the promptings of the Holy Ghost and the commandments.\\n Your faith in Jesus Christ grows as you become better acquainted with Him and His teachings.  As you explore the scriptures and search them, you learn of His ways, His love for all people, and His commandments.\\n', 'original_text': 'God works by power, but His power is usually exercised in response to faith (see Moroni 10:7). '}, hash='e9ab83f97af85e1cd73039e6474451c5bf3f2b8b2fa243f1731f87ee7f41f96d')}, metadata_template='{key}: {value}', metadata_separator='\\n', text='Faith is a principle of power. ', mimetype='text/plain', start_char_idx=295777, end_char_idx=295808, metadata_seperator='\\n', text_template='{metadata_str}\\n\\n{content}'), score=0.5729078153139244)]\n"
     ]
    }
   ],
   "source": [
    "print(context)"
   ]
  },
  {
   "cell_type": "code",
   "execution_count": 40,
   "id": "62867785",
   "metadata": {},
   "outputs": [
    {
     "name": "stdout",
     "output_type": "stream",
     "text": [
      "[NodeWithScore(node=TextNode(id_='aa6b5525-9b2c-47ce-9694-7e9da10dd3b8', embedding=None, metadata={'window': '- **Judgment:** God, through Jesus Christ, will judge us individually to determine the eternal glory we will receive.  This judgment will be based on our obedience to God’s commandments, including our acceptance of the atoning sacrifice of Jesus Christ.  We will receive our eternal reward based on whether our works and desires have been good or evil.\\n\\n - **Immortality:** The condition of living forever in a resurrected state, not subject to physical death.\\n\\n - **Mortality:** The time from birth until physical death.\\n\\n - **Physical death:** Separation of our spirit, which lives forever and cannot die, from our physical body.\\n\\n - **Premortal life (premortality; pre-earth life):** As spirit children of our Father in Heaven, we lived in His presence before we were born on this earth.  In premortal life we did not have physical bodies.\\n\\n - **Redemption:** To deliver, to purchase, or to ransom, such as to free a person from bondage by payment.  Redemption refers to the Atonement of Jesus Christ and to deliverance from sin.  Jesus’ Atonement redeems all mankind from physical death. ', 'original_text': '- **Physical death:** Separation of our spirit, which lives forever and cannot die, from our physical body.\\n\\n'}, excluded_embed_metadata_keys=['window', 'original_text'], excluded_llm_metadata_keys=['window', 'original_text'], relationships={<NodeRelationship.SOURCE: '1'>: RelatedNodeInfo(node_id='58b1954e-3a51-4786-aeef-eda098163f52', node_type='4', metadata={}, hash='b04037d0793be2d84c3865c7cdb8485e3bd83a3632378c9fbd3d30400eabc528'), <NodeRelationship.PREVIOUS: '2'>: RelatedNodeInfo(node_id='14604b57-34e3-4c78-ac33-86a1e8ef503e', node_type='1', metadata={'window': 'Latter-day revelation makes clear that the Fall is a blessing and that Adam and Eve should be honored as the first parents of all mankind.\\n\\n - **Judgment:** God, through Jesus Christ, will judge us individually to determine the eternal glory we will receive.  This judgment will be based on our obedience to God’s commandments, including our acceptance of the atoning sacrifice of Jesus Christ.  We will receive our eternal reward based on whether our works and desires have been good or evil.\\n\\n - **Immortality:** The condition of living forever in a resurrected state, not subject to physical death.\\n\\n - **Mortality:** The time from birth until physical death.\\n\\n - **Physical death:** Separation of our spirit, which lives forever and cannot die, from our physical body.\\n\\n - **Premortal life (premortality; pre-earth life):** As spirit children of our Father in Heaven, we lived in His presence before we were born on this earth.  In premortal life we did not have physical bodies.\\n\\n - **Redemption:** To deliver, to purchase, or to ransom, such as to free a person from bondage by payment.  Redemption refers to the Atonement of Jesus Christ and to deliverance from sin. ', 'original_text': '- **Mortality:** The time from birth until physical death.\\n\\n'}, hash='c2ce318e94ec82b40c697ddf1b499f4dc819e7cb52cfe8afff3e49fa85a35bd1'), <NodeRelationship.NEXT: '3'>: RelatedNodeInfo(node_id='3842edd9-8eac-4f0c-908d-a9e9bbbae543', node_type='1', metadata={'window': 'This judgment will be based on our obedience to God’s commandments, including our acceptance of the atoning sacrifice of Jesus Christ.  We will receive our eternal reward based on whether our works and desires have been good or evil.\\n\\n - **Immortality:** The condition of living forever in a resurrected state, not subject to physical death.\\n\\n - **Mortality:** The time from birth until physical death.\\n\\n - **Physical death:** Separation of our spirit, which lives forever and cannot die, from our physical body.\\n\\n - **Premortal life (premortality; pre-earth life):** As spirit children of our Father in Heaven, we lived in His presence before we were born on this earth.  In premortal life we did not have physical bodies.\\n\\n - **Redemption:** To deliver, to purchase, or to ransom, such as to free a person from bondage by payment.  Redemption refers to the Atonement of Jesus Christ and to deliverance from sin.  Jesus’ Atonement redeems all mankind from physical death.  Through His Atonement, those who have faith in Him and repent are also redeemed from spiritual death.\\n\\n', 'original_text': '- **Premortal life (premortality; pre-earth life):** As spirit children of our Father in Heaven, we lived in His presence before we were born on this earth. '}, hash='7f5f4e93123bd9c6a68144f02c3b03cdbf3e92cbc852479281e0c26284714fca')}, metadata_template='{key}: {value}', metadata_separator='\\n', text='- **Physical death:** Separation of our spirit, which lives forever and cannot die, from our physical body.\\n\\n', mimetype='text/plain', start_char_idx=151424, end_char_idx=151533, metadata_seperator='\\n', text_template='{metadata_str}\\n\\n{content}'), score=0.21772030948119733), NodeWithScore(node=TextNode(id_='96264b15-2067-49f6-ae9d-20c52f326599', embedding=None, metadata={'window': 'Became a teacher for a community of monks.\\n\\n - **Confucius:** Born in 551 B.C.  Orphaned as a child.  China’s first professional teacher.  China’s greatest moral and social thinker.  Said little about spiritual beings or divine powers.  Believed that heaven had entrusted him with a sacred mission as champion of the good and true.\\n\\n - **Mohammed:** Born in 570 A.D.  in Mecca.  Orphaned in childhood.  Lived a life of poverty. ', 'original_text': 'Said little about spiritual beings or divine powers. '}, excluded_embed_metadata_keys=['window', 'original_text'], excluded_llm_metadata_keys=['window', 'original_text'], relationships={<NodeRelationship.SOURCE: '1'>: RelatedNodeInfo(node_id='58b1954e-3a51-4786-aeef-eda098163f52', node_type='4', metadata={}, hash='b04037d0793be2d84c3865c7cdb8485e3bd83a3632378c9fbd3d30400eabc528'), <NodeRelationship.PREVIOUS: '2'>: RelatedNodeInfo(node_id='1e471347-6a8f-4d2d-b359-7ced81c02871', node_type='1', metadata={'window': 'Seeking enlightenment, he discovered what he called the “path of deliverance.” Claimed to reach Nirvana, a state of oblivion to care, pain, or external reality.  Became a teacher for a community of monks.\\n\\n - **Confucius:** Born in 551 B.C.  Orphaned as a child.  China’s first professional teacher.  China’s greatest moral and social thinker.  Said little about spiritual beings or divine powers.  Believed that heaven had entrusted him with a sacred mission as champion of the good and true.\\n\\n - **Mohammed:** Born in 570 A.D.  in Mecca.  Orphaned in childhood. ', 'original_text': 'China’s greatest moral and social thinker. '}, hash='a612864b3989be9ed198e66f088a74e3dbcff49f3f4b22b49b4661268f860932'), <NodeRelationship.NEXT: '3'>: RelatedNodeInfo(node_id='ef8c49ec-ace9-4f9e-9014-89a59d32cbd1', node_type='1', metadata={'window': '- **Confucius:** Born in 551 B.C.  Orphaned as a child.  China’s first professional teacher.  China’s greatest moral and social thinker.  Said little about spiritual beings or divine powers.  Believed that heaven had entrusted him with a sacred mission as champion of the good and true.\\n\\n - **Mohammed:** Born in 570 A.D.  in Mecca.  Orphaned in childhood.  Lived a life of poverty.  Gained reputation as a trusted peacemaker. ', 'original_text': 'Believed that heaven had entrusted him with a sacred mission as champion of the good and true.\\n\\n'}, hash='7c161d96f7e4466a92f0e6996c485cfbfc658dfce01901998ec5bbec08acf056')}, metadata_template='{key}: {value}', metadata_separator='\\n', text='Said little about spiritual beings or divine powers. ', mimetype='text/plain', start_char_idx=122376, end_char_idx=122429, metadata_seperator='\\n', text_template='{metadata_str}\\n\\n{content}'), score=0.21142982981400202), NodeWithScore(node=TextNode(id_='6f9a5a14-2dec-46dc-bee1-1de496fd2389', embedding=None, metadata={'window': 'When you have faith in Jesus Christ, you trust the Lord enough to follow His commandments—even when you do not completely understand the reasons for them.  You accomplish what the Lord wants you to accomplish.  You help bring about good in your own life and the lives of others.  You are able to do miracles according to the Lord’s will.  Your faith will be manifest through diligence and work.\\n Faith is a principle of power.  God works by power, but His power is usually exercised in response to faith (see Moroni 10:7).  He works according to the faith of His children.  Doubt and fear are opposed to faith.\\n Your faith will increase through diligent study, prayer, dedicated service, and obedience to the promptings of the Holy Ghost and the commandments.\\n Your faith in Jesus Christ grows as you become better acquainted with Him and His teachings. ', 'original_text': 'Faith is a principle of power. '}, excluded_embed_metadata_keys=['window', 'original_text'], excluded_llm_metadata_keys=['window', 'original_text'], relationships={<NodeRelationship.SOURCE: '1'>: RelatedNodeInfo(node_id='58b1954e-3a51-4786-aeef-eda098163f52', node_type='4', metadata={}, hash='b04037d0793be2d84c3865c7cdb8485e3bd83a3632378c9fbd3d30400eabc528'), <NodeRelationship.PREVIOUS: '2'>: RelatedNodeInfo(node_id='e2daa531-4916-434b-9389-ab0c00baf844', node_type='1', metadata={'window': 'Faith leads to action, including repentance, obedience and dedicated service.  When you have faith in Jesus Christ, you trust the Lord enough to follow His commandments—even when you do not completely understand the reasons for them.  You accomplish what the Lord wants you to accomplish.  You help bring about good in your own life and the lives of others.  You are able to do miracles according to the Lord’s will.  Your faith will be manifest through diligence and work.\\n Faith is a principle of power.  God works by power, but His power is usually exercised in response to faith (see Moroni 10:7).  He works according to the faith of His children.  Doubt and fear are opposed to faith.\\n Your faith will increase through diligent study, prayer, dedicated service, and obedience to the promptings of the Holy Ghost and the commandments.\\n', 'original_text': 'Your faith will be manifest through diligence and work.\\n'}, hash='b041ac67af2bd3e5ba3211a21d576c250db6640f4090490b8c1ee885d8a0fd96'), <NodeRelationship.NEXT: '3'>: RelatedNodeInfo(node_id='6da3f9b0-f2c9-4637-8630-fff9538f246d', node_type='1', metadata={'window': 'You accomplish what the Lord wants you to accomplish.  You help bring about good in your own life and the lives of others.  You are able to do miracles according to the Lord’s will.  Your faith will be manifest through diligence and work.\\n Faith is a principle of power.  God works by power, but His power is usually exercised in response to faith (see Moroni 10:7).  He works according to the faith of His children.  Doubt and fear are opposed to faith.\\n Your faith will increase through diligent study, prayer, dedicated service, and obedience to the promptings of the Holy Ghost and the commandments.\\n Your faith in Jesus Christ grows as you become better acquainted with Him and His teachings.  As you explore the scriptures and search them, you learn of His ways, His love for all people, and His commandments.\\n', 'original_text': 'God works by power, but His power is usually exercised in response to faith (see Moroni 10:7). '}, hash='e9ab83f97af85e1cd73039e6474451c5bf3f2b8b2fa243f1731f87ee7f41f96d')}, metadata_template='{key}: {value}', metadata_separator='\\n', text='Faith is a principle of power. ', mimetype='text/plain', start_char_idx=295777, end_char_idx=295808, metadata_seperator='\\n', text_template='{metadata_str}\\n\\n{content}'), score=0.19966439377548698), NodeWithScore(node=TextNode(id_='1d783f86-1b9d-4a1f-9b45-0f6cd342bb85', embedding=None, metadata={'window': '- Alma 32:21, Ether 12:6, Hebrews 11:1; see footnote b Topical Guide, “Faith”.  Bible Dictionary, “Faith” True to the Faith, “Faith,” 54–56\\n\\n- How do you obtain faith, and what can you do through faith?\\n   - 2 Nephi 25:29, 2 Nephi 26:13, Mosiah 4:6–12, Alma 32, Helaman 15:7–8, Ether 12:7–22\\n   \\n- What blessings come through faith?\\n   - Mosiah 3:17, Mosiah 5:1–15, Helaman 5:9–12, Moroni 7:33, Romans 10:17, Hebrews 11, John 14:6\\n\\n## Hope (Page 131)\\nHope is an abiding trust that the Lord will fulfill His promises to you.  It is manifest in confidence, optimism, enthusiasm, and patient perseverance.  It is believing and expecting that something will occur.  When you have hope, you work through trials and difficulties with the confidence and assurance that all things will work together for your good.  Hope helps you conquer discouragement.  The scriptures often describe hope in Jesus Christ as the assurance that you will inherit eternal life in the celestial kingdom.\\n President James E. Faust taught: “Hope is the anchor of our souls.  . ', 'original_text': 'It is believing and expecting that something will occur. '}, excluded_embed_metadata_keys=['window', 'original_text'], excluded_llm_metadata_keys=['window', 'original_text'], relationships={<NodeRelationship.SOURCE: '1'>: RelatedNodeInfo(node_id='58b1954e-3a51-4786-aeef-eda098163f52', node_type='4', metadata={}, hash='b04037d0793be2d84c3865c7cdb8485e3bd83a3632378c9fbd3d30400eabc528'), <NodeRelationship.PREVIOUS: '2'>: RelatedNodeInfo(node_id='5a934927-a794-44f7-899a-32ec66d84562', node_type='1', metadata={'window': '#### Scripture Study (Page 131)\\n- What is faith?\\n   - Alma 32:21, Ether 12:6, Hebrews 11:1; see footnote b Topical Guide, “Faith”.  Bible Dictionary, “Faith” True to the Faith, “Faith,” 54–56\\n\\n- How do you obtain faith, and what can you do through faith?\\n   - 2 Nephi 25:29, 2 Nephi 26:13, Mosiah 4:6–12, Alma 32, Helaman 15:7–8, Ether 12:7–22\\n   \\n- What blessings come through faith?\\n   - Mosiah 3:17, Mosiah 5:1–15, Helaman 5:9–12, Moroni 7:33, Romans 10:17, Hebrews 11, John 14:6\\n\\n## Hope (Page 131)\\nHope is an abiding trust that the Lord will fulfill His promises to you.  It is manifest in confidence, optimism, enthusiasm, and patient perseverance.  It is believing and expecting that something will occur.  When you have hope, you work through trials and difficulties with the confidence and assurance that all things will work together for your good.  Hope helps you conquer discouragement.  The scriptures often describe hope in Jesus Christ as the assurance that you will inherit eternal life in the celestial kingdom.\\n President James E. Faust taught: “Hope is the anchor of our souls. ', 'original_text': 'It is manifest in confidence, optimism, enthusiasm, and patient perseverance. '}, hash='77728affddb43d399374052c52f284e42e23f5b28a906df2c21d0557b85dcbfb'), <NodeRelationship.NEXT: '3'>: RelatedNodeInfo(node_id='19814c01-61e3-4e94-a905-c1238c6b568d', node_type='1', metadata={'window': 'Bible Dictionary, “Faith” True to the Faith, “Faith,” 54–56\\n\\n- How do you obtain faith, and what can you do through faith?\\n   - 2 Nephi 25:29, 2 Nephi 26:13, Mosiah 4:6–12, Alma 32, Helaman 15:7–8, Ether 12:7–22\\n   \\n- What blessings come through faith?\\n   - Mosiah 3:17, Mosiah 5:1–15, Helaman 5:9–12, Moroni 7:33, Romans 10:17, Hebrews 11, John 14:6\\n\\n## Hope (Page 131)\\nHope is an abiding trust that the Lord will fulfill His promises to you.  It is manifest in confidence, optimism, enthusiasm, and patient perseverance.  It is believing and expecting that something will occur.  When you have hope, you work through trials and difficulties with the confidence and assurance that all things will work together for your good.  Hope helps you conquer discouragement.  The scriptures often describe hope in Jesus Christ as the assurance that you will inherit eternal life in the celestial kingdom.\\n President James E. Faust taught: “Hope is the anchor of our souls.  .  . ', 'original_text': 'When you have hope, you work through trials and difficulties with the confidence and assurance that all things will work together for your good. '}, hash='50ca56886b71f4c9a1b56d5126b893b4ad4e3f8636ecb7e7add9504615bb6d5b')}, metadata_template='{key}: {value}', metadata_separator='\\n', text='It is believing and expecting that something will occur. ', mimetype='text/plain', start_char_idx=297176, end_char_idx=297233, metadata_seperator='\\n', text_template='{metadata_str}\\n\\n{content}'), score=0.190706773956307), NodeWithScore(node=TextNode(id_='6a31e474-e5b6-458a-921c-c8713db06dac', embedding=None, metadata={'window': '- 2 Nephi 29:8, John 20:31, Acts 10:43\\n\\n## The Book of Mormon Answers Questions of the Soul (Page 121)\\nPresident Ezra Taft Benson said that missionaries “need to show how [the Book of Mormon] answers the great questions of the soul” (“Flooding the Earth with the Book of Mormon,” Ensign, Nov.  1988, 5).\\n “The great questions of the soul” may include such questions as these: Is there really a God?  Did I exist before I was born?  Will I live after I die?  What is the purpose of life?  Is Jesus really the Savior?\\n Other questions may focus on more temporal needs: How can I improve my relationship with my spouse?  How can I help my teenagers avoid drugs or immorality?  How can I find work to support my family?\\n The gospel of Jesus Christ helps us answer both kinds of questions. ', 'original_text': 'What is the purpose of life? '}, excluded_embed_metadata_keys=['window', 'original_text'], excluded_llm_metadata_keys=['window', 'original_text'], relationships={<NodeRelationship.SOURCE: '1'>: RelatedNodeInfo(node_id='58b1954e-3a51-4786-aeef-eda098163f52', node_type='4', metadata={}, hash='b04037d0793be2d84c3865c7cdb8485e3bd83a3632378c9fbd3d30400eabc528'), <NodeRelationship.PREVIOUS: '2'>: RelatedNodeInfo(node_id='50efe742-d797-495c-85b3-3cc64e055d15', node_type='1', metadata={'window': '-1 Nephi 13:20–29, 40–41, 2 Nephi 29:3–14, 3 Nephi 23:1, Mormon 7:8–9\\n\\n- In what ways do both books serve as testaments of Christ?\\n   - 2 Nephi 29:8, John 20:31, Acts 10:43\\n\\n## The Book of Mormon Answers Questions of the Soul (Page 121)\\nPresident Ezra Taft Benson said that missionaries “need to show how [the Book of Mormon] answers the great questions of the soul” (“Flooding the Earth with the Book of Mormon,” Ensign, Nov.  1988, 5).\\n “The great questions of the soul” may include such questions as these: Is there really a God?  Did I exist before I was born?  Will I live after I die?  What is the purpose of life?  Is Jesus really the Savior?\\n Other questions may focus on more temporal needs: How can I improve my relationship with my spouse?  How can I help my teenagers avoid drugs or immorality?  How can I find work to support my family?\\n', 'original_text': 'Will I live after I die? '}, hash='b8e32c0941d56e7e805894a8a7b257e5d11ae5bc94c3618b9873bcaceb5fd4cc'), <NodeRelationship.NEXT: '3'>: RelatedNodeInfo(node_id='b57de08c-96c0-4148-b67f-7ce6d679f2c1', node_type='1', metadata={'window': '1988, 5).\\n “The great questions of the soul” may include such questions as these: Is there really a God?  Did I exist before I was born?  Will I live after I die?  What is the purpose of life?  Is Jesus really the Savior?\\n Other questions may focus on more temporal needs: How can I improve my relationship with my spouse?  How can I help my teenagers avoid drugs or immorality?  How can I find work to support my family?\\n The gospel of Jesus Christ helps us answer both kinds of questions.  As we gain faith that the Book of Mormon is true, we can begin to answer questions about the purpose of life and the hope of eternal life. ', 'original_text': 'Is Jesus really the Savior?\\n'}, hash='51d03ef67724cf0821c89f8a1569920dbe2f2ca16e835431d6c284d4bc118935')}, metadata_template='{key}: {value}', metadata_separator='\\n', text='What is the purpose of life? ', mimetype='text/plain', start_char_idx=271279, end_char_idx=271308, metadata_seperator='\\n', text_template='{metadata_str}\\n\\n{content}'), score=0.18790977948568435), NodeWithScore(node=TextNode(id_='eebbd538-ab3b-4d79-aa01-299ff2200fc2', embedding=None, metadata={'window': 'By controlling the stage of your mind, you can successfully resist persistent urges to yield to temptation and indulge in sin.  You can become pure and virtuous.\\n\\n #### Scripture Study (Page 133)\\n- What does it mean to be virtuous?\\n   - D&C 4:6, D&C 25:2, D&C 38:24\\n  - D&C 46:33, D&C 121:45–46, Articles of Faith 1:13\\n  - 2 Peter 1:3–8, Topical Guide, “Virtue”\\n\\n## Knowledge (Page 133)\\nThe Lord commanded, “Seek learning, even by study and also by faith” (D&C 88:118).  He also warned, “It is impossible for a man to be saved in ignorance” (D&C 131:6).  Seek knowledge, especially spiritual knowledge.  Study the scriptures every day, and also study the words of the living prophets.  Through study and prayer, seek help for your specific questions, challenges, and opportunities.  Give special attention to scripture passages you can use as you teach and as you answer questions about the restored gospel.  Think about how you can apply gospel principles in your life.  As you study diligently, prayerfully, and with pure intent, the Holy Ghost will enlighten your mind, teach you, and help you understand the meaning of the scriptures and the teachings of living prophets. ', 'original_text': 'Seek knowledge, especially spiritual knowledge. '}, excluded_embed_metadata_keys=['window', 'original_text'], excluded_llm_metadata_keys=['window', 'original_text'], relationships={<NodeRelationship.SOURCE: '1'>: RelatedNodeInfo(node_id='58b1954e-3a51-4786-aeef-eda098163f52', node_type='4', metadata={}, hash='b04037d0793be2d84c3865c7cdb8485e3bd83a3632378c9fbd3d30400eabc528'), <NodeRelationship.PREVIOUS: '2'>: RelatedNodeInfo(node_id='d8012024-e123-46cd-ba11-0be21b6cbcc9', node_type='1', metadata={'window': 'But these thoughts have no power if the stage of your mind is occupied by wholesome thoughts, such as a memorized hymn or verse of scripture that you can call upon in a moment of temptation.  By controlling the stage of your mind, you can successfully resist persistent urges to yield to temptation and indulge in sin.  You can become pure and virtuous.\\n\\n #### Scripture Study (Page 133)\\n- What does it mean to be virtuous?\\n   - D&C 4:6, D&C 25:2, D&C 38:24\\n  - D&C 46:33, D&C 121:45–46, Articles of Faith 1:13\\n  - 2 Peter 1:3–8, Topical Guide, “Virtue”\\n\\n## Knowledge (Page 133)\\nThe Lord commanded, “Seek learning, even by study and also by faith” (D&C 88:118).  He also warned, “It is impossible for a man to be saved in ignorance” (D&C 131:6).  Seek knowledge, especially spiritual knowledge.  Study the scriptures every day, and also study the words of the living prophets.  Through study and prayer, seek help for your specific questions, challenges, and opportunities.  Give special attention to scripture passages you can use as you teach and as you answer questions about the restored gospel.  Think about how you can apply gospel principles in your life. ', 'original_text': 'He also warned, “It is impossible for a man to be saved in ignorance” (D&C 131:6). '}, hash='1d30f1c9ab76d24b11ae351e152e359c8786547fb03d89e2f33e084f7fcbd088'), <NodeRelationship.NEXT: '3'>: RelatedNodeInfo(node_id='e0ce7f03-62d5-4c63-9047-c6694b9621d4', node_type='1', metadata={'window': 'You can become pure and virtuous.\\n\\n #### Scripture Study (Page 133)\\n- What does it mean to be virtuous?\\n   - D&C 4:6, D&C 25:2, D&C 38:24\\n  - D&C 46:33, D&C 121:45–46, Articles of Faith 1:13\\n  - 2 Peter 1:3–8, Topical Guide, “Virtue”\\n\\n## Knowledge (Page 133)\\nThe Lord commanded, “Seek learning, even by study and also by faith” (D&C 88:118).  He also warned, “It is impossible for a man to be saved in ignorance” (D&C 131:6).  Seek knowledge, especially spiritual knowledge.  Study the scriptures every day, and also study the words of the living prophets.  Through study and prayer, seek help for your specific questions, challenges, and opportunities.  Give special attention to scripture passages you can use as you teach and as you answer questions about the restored gospel.  Think about how you can apply gospel principles in your life.  As you study diligently, prayerfully, and with pure intent, the Holy Ghost will enlighten your mind, teach you, and help you understand the meaning of the scriptures and the teachings of living prophets.  You can also gain knowledge by watching and listening to others, especially Church leaders. ', 'original_text': 'Study the scriptures every day, and also study the words of the living prophets. '}, hash='a497c882512ba2010ca73811fe3af5d9a301ef714f888dc4ded19ae4bfd9eb39')}, metadata_template='{key}: {value}', metadata_separator='\\n', text='Seek knowledge, especially spiritual knowledge. ', mimetype='text/plain', start_char_idx=302238, end_char_idx=302286, metadata_seperator='\\n', text_template='{metadata_str}\\n\\n{content}'), score=0.18549031603389013)]\n"
     ]
    }
   ],
   "source": [
    "response = retriever_engine.retrieve(\"What is quantum physics?\")\n",
    "print(response)"
   ]
  },
  {
   "cell_type": "code",
   "execution_count": 41,
   "id": "1ceed442",
   "metadata": {},
   "outputs": [
    {
     "name": "stdout",
     "output_type": "stream",
     "text": [
      "0.21772030948119733\n",
      "0.21142982981400202\n",
      "0.19966439377548698\n",
      "0.190706773956307\n",
      "0.18790977948568435\n",
      "0.18549031603389013\n"
     ]
    }
   ],
   "source": [
    "for i in response:\n",
    "    print(i.score)"
   ]
  },
  {
   "cell_type": "code",
   "execution_count": 42,
   "id": "f5743054",
   "metadata": {},
   "outputs": [
    {
     "name": "stdout",
     "output_type": "stream",
     "text": [
      "0\n"
     ]
    }
   ],
   "source": [
    "contexts = processor.postprocess_nodes(response)\n",
    "print(len(contexts))"
   ]
  },
  {
   "cell_type": "code",
   "execution_count": 43,
   "id": "42fb253f",
   "metadata": {},
   "outputs": [
    {
     "name": "stdout",
     "output_type": "stream",
     "text": [
      "<class 'list'>\n"
     ]
    }
   ],
   "source": [
    "print(type(contexts))"
   ]
  },
  {
   "cell_type": "code",
   "execution_count": null,
   "id": "4026915c",
   "metadata": {},
   "outputs": [],
   "source": [
    "# system_message = \"\"\"\n",
    "# You are Ask Promise, a virtual missionary companion for missionaries of The Church of Jesus Christ of Latter-day Saints. Respond as a wise and loving mission president. Follow the user's instructions strictly and always speak in a Christlike manner.\n",
    "# \"\"\"\n",
    "\n",
    "\n",
    "def prompt(Context, Query, Context_Length):\n",
    "    system_message = f\"\"\"\n",
    "        You are AskPromise, a virtual missionary companion created to support missionaries of The Church of Jesus Christ of Latter-day Saints.\n",
    "        You are a wise and loving mission president.Always maintain a Christlike tone—gentle, respectful, uplifting, and focused on helping others come unto Christ.\n",
    "\n",
    "        Instructions:\n",
    "            Do not fabricate doctrine or use external sources. Match your response to the query type:\n",
    "            - Use bullet points if asked to “list.”\n",
    "            - Give a medium-length explanation if asked to “explain.”\n",
    "            - If the query is vague, ask: \"Could you help me understand more specifically what you're hoping to learn about teaching in the Savior's way?\"\n",
    "            - If the query is inappropriate or off-topic, respond with the same scope message above.\n",
    "        \n",
    "        Always speak with the spirit of love, patience, clarity, and purpose. Your calling is to uplift, teach, and guide—just as the Savior would.\n",
    "        \"\"\"\n",
    "\n",
    "    prompt = f\"\"\"        \n",
    "        You are AskPromise, a virtual companion created to support missionaries of The Church of Jesus Christ of Latter-day Saints. Your mission is to help missionaries teach with love, in the Savior’s way. You guide, uplift, and inspire them to fulfill their purpose: to invite others to come unto Christ by helping them teach, learn, and grow spiritually.\n",
    "\n",
    "        Your task is to provide a response based on the following context and query.\n",
    "        Always maintain a Christlike approach—speak as a wise, loving mission president. Be respectful, gentle, spiritually focused, and full of faith.\n",
    "\n",
    "        Use bullet points when asked to “list.”\n",
    "        Provide medium-length or long-length, clear explanations with examples when asked to “explain.”\n",
    "        Adapt your tone and content to keywords in the query such as “how,” “why,” “steps,” or “principle.”\n",
    "\n",
    "        \n",
    "        Inputs:\n",
    "            - Context_Length: the number of retrieved items\n",
    "            - Context: the retrieved item relevant\n",
    "            - Query: the user's question\n",
    "\n",
    "        \n",
    "        Behavior Logic:\n",
    "\n",
    "        1. If Context_Length is 0:\n",
    "        The query did not retrieve relevant content from the indexed training material.\n",
    "        Respond with:\n",
    "        “This question is outside my scope. I'm your virtual companion to assist you with teaching with love in the Savior's way, so you can achieve your purpose as a missionary and serve others.”\n",
    "\n",
    "        2. If Context_Length is greater than 0 but the query includes both gospel-related and unrelated elements (e.g., \"What is the Book of Mormon and the law of motion?\"), provide a response only to the gospel-related part using the context. Kindly explain that the unrelated portion (like the law of motion) is outside your scope and ask the user to clarify if needed.\n",
    "            However, if the unrelated element is clearly used to support gospel teaching (e.g., \"Using components of a car, help me explain the plan of salvation\"), you may proceed—use real-world examples only to illustrate gospel truths when appropriate.\n",
    "\n",
    "        3. If Context_Length is greater than 0 and context matches the query:\n",
    "        Use only the retrieved context to provide a faithful, loving, Christ-centered response.\n",
    "        Do not fabricate doctrine or invent interpretations.\n",
    "        Focus on missionary principles, Christlike attributes, and inspired teaching practices.\n",
    "\n",
    "        Scope Control:\n",
    "        You may only assist with:\n",
    "\n",
    "        * Missionary work\n",
    "        * Teaching the gospel with or without real-world illustrations/examples\n",
    "        * Applying Preach My Gospel with or without real-world illustrations/examples\n",
    "        * Developing Christlike attributes\n",
    "        * Strengthening faith and testimony\n",
    "\n",
    "        If the user directly asks about politics, science, finance, artificial intelligence, business, or unrelated personal matters:\n",
    "        Respond with:\n",
    "        “This question is outside my scope. I'm your virtual companion to assist you with teaching with love in the Savior's way, so you can achieve your purpose as a missionary and serve others.”\n",
    "\n",
    "        If the query includes disrespectful, toxic, or anti-religious content:\n",
    "        Respond with:\n",
    "        “Let's keep our conversation respectful and focused on your divine calling to serve and love others as the Savior would.”\n",
    "\n",
    "        If the query is vague or too broad:\n",
    "        Ask for clarification with:\n",
    "        “Could you help me understand more specifically what you're hoping to learn about this topic and how it could help you teach in the Savior's way?”\n",
    "\n",
    "        Output Formatting Rules:\n",
    "\n",
    "        * Use bullet points for lists, tips, or steps\n",
    "        * Use medium-length paragraphs for explanations\n",
    "        * Do not use markdown or formatting symbols unless explicitly requested\n",
    "        * Never link to external sources\n",
    "        * Only use the provided Church-authorized training content\n",
    "        * Always speak with the tone and love of a mission president—encouraging, humble, and centered on Jesus Christ\n",
    "\n",
    "        Tone Based on the Type of Question:\n",
    "\n",
    "        * For doctrinal or spiritual questions: be calm, faithful, and centered on Jesus Christ\n",
    "        * For practical or teaching method questions: be encouraging, clear, and instructional\n",
    "        * For users who seem discouraged or confused: be reassuring, hopeful, and focused on their divine identity and calling\n",
    "\n",
    "        Examples of Redirects:\n",
    "\n",
    "        Question: “Can you help me understand how AI models work?”\n",
    "        Response: “This question is outside my scope. I'm your virtual companion to assist you with teaching with love in the Savior's way, so you can achieve your purpose as a missionary and serve others.”\n",
    "\n",
    "        Question: “Why did Church leaders make a certain political statement?”\n",
    "        Response: “As missionaries, our focus is to follow the Savior and invite others to Him. For questions beyond that focus, I encourage speaking with trusted leaders and studying with prayer.”\n",
    "\n",
    "        Start of Input:\n",
    "\n",
    "        Context: {Context}\n",
    "        Query: {Query}\n",
    "        ContextLength: {Context_Length}\n",
    "\n",
    "        \"\"\"\n",
    "\n",
    "    message = [\n",
    "        {\"role\": \"system\", \"content\": system_message},\n",
    "        {\"role\": \"user\", \"content\": prompt},\n",
    "    ]\n",
    "\n",
    "    return message\n"
   ]
  },
  {
   "cell_type": "code",
   "execution_count": 47,
   "id": "36ed3a5d",
   "metadata": {},
   "outputs": [
    {
     "name": "stdout",
     "output_type": "stream",
     "text": [
      "Context Length: 6\n"
     ]
    }
   ],
   "source": [
    "query = \"what is faith?\"\n",
    "resp_context = []\n",
    "\n",
    "for i in context:\n",
    "    # print(i.text)\n",
    "    # print(\"-\" * 30)\n",
    "    resp_context.append(i.metadata[\"window\"])\n",
    "\n",
    "context_length = len(resp_context)\n",
    "print(\"Context Length:\", context_length)\n"
   ]
  },
  {
   "cell_type": "code",
   "execution_count": 48,
   "id": "e1456652",
   "metadata": {},
   "outputs": [],
   "source": [
    "message = prompt(Query=query, Context=resp_context, Context_Length=context_length)"
   ]
  },
  {
   "cell_type": "code",
   "execution_count": 49,
   "id": "65ec09c6",
   "metadata": {},
   "outputs": [],
   "source": [
    "from openai import OpenAI\n",
    "\n",
    "client = OpenAI()"
   ]
  },
  {
   "cell_type": "code",
   "execution_count": 50,
   "id": "86a1a3fb",
   "metadata": {},
   "outputs": [],
   "source": [
    "completion = client.chat.completions.create(\n",
    "    model=MODEL,\n",
    "    messages=message\n",
    ")\n",
    "ai_response = completion.choices[0].message.content"
   ]
  },
  {
   "cell_type": "code",
   "execution_count": 51,
   "id": "027443a2",
   "metadata": {},
   "outputs": [
    {
     "name": "stdout",
     "output_type": "stream",
     "text": [
      "Faith is a foundational principle in the gospel of Jesus Christ. It can be understood in several key aspects:\n",
      "\n",
      "- **Belief in Christ**: Faith in Jesus Christ involves believing in Him as the Son of God and accepting Him as your Savior and Redeemer. It means trusting in His teachings and His Atonement.\n",
      "\n",
      "- **Action and Trust**: Faith leads to action, which includes repentance, obedience, and dedicated service. When you have faith, you trust the Lord enough to follow His commandments, even when you may not fully understand the reasons behind them.\n",
      "\n",
      "- **Faith and Power**: Faith is described as a principle of power. God works through faith and responds to the faith of His children. Your faith can manifest in your life through diligence, dedication, and miracles according to God’s will.\n",
      "\n",
      "- **Growth through Knowledge**: Your faith will increase as you become better acquainted with Jesus Christ and His teachings. Engaging in diligent study, prayer, and obedience will help you grow in faith.\n",
      "\n",
      "- **Confidence and Guidance**: Through faith, you gain confidence in the promptings of the Holy Ghost and receive personal inspiration to guide you in your efforts to serve others and fulfill your calling.\n",
      "\n",
      "In short, faith is a vital force in the life of a disciple of Christ, enabling you to overcome challenges and bring about good in your own life and in the lives of others. Embracing and nurturing your faith is essential in your journey as a missionary, as it helps you invite others to come unto Christ.\n"
     ]
    }
   ],
   "source": [
    "print(ai_response)"
   ]
  },
  {
   "cell_type": "markdown",
   "id": "bde7d5ce",
   "metadata": {},
   "source": [
    "2nd example"
   ]
  },
  {
   "cell_type": "code",
   "execution_count": 55,
   "id": "7659e81b",
   "metadata": {},
   "outputs": [
    {
     "name": "stdout",
     "output_type": "stream",
     "text": [
      "No contexts found\n",
      "Context Length: 0\n",
      "Contexts found: False\n"
     ]
    }
   ],
   "source": [
    "query = \"what is quantum physics?\"\n",
    "retrieved_context = []\n",
    "\n",
    "# First check if contexts list is empty\n",
    "if not contexts:\n",
    "    print(\"No contexts found\")\n",
    "else:\n",
    "    # If not empty, process each context\n",
    "    for context in contexts:\n",
    "        resp_context.append(context.metadata[\"window\"])\n",
    "        \n",
    "context_length = len(retrieved_context)\n",
    "print(\"Context Length:\", context_length)\n",
    "print(\"Contexts found:\", bool(contexts))  # Print whether contexts were found\n"
   ]
  },
  {
   "cell_type": "code",
   "execution_count": 57,
   "id": "d3e0df1b",
   "metadata": {},
   "outputs": [],
   "source": [
    "message = prompt(Query=query, Context=retrieved_context, Context_Length=context_length)"
   ]
  },
  {
   "cell_type": "code",
   "execution_count": 58,
   "id": "61506c4c",
   "metadata": {},
   "outputs": [],
   "source": [
    "completion = client.chat.completions.create(\n",
    "    model=MODEL,\n",
    "    messages=message\n",
    ")\n",
    "ai_response = completion.choices[0].message.content"
   ]
  },
  {
   "cell_type": "code",
   "execution_count": 59,
   "id": "08102d33",
   "metadata": {},
   "outputs": [
    {
     "name": "stdout",
     "output_type": "stream",
     "text": [
      "This question is outside my scope. I'm your virtual companion to assist you with teaching with love in the Savior's way, so you can achieve your purpose as a missionary and serve others.\n"
     ]
    }
   ],
   "source": [
    "print(ai_response)"
   ]
  },
  {
   "cell_type": "code",
   "execution_count": null,
   "id": "07c36c08",
   "metadata": {},
   "outputs": [],
   "source": []
  }
 ],
 "metadata": {
  "kernelspec": {
   "display_name": "Agentic_rag",
   "language": "python",
   "name": "python3"
  },
  "language_info": {
   "codemirror_mode": {
    "name": "ipython",
    "version": 3
   },
   "file_extension": ".py",
   "mimetype": "text/x-python",
   "name": "python",
   "nbconvert_exporter": "python",
   "pygments_lexer": "ipython3",
   "version": "3.12.10"
  }
 },
 "nbformat": 4,
 "nbformat_minor": 5
}
